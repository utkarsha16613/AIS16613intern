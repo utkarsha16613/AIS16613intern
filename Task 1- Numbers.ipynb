{
 "cells": [
  {
   "cell_type": "markdown",
   "id": "3f9c81a3-410d-4811-9f48-69032f0046b3",
   "metadata": {},
   "source": [
    "Python Datatypes"
   ]
  },
  {
   "cell_type": "markdown",
   "id": "46750a69-b843-4a2e-805c-b919fa2b916e",
   "metadata": {},
   "source": [
    "# Immutable Datatypes\n",
    "# 1. Numbers"
   ]
  },
  {
   "cell_type": "markdown",
   "id": "91dbd288-0661-457d-a12e-b7ee96b739e9",
   "metadata": {},
   "source": [
    "There are three numeric types in Python:\n",
    "\n",
    "* int\n",
    "* float\n",
    "* complex"
   ]
  },
  {
   "cell_type": "markdown",
   "id": "ba0d4cd2-3fc4-4f73-81a1-e679514b978c",
   "metadata": {},
   "source": [
    "  1. Int\n",
    "\n",
    "     Int, or integer, is a whole number, positive or negative, without decimals, of unlimited length."
   ]
  },
  {
   "cell_type": "code",
   "execution_count": 1,
   "id": "89e4fbea-525c-41dc-9c4e-551d3d970885",
   "metadata": {},
   "outputs": [
    {
     "name": "stdout",
     "output_type": "stream",
     "text": [
      "<class 'int'>\n",
      "<class 'int'>\n",
      "<class 'int'>\n"
     ]
    }
   ],
   "source": [
    "a=5\n",
    "b=4578931135\n",
    "c=-12365\n",
    "print(type(a))\n",
    "print(type(b))\n",
    "print(type(c))"
   ]
  },
  {
   "cell_type": "markdown",
   "id": "e49ea542-4392-4ffc-8e56-d1246abc4154",
   "metadata": {},
   "source": [
    "2. Float\n",
    "\n",
    "   Float, or \"floating point number\" is a number, positive or negative, containing one or more decimals."
   ]
  },
  {
   "cell_type": "code",
   "execution_count": 2,
   "id": "60ded0a0-e833-4a4d-8552-2f8b48335d15",
   "metadata": {},
   "outputs": [
    {
     "name": "stdout",
     "output_type": "stream",
     "text": [
      "<class 'float'>\n",
      "<class 'float'>\n",
      "<class 'float'>\n"
     ]
    }
   ],
   "source": [
    "x=3.56\n",
    "y=-13.59\n",
    "z=-56.26e23\n",
    "print(type(x))\n",
    "print(type(y))\n",
    "print(type(z))"
   ]
  },
  {
   "cell_type": "markdown",
   "id": "311c4922-9024-468c-a6a2-55d469a3eabe",
   "metadata": {},
   "source": [
    "3. Complex\n",
    "\n",
    "   Complex numbers are written with a \"j\" as the imaginary part:"
   ]
  },
  {
   "cell_type": "code",
   "execution_count": 4,
   "id": "f219a493-da10-474b-aa24-cda645e2dc55",
   "metadata": {},
   "outputs": [
    {
     "name": "stdout",
     "output_type": "stream",
     "text": [
      "<class 'complex'>\n",
      "<class 'complex'>\n",
      "<class 'complex'>\n"
     ]
    }
   ],
   "source": [
    "x = 3-2j\n",
    "y = 5j\n",
    "z = -5j\n",
    "\n",
    "print(type(x))\n",
    "print(type(y))\n",
    "print(type(z))"
   ]
  }
 ],
 "metadata": {
  "kernelspec": {
   "display_name": "Python 3 (ipykernel)",
   "language": "python",
   "name": "python3"
  },
  "language_info": {
   "codemirror_mode": {
    "name": "ipython",
    "version": 3
   },
   "file_extension": ".py",
   "mimetype": "text/x-python",
   "name": "python",
   "nbconvert_exporter": "python",
   "pygments_lexer": "ipython3",
   "version": "3.11.7"
  }
 },
 "nbformat": 4,
 "nbformat_minor": 5
}
