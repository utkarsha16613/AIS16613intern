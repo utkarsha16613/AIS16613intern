{
 "cells": [
  {
   "cell_type": "markdown",
   "id": "28ff3cc3-18c9-4277-bb20-60b7cfc40967",
   "metadata": {},
   "source": [
    "# Pass Statement"
   ]
  },
  {
   "cell_type": "markdown",
   "id": "6d236f3b-4156-4fac-bcc9-186ea5c902cd",
   "metadata": {},
   "source": [
    "The pass is the keyword In Python, which won’t do anything.\n",
    "\n",
    "Sometimes there is a situation in programming where we need to define a syntactically empty block.\n",
    "We can define that block with the pass keyword.\n",
    "\n",
    "The pass statement is a null statement that serves as a placeholder for future code. \n",
    "\n",
    "It doesn’t perform any action when executed but can be useful in scenarios where you want to indicate that a certain part of your code will be implemented later."
   ]
  },
  {
   "cell_type": "markdown",
   "id": "3874fd96-8fd7-4ebc-a42d-e980af9f12c0",
   "metadata": {},
   "source": [
    "A pass statement is a Python null statement. \n",
    "\n",
    "When the interpreter finds a pass statement in the program, it returns no operation. \n",
    "\n",
    "Nothing happens when the pass statement is executed.\n",
    "\n",
    "* Use\n",
    "\n",
    "It is useful in a situation where we are implementing new methods or also in exception handling. It plays a role like a placeholder."
   ]
  },
  {
   "cell_type": "markdown",
   "id": "792602ac-9746-44b7-8939-34e781441ace",
   "metadata": {},
   "source": [
    "* Syntax of pass statement:\n",
    "\n",
    "for element in sequence:\n",
    "\n",
    "    if condition:\n",
    "    \n",
    "        pass"
   ]
  },
  {
   "cell_type": "code",
   "execution_count": 1,
   "id": "60609444-e852-4b86-aff6-08cdf5c609f7",
   "metadata": {},
   "outputs": [
    {
     "name": "stdout",
     "output_type": "stream",
     "text": [
      "['January', 'June', 'March', 'April']\n"
     ]
    }
   ],
   "source": [
    "months = ['January', 'June', 'March', 'April']\n",
    "for mon in months:\n",
    "    pass\n",
    "print(months)"
   ]
  },
  {
   "cell_type": "code",
   "execution_count": 5,
   "id": "2e105f5f-758d-4662-a458-358d3664e5d5",
   "metadata": {},
   "outputs": [
    {
     "name": "stdout",
     "output_type": "stream",
     "text": [
      "Positive Number.\n"
     ]
    }
   ],
   "source": [
    "number=10\n",
    "if number>0:\n",
    "    print(\"Positive Number.\")\n",
    "elif number == 0:\n",
    "    pass  # Nothing to do for zero\n",
    "else:\n",
    "  print(\"Negative Number.\")"
   ]
  },
  {
   "cell_type": "code",
   "execution_count": 9,
   "id": "e9dce5c5-a66e-428c-96a1-96b3c83c6ea9",
   "metadata": {},
   "outputs": [
    {
     "name": "stdout",
     "output_type": "stream",
     "text": [
      "60\n",
      "50\n",
      "Fail.\n",
      "30\n",
      "Fail.\n",
      "20\n"
     ]
    }
   ],
   "source": [
    "M=[60,50,30,20]\n",
    "for i in M:\n",
    "    if i < 35:\n",
    "        print(\"Fail.\")\n",
    "        pass\n",
    "    print(i)"
   ]
  }
 ],
 "metadata": {
  "kernelspec": {
   "display_name": "Python 3 (ipykernel)",
   "language": "python",
   "name": "python3"
  },
  "language_info": {
   "codemirror_mode": {
    "name": "ipython",
    "version": 3
   },
   "file_extension": ".py",
   "mimetype": "text/x-python",
   "name": "python",
   "nbconvert_exporter": "python",
   "pygments_lexer": "ipython3",
   "version": "3.11.7"
  }
 },
 "nbformat": 4,
 "nbformat_minor": 5
}
