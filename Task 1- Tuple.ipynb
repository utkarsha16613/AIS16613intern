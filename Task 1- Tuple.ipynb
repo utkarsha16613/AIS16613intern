{
 "cells": [
  {
   "cell_type": "markdown",
   "id": "08d46885-bef7-4300-8cfc-96e2e6471375",
   "metadata": {},
   "source": [
    "# Python Collections (Arrays)\n",
    "There are four collection data types in the Python programming language:\n",
    "\n",
    "* List is a collection which is ordered and changeable. Allows duplicate members.\n",
    "* Tuple is a collection which is ordered and unchangeable. Allows duplicate members.\n",
    "* Set is a collection which is unordered, unchangeable*, and unindexed. No duplicate members.\n",
    "* Dictionary is a collection which is ordered** and changeable. No duplicate members."
   ]
  },
  {
   "cell_type": "markdown",
   "id": "a61d4da5-4b63-4842-99ea-59a8f997ecc4",
   "metadata": {},
   "source": [
    "# 3.Tuple\n",
    "Tuples are used to store multiple items in a single variable.\n",
    "\n",
    "Tuple is one of 4 built-in data types in Python used to store collections of data, the other 3 are List, Set, and Dictionary, all with different qualities and usage.\n",
    "\n",
    "A tuple is a collection which is ordered and unchangeable.\n",
    "\n",
    "Tuples are written with round brackets."
   ]
  },
  {
   "cell_type": "raw",
   "id": "1b174e14-48c4-4b12-b28a-a907fbbcf928",
   "metadata": {},
   "source": [
    "Example:\n",
    "\n",
    "Create a Tuple:"
   ]
  },
  {
   "cell_type": "raw",
   "id": "b3ee9d7a-328f-46ef-a70f-f14928afd939",
   "metadata": {},
   "source": [
    "tuple = (\"apple\", \"banana\", \"cherry\")\n",
    "print(tuple)"
   ]
  },
  {
   "cell_type": "markdown",
   "id": "feacb14e-2a6b-47ae-b080-ce6e5fe4f11f",
   "metadata": {},
   "source": [
    "* Tuple Items\n",
    "\n",
    "Tuple items are ordered, unchangeable, and allow duplicate values.\n",
    "\n",
    "Tuple items are indexed, the first item has index [0], the second item has index [1] etc.\n",
    "\n",
    "* Ordered\n",
    "When we say that tuples are ordered, it means that the items have a defined order, and that order will not change.\n",
    "\n",
    "* Unchangeable\n",
    "Tuples are unchangeable, meaning that we cannot change, add or remove items after the tuple has been created.\n",
    "\n",
    "* Allow Duplicates\n",
    "Since tuples are indexed, they can have items with the same value:"
   ]
  },
  {
   "cell_type": "raw",
   "id": "0cddce5d-c0c7-4ab1-aecd-1acf18f88e17",
   "metadata": {},
   "source": [
    "Tuples allow duplicate values: Example"
   ]
  },
  {
   "cell_type": "code",
   "execution_count": 2,
   "id": "155dd8c8-fd4a-4102-8db5-fccdff63daba",
   "metadata": {},
   "outputs": [
    {
     "name": "stdout",
     "output_type": "stream",
     "text": [
      "('apple', 'banana', 'cherry', 'banana')\n"
     ]
    }
   ],
   "source": [
    "tuple = (\"apple\", \"banana\", \"cherry\", \"banana\")\n",
    "print(tuple)"
   ]
  },
  {
   "cell_type": "markdown",
   "id": "8a423c2d-c4ca-4fd8-93a5-febfa0be6b61",
   "metadata": {},
   "source": [
    "* Tuple Length\n",
    " \n",
    "To determine how many items a tuple has, use the len() function:"
   ]
  },
  {
   "cell_type": "code",
   "execution_count": 3,
   "id": "911e6275-8b33-4f2c-aba5-d713384388b8",
   "metadata": {},
   "outputs": [
    {
     "name": "stdout",
     "output_type": "stream",
     "text": [
      "4\n"
     ]
    }
   ],
   "source": [
    "tuple = (\"apple\", \"banana\", \"cherry\", \"banana\")\n",
    "print(len(tuple))"
   ]
  },
  {
   "cell_type": "markdown",
   "id": "9d67a429-2ef4-47b7-8804-e61d3532789b",
   "metadata": {},
   "source": [
    "* Create Tuple With One Item\n",
    "\n",
    "To create a tuple with only one item, you have to add a comma after the item, otherwise Python will not recognize it as a tuple."
   ]
  },
  {
   "cell_type": "raw",
   "id": "7f3f9a6a-c696-46e7-962b-8dcc7e335331",
   "metadata": {},
   "source": [
    "One item tuple, remember the comma:"
   ]
  },
  {
   "cell_type": "code",
   "execution_count": 4,
   "id": "af96e3eb-2810-452c-bd6b-8c1940f56fd4",
   "metadata": {},
   "outputs": [
    {
     "name": "stdout",
     "output_type": "stream",
     "text": [
      "<class 'tuple'>\n"
     ]
    }
   ],
   "source": [
    "tuple = (\"apple\",)\n",
    "print(type(tuple))"
   ]
  },
  {
   "cell_type": "raw",
   "id": "4a9bcf4e-c413-4f28-a066-742b66a4d498",
   "metadata": {},
   "source": [
    "#NOT a tuple\n",
    "tuple = (\"apple\")\n",
    "print(type(tuple))"
   ]
  },
  {
   "cell_type": "markdown",
   "id": "4b38d8a0-5bcb-4f14-8e4f-710efcdf16e2",
   "metadata": {},
   "source": [
    "* Tuple Items - Data Types\n",
    "\n",
    "Tuple items can be of any data type:"
   ]
  },
  {
   "cell_type": "raw",
   "id": "c48c5042-ab5b-492c-9749-40097cefacfd",
   "metadata": {},
   "source": [
    "# String, int and boolean data types:"
   ]
  },
  {
   "cell_type": "code",
   "execution_count": 6,
   "id": "52535487-7448-4fc8-90b2-5dd0c0dd6b7f",
   "metadata": {},
   "outputs": [
    {
     "name": "stdout",
     "output_type": "stream",
     "text": [
      "('apple', 'banana', 'cherry')\n",
      "(1, 5, 7, 9, 3)\n",
      "(True, False, False)\n"
     ]
    }
   ],
   "source": [
    "tuple1 = (\"apple\", \"banana\", \"cherry\")\n",
    "tuple2 = (1, 5, 7, 9, 3)\n",
    "tuple3 = (True, False, False)\n",
    "print(tuple1)\n",
    "print(tuple2)\n",
    "print(tuple3)"
   ]
  },
  {
   "cell_type": "raw",
   "id": "1effe71e-c8f4-4f82-8afe-d6249d47f616",
   "metadata": {},
   "source": [
    "# A tuple can contain different data types:\n",
    "A tuple with strings, integers and boolean values:"
   ]
  },
  {
   "cell_type": "code",
   "execution_count": 7,
   "id": "7d256e6a-462d-4bb5-9b30-7aeecf979816",
   "metadata": {},
   "outputs": [
    {
     "name": "stdout",
     "output_type": "stream",
     "text": [
      "('abc', 34, True, 40, 'male')\n"
     ]
    }
   ],
   "source": [
    "tuple1 = (\"abc\", 34, True, 40, \"male\")\n",
    "print(tuple1)"
   ]
  },
  {
   "cell_type": "markdown",
   "id": "2cf83ff9-1d4a-4850-ae28-9a854cf27c57",
   "metadata": {},
   "source": [
    "* type()\n",
    "\n",
    "From Python's perspective, tuples are defined as objects with the data type 'tuple':"
   ]
  },
  {
   "cell_type": "raw",
   "id": "c65637c9-7cd5-458c-8d42-53ccebe89b33",
   "metadata": {},
   "source": [
    "data type of a tuple"
   ]
  },
  {
   "cell_type": "code",
   "execution_count": 8,
   "id": "17e0fb5d-3f6d-405e-93b3-2b59be561cfc",
   "metadata": {},
   "outputs": [
    {
     "name": "stdout",
     "output_type": "stream",
     "text": [
      "<class 'tuple'>\n"
     ]
    }
   ],
   "source": [
    "mytuple = (\"apple\", \"banana\", \"cherry\")\n",
    "print(type(mytuple))"
   ]
  },
  {
   "cell_type": "markdown",
   "id": "2f926519-f000-40f9-9d93-4a9c5219e3ec",
   "metadata": {},
   "source": [
    "* The tuple() Constructor\n",
    "\n",
    "It is also possible to use the tuple() constructor to make a tuple."
   ]
  },
  {
   "cell_type": "raw",
   "id": "d9d24ed0-a0ea-49b1-b2b0-23ee7d2e3f8f",
   "metadata": {},
   "source": [
    "Using the tuple() method to make a tuple:"
   ]
  },
  {
   "cell_type": "code",
   "execution_count": 9,
   "id": "25887e88-957a-48ca-ba6c-e1ef498e5254",
   "metadata": {},
   "outputs": [
    {
     "ename": "TypeError",
     "evalue": "'str' object is not callable",
     "output_type": "error",
     "traceback": [
      "\u001b[1;31m---------------------------------------------------------------------------\u001b[0m",
      "\u001b[1;31mTypeError\u001b[0m                                 Traceback (most recent call last)",
      "Cell \u001b[1;32mIn[9], line 1\u001b[0m\n\u001b[1;32m----> 1\u001b[0m thistuple \u001b[38;5;241m=\u001b[39m \u001b[38;5;28mtuple\u001b[39m((\u001b[38;5;124m\"\u001b[39m\u001b[38;5;124mapple\u001b[39m\u001b[38;5;124m\"\u001b[39m, \u001b[38;5;124m\"\u001b[39m\u001b[38;5;124mbanana\u001b[39m\u001b[38;5;124m\"\u001b[39m, \u001b[38;5;124m\"\u001b[39m\u001b[38;5;124mcherry\u001b[39m\u001b[38;5;124m\"\u001b[39m)) \u001b[38;5;66;03m# note the double round-brackets\u001b[39;00m\n\u001b[0;32m      2\u001b[0m \u001b[38;5;28mprint\u001b[39m(thistuple)\n",
      "\u001b[1;31mTypeError\u001b[0m: 'str' object is not callable"
     ]
    }
   ],
   "source": [
    "thistuple = tuple((\"apple\", \"banana\", \"cherry\")) # note the double round-brackets\n",
    "print(thistuple)"
   ]
  },
  {
   "cell_type": "markdown",
   "id": "6f835ad1-2fa7-4cf3-961c-64e73b51a436",
   "metadata": {},
   "source": [
    "# Tuple Methods"
   ]
  },
  {
   "cell_type": "raw",
   "id": "5707d225-5d45-4717-8f44-4ae8688ea304",
   "metadata": {},
   "source": [
    "Method\t            Description\n",
    "\n",
    "count()\t            Returns the number of times a specified value occurs in a tuple\n",
    "index()\t            Searches the tuple for a specified value and returns the position of where it was found\n"
   ]
  }
 ],
 "metadata": {
  "kernelspec": {
   "display_name": "Python 3 (ipykernel)",
   "language": "python",
   "name": "python3"
  },
  "language_info": {
   "codemirror_mode": {
    "name": "ipython",
    "version": 3
   },
   "file_extension": ".py",
   "mimetype": "text/x-python",
   "name": "python",
   "nbconvert_exporter": "python",
   "pygments_lexer": "ipython3",
   "version": "3.11.7"
  }
 },
 "nbformat": 4,
 "nbformat_minor": 5
}
