{
 "cells": [
  {
   "cell_type": "markdown",
   "id": "4b353e5e-5268-4666-8109-716b9a68b1e4",
   "metadata": {},
   "source": [
    "# Numpy"
   ]
  },
  {
   "cell_type": "markdown",
   "id": "7aacccd0-9282-4b35-b664-d84c1abf9117",
   "metadata": {},
   "source": [
    " Introduction\n",
    " \n",
    "* NumPy is a Python library used for working with arrays.\n",
    "\n",
    "* It also has functions for working in domain of linear algebra, fourier transform, and matrices.\n",
    "\n",
    "* NumPy was created in 2005 by Travis Oliphant. It is an open source project and you can use it fre* ely.\n",
    "\n",
    "* NumPy stands for Numerical Python.\n",
    "* NumPy arrays are stored at one continuous place in memory unlike lists, so processes can access and manipulate them very efficiently.This behavior is called locality of reference in computer science.That's why NumPy is faster than lists.\n",
    "* NumPy is a Python library and is written partially in Python, but most of the parts that require fast computation are written in C or C++.\r\n",
    "\n"
   ]
  },
  {
   "cell_type": "code",
   "execution_count": 1,
   "id": "274b4cf0-8876-4b34-8e7e-e4844b7a1240",
   "metadata": {},
   "outputs": [],
   "source": [
    "# Import NumPy\n",
    "import numpy as np"
   ]
  },
  {
   "cell_type": "code",
   "execution_count": 2,
   "id": "fd85ff6e-b1fb-4884-adc8-3692c2433c1c",
   "metadata": {},
   "outputs": [
    {
     "name": "stdout",
     "output_type": "stream",
     "text": [
      "[1 2 3 4 5]\n"
     ]
    }
   ],
   "source": [
    "import numpy as np\n",
    "\n",
    "arr = np.array([1, 2, 3, 4, 5])\n",
    "\n",
    "print(arr)"
   ]
  },
  {
   "cell_type": "code",
   "execution_count": 4,
   "id": "f8ea07c4-8b25-4a7b-93b7-2302d37de7bd",
   "metadata": {},
   "outputs": [
    {
     "name": "stdout",
     "output_type": "stream",
     "text": [
      "1.26.4\n",
      "<class 'numpy.ndarray'>\n"
     ]
    }
   ],
   "source": [
    "# Checking NumPy Version\n",
    "# The version string is stored under __version__ attribute.\n",
    "print(np.__version__)\n",
    "print(type(arr))"
   ]
  },
  {
   "cell_type": "code",
   "execution_count": 5,
   "id": "5878eff8-29f9-481c-a067-deeb146e7b5f",
   "metadata": {},
   "outputs": [
    {
     "name": "stdout",
     "output_type": "stream",
     "text": [
      "[1 2 3 4 5]\n"
     ]
    }
   ],
   "source": [
    "arr = np.array((1, 2, 3, 4, 5))\n",
    "print(arr)"
   ]
  },
  {
   "cell_type": "raw",
   "id": "e9df7441-1143-4e9e-9d60-94e7f9be33fe",
   "metadata": {},
   "source": [
    "0-D Arrays\n",
    "0-D arrays, or Scalars, are the elements in an array. Each value in an array is a 0-D array."
   ]
  },
  {
   "cell_type": "code",
   "execution_count": 6,
   "id": "ceedf52c-e671-493b-8c3b-687b8a2365b0",
   "metadata": {},
   "outputs": [
    {
     "name": "stdout",
     "output_type": "stream",
     "text": [
      "42\n"
     ]
    }
   ],
   "source": [
    "arr = np.array(42)\n",
    "print(arr)"
   ]
  },
  {
   "cell_type": "raw",
   "id": "c654e086-5e89-47dc-a08d-239d4c7cc9fe",
   "metadata": {},
   "source": [
    "1-D Arrays\n",
    "An array that has 0-D arrays as its elements is called uni-dimensional or 1-D array. These are the most common and basic arrays."
   ]
  },
  {
   "cell_type": "code",
   "execution_count": 1,
   "id": "a5b89e7b-fc30-4efa-8f72-9ca3e6a0f394",
   "metadata": {},
   "outputs": [
    {
     "name": "stdout",
     "output_type": "stream",
     "text": [
      "[1 2 3 4 5]\n"
     ]
    }
   ],
   "source": [
    "#Example\n",
    "#Create a 1-D array containing the values 1,2,3,4,5:\n",
    "import numpy as np\n",
    "arr = np.array([1, 2, 3, 4, 5])\n",
    "print(arr)"
   ]
  },
  {
   "cell_type": "raw",
   "id": "f0a64cbd-1591-4e75-bf45-b46f6a9c2005",
   "metadata": {},
   "source": [
    "2-D Arrays\n",
    "An array that has 1-D arrays as its elements is called a 2-D array.These are often used to represent matrix or 2nd order tensors.\n",
    "NumPy has a whole sub module dedicated towards matrix operations called numpy.mat"
   ]
  },
  {
   "cell_type": "code",
   "execution_count": 2,
   "id": "34241612-3946-4865-9a55-25742ea08b4a",
   "metadata": {},
   "outputs": [
    {
     "name": "stdout",
     "output_type": "stream",
     "text": [
      "[[1 2 3]\n",
      " [4 5 6]]\n"
     ]
    }
   ],
   "source": [
    "#Example\n",
    "#Create a 2-D array containing two arrays with the values 1,2,3 and 4,5,6:\n",
    "import numpy as np\n",
    "arr = np.array([[1, 2, 3], [4, 5, 6]])\n",
    "print(arr)"
   ]
  },
  {
   "cell_type": "raw",
   "id": "780f11a3-bcc4-4f1b-940b-e36dc0b9540f",
   "metadata": {},
   "source": [
    "3-D arrays\n",
    "An array that has 2-D arrays (matrices) as its elements is called 3-D array. These are often used to represent a 3rd order tensor."
   ]
  },
  {
   "cell_type": "code",
   "execution_count": 3,
   "id": "9ba957bb-c4f3-4602-abfc-c94add8f4bae",
   "metadata": {},
   "outputs": [
    {
     "name": "stdout",
     "output_type": "stream",
     "text": [
      "[[[1 2 3]\n",
      "  [4 5 6]]\n",
      "\n",
      " [[1 2 3]\n",
      "  [4 5 6]]]\n"
     ]
    }
   ],
   "source": [
    "#Example\n",
    "#Create a 3-D array with two 2-D arrays, both containing two arrays with the values 1,2,3 and 4,5,6:\n",
    "import numpy as np\n",
    "arr = np.array([[[1, 2, 3], [4, 5, 6]], [[1, 2, 3], [4, 5, 6]]])\n",
    "print(arr)"
   ]
  },
  {
   "cell_type": "raw",
   "id": "daabc0a0-b7b8-45e7-8c19-06d061f8f240",
   "metadata": {},
   "source": [
    "Check Number of Dimensions\n",
    "NumPy Arrays provides the ndim attribute that returns an integer that tells us how many dimensions the array have."
   ]
  },
  {
   "cell_type": "code",
   "execution_count": 4,
   "id": "919b3384-9a24-4ad2-9365-6d4af304eefe",
   "metadata": {},
   "outputs": [
    {
     "name": "stdout",
     "output_type": "stream",
     "text": [
      "0\n",
      "1\n",
      "2\n",
      "3\n"
     ]
    }
   ],
   "source": [
    "import numpy as np\n",
    "a = np.array(42)\n",
    "b = np.array([1, 2, 3, 4, 5])\n",
    "c = np.array([[1, 2, 3], [4, 5, 6]])\n",
    "d = np.array([[[1, 2, 3], [4, 5, 6]], [[1, 2, 3], [4, 5, 6]]])\n",
    "print(a.ndim)\n",
    "print(b.ndim)\n",
    "print(c.ndim)\n",
    "print(d.ndim)"
   ]
  },
  {
   "cell_type": "markdown",
   "id": "59446185-946f-43d8-82be-fc2c91b0695e",
   "metadata": {},
   "source": [
    "* Higher Dimensional Arrays\n",
    "  \n",
    "An array can have any number of dimensions. When the array is created, you can define the number of dimensions by using the ndmin argument."
   ]
  },
  {
   "cell_type": "code",
   "execution_count": 5,
   "id": "8d36dec6-5f1f-411a-bf8f-17481d0847e7",
   "metadata": {},
   "outputs": [
    {
     "name": "stdout",
     "output_type": "stream",
     "text": [
      "[[[[[1 2 3 4]]]]]\n",
      "number of dimensions : 5\n"
     ]
    }
   ],
   "source": [
    "#Create an array with 5 dimensions and verify that it has 5 dimensions:\n",
    "import numpy as np\n",
    "arr = np.array([1, 2, 3, 4], ndmin=5)\n",
    "print(arr)\n",
    "print('number of dimensions :', arr.ndim)"
   ]
  },
  {
   "cell_type": "markdown",
   "id": "85602b80-63d5-46bb-b0d4-2d063aac0d4a",
   "metadata": {},
   "source": [
    "# Numpy Array Indexing\n",
    "\n",
    "Access Array Elements\r\n",
    "Array indexing is the same as accessing an array element.\n",
    "\r\n",
    "You can access an array element by referring to its index numbe.\r\n",
    "\r\n",
    "The indexes in NumPy arrays start with 0, meaning that the first element has index 0, and the second has index 1 etc."
   ]
  },
  {
   "cell_type": "code",
   "execution_count": 6,
   "id": "30a302cd-d7af-4c55-b598-f17373f3642c",
   "metadata": {},
   "outputs": [
    {
     "name": "stdout",
     "output_type": "stream",
     "text": [
      "1\n"
     ]
    }
   ],
   "source": [
    "#Get the first element from the following array:\n",
    "import numpy as np\n",
    "arr = np.array([1, 2, 3, 4])\n",
    "print(arr[0])"
   ]
  },
  {
   "cell_type": "code",
   "execution_count": 7,
   "id": "d9d68ec2-285f-4d68-9611-4503179b2138",
   "metadata": {},
   "outputs": [
    {
     "name": "stdout",
     "output_type": "stream",
     "text": [
      "7\n"
     ]
    }
   ],
   "source": [
    "#Get third and fourth elements from the following array and add them.\n",
    "import numpy as np\n",
    "arr = np.array([1, 2, 3, 4])\n",
    "print(arr[2] + arr[3])"
   ]
  },
  {
   "cell_type": "raw",
   "id": "946ede9f-0155-4fcb-8895-a6ace750533f",
   "metadata": {},
   "source": [
    "* Access 2-D Arrays\n",
    "To access elements from 2-D arrays we can use comma separated integers representing the dimension and the index of the element.\n",
    "Think of 2-D arrays like a table with rows and columns, where the dimension represents the row and the index represents the column."
   ]
  },
  {
   "cell_type": "code",
   "execution_count": 8,
   "id": "5231f369-91fc-4697-ac60-10521075f16a",
   "metadata": {},
   "outputs": [
    {
     "name": "stdout",
     "output_type": "stream",
     "text": [
      "2nd element on 1st row:  2\n"
     ]
    }
   ],
   "source": [
    "#Access the element on the first row, second column:\n",
    "import numpy as np\n",
    "arr = np.array([[1,2,3,4,5], [6,7,8,9,10]])\n",
    "print('2nd element on 1st row: ', arr[0, 1])"
   ]
  },
  {
   "cell_type": "code",
   "execution_count": 9,
   "id": "fa4b8a69-a9e6-42a5-a107-7251d04b5ae5",
   "metadata": {},
   "outputs": [
    {
     "name": "stdout",
     "output_type": "stream",
     "text": [
      "5th element on 2nd row:  10\n"
     ]
    }
   ],
   "source": [
    "#Access the element on the 2nd row, 5th column:\n",
    "import numpy as np\n",
    "arr = np.array([[1,2,3,4,5], [6,7,8,9,10]])\n",
    "print('5th element on 2nd row: ', arr[1, 4])"
   ]
  },
  {
   "cell_type": "raw",
   "id": "53286439-10d9-46b0-b316-1c2c85cd6221",
   "metadata": {},
   "source": [
    "* Access 3-D Arrays\n",
    "To access elements from 3-D arrays we can use comma separated integers representing the dimensions and the index of the element."
   ]
  },
  {
   "cell_type": "code",
   "execution_count": 10,
   "id": "c3f0437d-b8b3-46b6-92cf-03465765cc22",
   "metadata": {},
   "outputs": [
    {
     "name": "stdout",
     "output_type": "stream",
     "text": [
      "6\n"
     ]
    }
   ],
   "source": [
    "#Access the third element of the second array of the first array:\n",
    "import numpy as np\n",
    "arr = np.array([[[1, 2, 3], [4, 5, 6]], [[7, 8, 9], [10, 11, 12]]])\n",
    "print(arr[0, 1, 2])"
   ]
  },
  {
   "cell_type": "markdown",
   "id": "b0e465b2-6758-4b0f-a0c3-1834bfa85ce8",
   "metadata": {},
   "source": [
    "* Negative Indexing\n",
    "  \r\n",
    "Use negative indexing to access an array from the endr[1, -1])\r\n"
   ]
  },
  {
   "cell_type": "code",
   "execution_count": 11,
   "id": "1178c51b-fcac-4e55-9822-24d11df759bb",
   "metadata": {},
   "outputs": [
    {
     "name": "stdout",
     "output_type": "stream",
     "text": [
      "Last element from 2nd dim:  10\n"
     ]
    }
   ],
   "source": [
    "#Print the last element from the 2nd dim:\n",
    "import numpy as np\n",
    "arr = np.array([[1,2,3,4,5], [6,7,8,9,10]])\n",
    "print('Last element from 2nd dim: ', arr[1, -1])"
   ]
  },
  {
   "cell_type": "markdown",
   "id": "aeeb0e4d-df52-4ec3-b90a-7bbab62f69da",
   "metadata": {},
   "source": [
    "# Array Slicing\n",
    "\n",
    "Slicing in python means taking elements from one given index to another given index.\r",
    "\r\n",
    "We pass slice instead of index like this: [start:end]\r\n",
    "\r\n",
    "We can also define the step, like this: [start:end:ste].\r\n",
    "\r\n",
    "If we don't pass start its consideed 0\r\n",
    "\r\n",
    "If we don't pass end its considered length of array in that diension\r\n",
    "\r\n",
    "If we don't pass step its co\n",
    "\r\n",
    "print(arr[1:5])\r\n"
   ]
  },
  {
   "cell_type": "code",
   "execution_count": 12,
   "id": "d72a23e3-4e7d-4e55-8657-9529a8e3205b",
   "metadata": {},
   "outputs": [
    {
     "name": "stdout",
     "output_type": "stream",
     "text": [
      "[2 3 4 5]\n"
     ]
    }
   ],
   "source": [
    "#Slice elements from index 1 to index 5 from the following array:\n",
    "import numpy as np\n",
    "arr = np.array([1, 2, 3, 4, 5, 6, 7])\n",
    "print(arr[1:5])"
   ]
  },
  {
   "cell_type": "code",
   "execution_count": 13,
   "id": "2fd6ac79-08bb-4663-8df5-0d545b533e53",
   "metadata": {},
   "outputs": [
    {
     "name": "stdout",
     "output_type": "stream",
     "text": [
      "[5 6 7]\n"
     ]
    }
   ],
   "source": [
    "arr = np.array([1, 2, 3, 4, 5, 6, 7])\n",
    "print(arr[4:])"
   ]
  },
  {
   "cell_type": "code",
   "execution_count": 14,
   "id": "eaaeefaa-b008-48c8-bf54-58cd33e99b74",
   "metadata": {},
   "outputs": [
    {
     "name": "stdout",
     "output_type": "stream",
     "text": [
      "[1 2 3 4]\n"
     ]
    }
   ],
   "source": [
    "#Slice elements from the beginning to index 4 (not included):\n",
    "arr = np.array([1, 2, 3, 4, 5, 6, 7])\n",
    "print(arr[:4])"
   ]
  },
  {
   "cell_type": "raw",
   "id": "955c23ae-a098-4bdf-8db3-3083774bdfcb",
   "metadata": {},
   "source": [
    "* Negative Slicing\n",
    "Use the minus operator to refer to an index from the end:"
   ]
  },
  {
   "cell_type": "code",
   "execution_count": 15,
   "id": "9b9862f6-7f6c-4ee7-aed3-5319f366a95a",
   "metadata": {},
   "outputs": [
    {
     "name": "stdout",
     "output_type": "stream",
     "text": [
      "[5 6]\n"
     ]
    }
   ],
   "source": [
    "#Slice from the index 3 from the end to index 1 from the end:\n",
    "arr = np.array([1, 2, 3, 4, 5, 6, 7])\n",
    "print(arr[-3:-1])"
   ]
  },
  {
   "cell_type": "raw",
   "id": "69d79d3d-78db-43ca-a838-2a19359f4b5c",
   "metadata": {},
   "source": [
    "* STEP\n",
    "Use the step value to determine the step of the slicing:"
   ]
  },
  {
   "cell_type": "code",
   "execution_count": 17,
   "id": "823b7b51-1887-4e40-a495-d3cabf0492b9",
   "metadata": {},
   "outputs": [
    {
     "name": "stdout",
     "output_type": "stream",
     "text": [
      "[2 4]\n"
     ]
    }
   ],
   "source": [
    "# Return every other element from index 1 to index 5:\n",
    "arr = np.array([1, 2, 3, 4, 5, 6, 7])\n",
    "print(arr[1:5:2])"
   ]
  },
  {
   "cell_type": "code",
   "execution_count": 18,
   "id": "6107927e-fef4-492c-a25b-140609941f9b",
   "metadata": {},
   "outputs": [
    {
     "name": "stdout",
     "output_type": "stream",
     "text": [
      "[1 3 5 7]\n"
     ]
    }
   ],
   "source": [
    "# Return every other element from the entire array:\n",
    "arr = np.array([1, 2, 3, 4, 5, 6, 7])\n",
    "print(arr[::2])"
   ]
  },
  {
   "cell_type": "code",
   "execution_count": 19,
   "id": "ada712c5-1ce2-48ed-82ea-43d78c59c7c6",
   "metadata": {},
   "outputs": [
    {
     "name": "stdout",
     "output_type": "stream",
     "text": [
      "[7 8 9]\n"
     ]
    }
   ],
   "source": [
    "# Slicing 2-D Arrays\n",
    "# From the second element, slice elements from index 1 to index 4 (not included):\n",
    "arr = np.array([[1, 2, 3, 4, 5], [6, 7, 8, 9, 10]])\n",
    "print(arr[1, 1:4])"
   ]
  },
  {
   "cell_type": "code",
   "execution_count": 20,
   "id": "b0cbfcdb-dbe8-4139-b267-14de9f49dc74",
   "metadata": {},
   "outputs": [
    {
     "name": "stdout",
     "output_type": "stream",
     "text": [
      "[3 8]\n"
     ]
    }
   ],
   "source": [
    "# From both elements, return index 2:\n",
    "arr = np.array([[1, 2, 3, 4, 5], [6, 7, 8, 9, 10]])\n",
    "print(arr[0:2, 2])"
   ]
  },
  {
   "cell_type": "code",
   "execution_count": 21,
   "id": "880263da-bde7-46d3-8adc-65c62837309a",
   "metadata": {},
   "outputs": [
    {
     "name": "stdout",
     "output_type": "stream",
     "text": [
      "[[2 3 4]\n",
      " [7 8 9]]\n"
     ]
    }
   ],
   "source": [
    "# From both elements, slice index 1 to index 4 (not included), this will return a 2-D array:\n",
    "arr = np.array([[1, 2, 3, 4, 5], [6, 7, 8, 9, 10]])\n",
    "print(arr[0:2, 1:4])"
   ]
  },
  {
   "cell_type": "markdown",
   "id": "a3838a90-5b0b-425b-9665-b19b5156cd45",
   "metadata": {},
   "source": [
    "# NumPy Data Types:\n",
    "\n",
    "By default Python have these data types:\n",
    "\n",
    "strings - used to represent text data, the text is given under quote marks. e.g. \"ABCD\"\n",
    "\n",
    "integer - used to represent integer numbers. e.g. -1, -2, -3\n",
    "\n",
    "float - used to represent real numbers. e.g. 1.2, 42.42\n",
    "\n",
    "boolean - used to represent True or False.\n",
    "\n",
    "complex - used to represent complex numbers. e.g. 1.0 + 2.0j, 1.5 + 2.5j"
   ]
  },
  {
   "cell_type": "raw",
   "id": "b44a5995-306e-4883-ade3-820045a9654a",
   "metadata": {},
   "source": [
    "NumPy has some extra data types, and refer to data types with one character, like i for integers, u for unsigned integers etc. Below is a list of all data types in NumPy and the characters used to represent them.\n",
    "\n",
    "i - integer\n",
    "b - boolean\n",
    "u - unsigned integer\n",
    "f - float\n",
    "c - complex float\n",
    "m - timedelta\n",
    "M - datetime\n",
    "O - object\n",
    "S - string\n",
    "U - unicode string\n",
    "V - fixed chunk of memory for other type ( void )\n"
   ]
  },
  {
   "cell_type": "raw",
   "id": "7c3f26b7-f973-44d2-8f7e-98007b55cc35",
   "metadata": {},
   "source": [
    "* Checking the Data Type of an Array\n",
    "The NumPy array object has a property called dtype that returns the data type of the array:"
   ]
  },
  {
   "cell_type": "code",
   "execution_count": 22,
   "id": "ef525f2d-5ed6-4752-8dda-2c872347e6f1",
   "metadata": {},
   "outputs": [
    {
     "name": "stdout",
     "output_type": "stream",
     "text": [
      "int32\n"
     ]
    }
   ],
   "source": [
    "import numpy as np\n",
    "arr = np.array([1, 2, 3, 4])\n",
    "print(arr.dtype)"
   ]
  },
  {
   "cell_type": "code",
   "execution_count": 23,
   "id": "e408541c-d05d-4c0f-b988-2583bbb6abe2",
   "metadata": {},
   "outputs": [
    {
     "name": "stdout",
     "output_type": "stream",
     "text": [
      "<U6\n"
     ]
    }
   ],
   "source": [
    "# Get the data type of an array containing strings:\n",
    "import numpy as np\n",
    "arr = np.array(['apple', 'banana', 'cherry'])\n",
    "print(arr.dtype)"
   ]
  },
  {
   "cell_type": "raw",
   "id": "09a2e482-c2ec-4607-9afd-f6d1caf11ff9",
   "metadata": {},
   "source": [
    "* Creating Arrays With a Defined Data Type\n",
    "We use the array() function to create arrays, this function can take an optional argument: dtype that allows us to define the expected data type of the array elements:"
   ]
  },
  {
   "cell_type": "code",
   "execution_count": 24,
   "id": "cbd9d996-1f35-4af6-91b0-c7bc3855d6f0",
   "metadata": {},
   "outputs": [
    {
     "name": "stdout",
     "output_type": "stream",
     "text": [
      "[b'1' b'2' b'3' b'4']\n",
      "|S1\n"
     ]
    }
   ],
   "source": [
    "# Create an array with data type string:\n",
    "import numpy as np\n",
    "arr = np.array([1, 2, 3, 4], dtype='S')\n",
    "print(arr)\n",
    "print(arr.dtype)"
   ]
  },
  {
   "cell_type": "code",
   "execution_count": 25,
   "id": "149f7922-5bb8-452b-b984-fbcf1cb83c22",
   "metadata": {},
   "outputs": [
    {
     "name": "stdout",
     "output_type": "stream",
     "text": [
      "[1 2 3 4]\n",
      "int32\n"
     ]
    }
   ],
   "source": [
    "# For i, u, f, S and U we can define size as well.\n",
    "# Create an array with data type 4 bytes integer:\n",
    "import numpy as np\n",
    "arr = np.array([1, 2, 3, 4], dtype='i4')\n",
    "print(arr)\n",
    "print(arr.dtype)"
   ]
  },
  {
   "cell_type": "markdown",
   "id": "440bbd3c-5e76-42fa-871b-bb6618feeb28",
   "metadata": {},
   "source": [
    "* Converting Data Type on Existing Arrays\n",
    "  \r\n",
    "The best way to change the data type of an existing array, is to make a copy of the array with the astype() method.\r\n",
    "\r\n",
    "The astype() function creates a copy of the array, and allows you to specify the data type as a parameter.\r\n",
    "\r\n",
    "The data type can be specified using a string, like 'f' for float, 'i' for integer etc. or you can use the data type directly like float for float and int for integer."
   ]
  },
  {
   "cell_type": "code",
   "execution_count": 26,
   "id": "40d4dd25-5cad-4e9e-ae07-2e397ec093c8",
   "metadata": {},
   "outputs": [
    {
     "name": "stdout",
     "output_type": "stream",
     "text": [
      "[1 2 3]\n",
      "int32\n"
     ]
    }
   ],
   "source": [
    "# Change data type from float to integer by using 'i' as parameter value:\n",
    "arr = np.array([1.1, 2.1, 3.1])\n",
    "newarr = arr.astype('i')\n",
    "print(newarr)\n",
    "print(newarr.dtype)"
   ]
  },
  {
   "cell_type": "code",
   "execution_count": 27,
   "id": "a39588b7-9e1b-46bb-8868-b52882759b41",
   "metadata": {},
   "outputs": [
    {
     "name": "stdout",
     "output_type": "stream",
     "text": [
      "[1 2 3]\n",
      "int32\n"
     ]
    }
   ],
   "source": [
    "# Change data type from float to integer by using int as parameter value:\n",
    "arr = np.array([1.1, 2.1, 3.1])\n",
    "newarr = arr.astype(int)\n",
    "print(newarr)\n",
    "print(newarr.dtype)"
   ]
  },
  {
   "cell_type": "code",
   "execution_count": 28,
   "id": "35b3d227-bc41-4c7d-8814-da7ed105cf36",
   "metadata": {},
   "outputs": [
    {
     "name": "stdout",
     "output_type": "stream",
     "text": [
      "[ True False  True]\n",
      "bool\n"
     ]
    }
   ],
   "source": [
    "# Change data type from integer to boolean:\n",
    "arr = np.array([1, 0, 3])\n",
    "newarr = arr.astype(bool)\n",
    "print(newarr)\n",
    "print(newarr.dtype)"
   ]
  },
  {
   "cell_type": "markdown",
   "id": "356578ea-2b73-40d4-b913-f0c4ce0e206d",
   "metadata": {},
   "source": [
    "# NumPy Array Copy vs View\n",
    "\n",
    "* The Difference Between Copy and View\n",
    "  \n",
    "The main difference between a copy and a view of an array is that the copy is a new array, and the view is just a view of the original array.\n",
    "\n",
    "The copy owns the data and any changes made to the copy will not affect original array, and any changes made to the original array will not affect the copy.\n",
    "\n",
    "The view does not own the data and any changes made to the view will affect the original array, and any changes made to the original array will affect the view."
   ]
  },
  {
   "cell_type": "code",
   "execution_count": 29,
   "id": "9289ea43-fd8c-42bc-b1a2-abb69c907a04",
   "metadata": {},
   "outputs": [
    {
     "name": "stdout",
     "output_type": "stream",
     "text": [
      "[42  2  3  4  5]\n",
      "[1 2 3 4 5]\n"
     ]
    }
   ],
   "source": [
    "# COPY: Make a copy, change the original array, and display both arrays:\n",
    "arr = np.array([1, 2, 3, 4, 5])\n",
    "x = arr.copy()\n",
    "arr[0] = 42\n",
    "print(arr)\n",
    "print(x)"
   ]
  },
  {
   "cell_type": "code",
   "execution_count": 30,
   "id": "99382aff-7868-4b86-b4e1-31bd43b2eaba",
   "metadata": {},
   "outputs": [
    {
     "name": "stdout",
     "output_type": "stream",
     "text": [
      "[42  2  3  4  5]\n",
      "[42  2  3  4  5]\n"
     ]
    }
   ],
   "source": [
    "# VIEW: Make a view, change the original array, and display both arrays:\n",
    "arr = np.array([1, 2, 3, 4, 5])\n",
    "x = arr.view()\n",
    "arr[0] = 42\n",
    "print(arr)\n",
    "print(x)"
   ]
  },
  {
   "cell_type": "code",
   "execution_count": 31,
   "id": "f6ce8065-608f-44a6-b707-75e2a1049eeb",
   "metadata": {},
   "outputs": [
    {
     "name": "stdout",
     "output_type": "stream",
     "text": [
      "[31  2  3  4  5]\n",
      "[31  2  3  4  5]\n"
     ]
    }
   ],
   "source": [
    "# Make Changes in the VIEW: Make a view, change the view, and display both arrays:\n",
    "arr = np.array([1, 2, 3, 4, 5])\n",
    "x = arr.view()\n",
    "x[0] = 31\n",
    "print(arr)\n",
    "print(x)"
   ]
  },
  {
   "cell_type": "raw",
   "id": "ec8eae28-d1b2-4395-a3e6-4e51d970247c",
   "metadata": {},
   "source": [
    "* Check if Array Owns its Data\n",
    "As mentioned above, copies owns the data, and views does not own the data, but how can we check this?\n",
    "Every NumPy array has the attribute base that returns None if the array owns the data.\n",
    "Otherwise, the base  attribute refers to the original object."
   ]
  },
  {
   "cell_type": "code",
   "execution_count": 32,
   "id": "1fdec4c1-26fe-4fe5-a0ac-a468f08b23d9",
   "metadata": {},
   "outputs": [
    {
     "name": "stdout",
     "output_type": "stream",
     "text": [
      "None\n",
      "[1 2 3 4 5]\n"
     ]
    }
   ],
   "source": [
    "# Print the value of the base attribute to check if an array owns it's data or not:\n",
    "arr = np.array([1, 2, 3, 4, 5])\n",
    "x = arr.copy()\n",
    "y = arr.view()\n",
    "print(x.base)\n",
    "print(y.base)"
   ]
  },
  {
   "cell_type": "markdown",
   "id": "5a942baf-188c-49be-a45b-6f69feaef997",
   "metadata": {},
   "source": [
    "# Shape of an Array\n",
    "\n",
    "The shape of an array is the number of elements in each dimension.\n",
    "\n",
    "* Get the Shape of an Array\n",
    "  \n",
    "NumPy arrays have an attribute called shape that returns a tuple with each index having the number of corresponding elements."
   ]
  },
  {
   "cell_type": "code",
   "execution_count": 33,
   "id": "8ead1b38-5e0e-47e1-a441-7e4af32b56fe",
   "metadata": {},
   "outputs": [
    {
     "name": "stdout",
     "output_type": "stream",
     "text": [
      "(2, 4)\n"
     ]
    }
   ],
   "source": [
    "# Print the shape of a 2-D array:\n",
    "arr = np.array([[1, 2, 3, 4], [5, 6, 7, 8]])\n",
    "print(arr.shape)\n",
    "# The example above returns (2, 4), which means that the array has 2 dimensions, where the first dimension has 2 elements and the second has 4."
   ]
  },
  {
   "cell_type": "code",
   "execution_count": 34,
   "id": "7ea779b8-2bde-40cd-8253-8419a06c5616",
   "metadata": {},
   "outputs": [
    {
     "name": "stdout",
     "output_type": "stream",
     "text": [
      "[[[[[1 2 3 4]]]]]\n",
      "shape of array : (1, 1, 1, 1, 4)\n"
     ]
    }
   ],
   "source": [
    "# Create an array with 5 dimensions using ndmin using a vector with values 1,2,3,4 and verify that last dimension has value 4:\n",
    "arr = np.array([1, 2, 3, 4], ndmin=5)\n",
    "print(arr)\n",
    "print('shape of array :', arr.shape)"
   ]
  },
  {
   "cell_type": "markdown",
   "id": "d346c969-b641-40fb-b700-4877ce3e85cd",
   "metadata": {},
   "source": [
    "# Reshaping arrays\n",
    "\r\n",
    "Reshaping means changing the shape of an array.\r\n",
    "\r\n",
    "The shape of an array is the number of elements in each dimension.\r\n",
    "\r\n",
    "By reshaping we can add or remove dimensions or change number of elements in each dimension."
   ]
  },
  {
   "cell_type": "code",
   "execution_count": 35,
   "id": "6b1cc265-b4e3-436b-b84e-47e3a7522d70",
   "metadata": {},
   "outputs": [
    {
     "name": "stdout",
     "output_type": "stream",
     "text": [
      "[[ 1  2  3]\n",
      " [ 4  5  6]\n",
      " [ 7  8  9]\n",
      " [10 11 12]]\n"
     ]
    }
   ],
   "source": [
    "# Reshape From 1-D to 2-D\n",
    "# Convert the following 1-D array with 12 elements into a 2-D array. The outermost dimension will have 4 arrays, each with 3 elements:\n",
    "arr = np.array([1, 2, 3, 4, 5, 6, 7, 8, 9, 10, 11, 12])\n",
    "newarr = arr.reshape(4, 3)\n",
    "print(newarr)"
   ]
  },
  {
   "cell_type": "code",
   "execution_count": 36,
   "id": "91f26165-17c9-4553-8a34-88cfae8875b6",
   "metadata": {},
   "outputs": [
    {
     "name": "stdout",
     "output_type": "stream",
     "text": [
      "[[[ 1  2]\n",
      "  [ 3  4]\n",
      "  [ 5  6]]\n",
      "\n",
      " [[ 7  8]\n",
      "  [ 9 10]\n",
      "  [11 12]]]\n"
     ]
    }
   ],
   "source": [
    "# Reshape From 1-D to 3-D\n",
    "# Convert the following 1-D array with 12 elements into a 3-D array. The outermost dimension will have 2 arrays that contains 3 arrays, each with 2 elements:\n",
    "arr = np.array([1, 2, 3, 4, 5, 6, 7, 8, 9, 10, 11, 12])\n",
    "newarr = arr.reshape(2, 3, 2)\n",
    "print(newarr)"
   ]
  },
  {
   "cell_type": "code",
   "execution_count": 37,
   "id": "428d4a60-8e13-456a-b1eb-0b93ef6153f1",
   "metadata": {},
   "outputs": [
    {
     "name": "stdout",
     "output_type": "stream",
     "text": [
      "[1 2 3 4 5 6 7 8]\n"
     ]
    }
   ],
   "source": [
    "# Check if the returned array is a copy or a view:\n",
    "arr = np.array([1, 2, 3, 4, 5, 6, 7, 8])\n",
    "print(arr.reshape(2, 4).base)"
   ]
  },
  {
   "cell_type": "raw",
   "id": "e17f7159-12ad-4fef-a597-7c31c888d6af",
   "metadata": {},
   "source": [
    "* Unknown Dimension\r\n",
    "You are allowed to have one \"unknown\" dimension.\r\n",
    "\r\n",
    "Meaning that you do not have to specify an exact number for one of the dimensions in the reshape method.\r\n",
    "\r\n",
    "Pass -1 as the value, and NumPy will calculate this number for you."
   ]
  },
  {
   "cell_type": "code",
   "execution_count": 38,
   "id": "b1a77319-7ac3-4197-aa1b-1fd43572c12d",
   "metadata": {},
   "outputs": [
    {
     "name": "stdout",
     "output_type": "stream",
     "text": [
      "[[[1 2]\n",
      "  [3 4]]\n",
      "\n",
      " [[5 6]\n",
      "  [7 8]]]\n"
     ]
    }
   ],
   "source": [
    "#Convert 1D array with 8 elements to 3D array with 2x2 elements:\n",
    "arr = np.array([1, 2, 3, 4, 5, 6, 7, 8])\n",
    "newarr = arr.reshape(2, 2, -1)\n",
    "print(newarr)"
   ]
  },
  {
   "cell_type": "raw",
   "id": "24fcb7a5-fe05-44ef-ac58-93469015e897",
   "metadata": {},
   "source": [
    "* Flattening the arrays\n",
    "Flattening array means converting a multidimensional array into a 1D array.\n",
    "We can use reshape(-1) to do this."
   ]
  },
  {
   "cell_type": "code",
   "execution_count": 39,
   "id": "e3b5e46f-5df4-452f-b86f-8f154a55b21b",
   "metadata": {},
   "outputs": [
    {
     "name": "stdout",
     "output_type": "stream",
     "text": [
      "[1 2 3 4 5 6]\n"
     ]
    }
   ],
   "source": [
    "# Convert the array into a 1D array:\n",
    "arr = np.array([[1, 2, 3], [4, 5, 6]])\n",
    "newarr = arr.reshape(-1)\n",
    "print(newarr)"
   ]
  },
  {
   "cell_type": "markdown",
   "id": "099a457d-d1cd-4970-91ee-3c375ecba5c9",
   "metadata": {},
   "source": [
    "# Iterating Arrays\n",
    "\r\n",
    "Iterating means going through elements one by one.\r\n",
    "\r\n",
    "As we deal with multi-dimensional arrays in numpy, we can do this using basic for loop of python.\r\n",
    "\r\n",
    "If we iterate on a 1-D array it will go through each element one by one."
   ]
  },
  {
   "cell_type": "code",
   "execution_count": 40,
   "id": "a1f2ed22-f649-4991-9ee1-a75356a7d6d4",
   "metadata": {},
   "outputs": [
    {
     "name": "stdout",
     "output_type": "stream",
     "text": [
      "1\n",
      "2\n",
      "3\n"
     ]
    }
   ],
   "source": [
    "#Iterate on the elements of the following 1-D array:\n",
    "\n",
    "import numpy as np\n",
    "\n",
    "arr = np.array([1, 2, 3])\n",
    "\n",
    "for x in arr:\n",
    "  print(x)"
   ]
  },
  {
   "cell_type": "raw",
   "id": "48351d63-386a-4818-b118-e12de5a7b7c1",
   "metadata": {},
   "source": [
    "* Iterating Arrays Using nditer()\n",
    "The function nditer() is a helping function that can be used from very basic to very advanced iterations. It solves some basic issues which we face in iteration, lets go through it with examples.\n",
    "\n",
    "Iterating on Each Scalar Element\n",
    "In basic for loops, iterating through each scalar of an array we need to use n for loops which can be difficult to write for arrays with very high dimensionality."
   ]
  },
  {
   "cell_type": "code",
   "execution_count": 41,
   "id": "f2fe7d37-7388-4f99-a76d-bbc1634c8fd3",
   "metadata": {},
   "outputs": [
    {
     "name": "stdout",
     "output_type": "stream",
     "text": [
      "1\n",
      "2\n",
      "3\n",
      "4\n",
      "5\n",
      "6\n",
      "7\n",
      "8\n"
     ]
    }
   ],
   "source": [
    "# Iterate through the following 3-D array:\n",
    "\n",
    "import numpy as np\n",
    "\n",
    "arr = np.array([[[1, 2], [3, 4]], [[5, 6], [7, 8]]])\n",
    "\n",
    "for x in np.nditer(arr):\n",
    "  print(x)"
   ]
  },
  {
   "cell_type": "raw",
   "id": "7d141015-6171-4644-a7f3-a3131369b03b",
   "metadata": {},
   "source": [
    "* Iterating Array With Different Data Types\n",
    "We can use op_dtypes argument and pass it the expected datatype to change the datatype of elements while iterating.\n",
    "\n",
    "NumPy does not change the data type of the element in-place (where the element is in array) so it needs some other space to perform this action, that extra space is called buffer, and in order to enable it in nditer() we pass flags=['buffered']."
   ]
  },
  {
   "cell_type": "code",
   "execution_count": 42,
   "id": "df862c75-27b0-4a3a-9d0e-b0775ecf8048",
   "metadata": {},
   "outputs": [
    {
     "name": "stdout",
     "output_type": "stream",
     "text": [
      "b'1'\n",
      "b'2'\n",
      "b'3'\n"
     ]
    }
   ],
   "source": [
    "#Iterate through the array as a string:\n",
    "\n",
    "import numpy as np\n",
    "\n",
    "arr = np.array([1, 2, 3])\n",
    "\n",
    "for x in np.nditer(arr, flags=['buffered'], op_dtypes=['S']):\n",
    "  print(x)"
   ]
  },
  {
   "cell_type": "raw",
   "id": "d2648de4-5048-4045-8083-c2cd187f844f",
   "metadata": {},
   "source": [
    "* Iterating With Different Step Size\n",
    "We can use filtering and followed by iteration."
   ]
  },
  {
   "cell_type": "code",
   "execution_count": 44,
   "id": "9659cd1b-5af9-4548-8c22-7bff92384a16",
   "metadata": {},
   "outputs": [
    {
     "name": "stdout",
     "output_type": "stream",
     "text": [
      "1\n",
      "3\n",
      "5\n",
      "7\n"
     ]
    }
   ],
   "source": [
    "# Iterate through every scalar element of the 2D array skipping 1 element:\n",
    "\n",
    "import numpy as np\n",
    "\n",
    "arr = np.array([[1, 2, 3, 4], [5, 6, 7, 8]])\n",
    "\n",
    "for x in np.nditer(arr[:, ::2]):\n",
    "  print(x)"
   ]
  },
  {
   "cell_type": "raw",
   "id": "76c80899-bed8-4607-b84d-ab27ce14692e",
   "metadata": {},
   "source": [
    "* Enumerated Iteration Using ndenumerate()\n",
    "Enumeration means mentioning sequence number of somethings one by one.\n",
    "Sometimes we require corresponding index of the element while iterating, the ndenumerate() method can be used for those usecases."
   ]
  },
  {
   "cell_type": "code",
   "execution_count": 45,
   "id": "b258ab98-c51c-4346-989f-599d74d7af16",
   "metadata": {},
   "outputs": [
    {
     "name": "stdout",
     "output_type": "stream",
     "text": [
      "(0,) 1\n",
      "(1,) 2\n",
      "(2,) 3\n"
     ]
    }
   ],
   "source": [
    "# Enumerate on following 1D arrays elements:\n",
    "\n",
    "import numpy as np\n",
    "\n",
    "arr = np.array([1, 2, 3])\n",
    "\n",
    "for idx, x in np.ndenumerate(arr):\n",
    "  print(idx, x)\n"
   ]
  },
  {
   "cell_type": "markdown",
   "id": "573ea8eb-9657-45fd-b708-fe8445c4886c",
   "metadata": {},
   "source": [
    "# Joining NumPy Arrays\n",
    "\r\n",
    "Joining means putting contents of two or more arrays in a single array.\r\n",
    "\r\n",
    "In SQL we join tables based on a key, whereas in NumPy we join arrays by axes.\r\n",
    "\r\n",
    "We pass a sequence of arrays that we want to join to the concatenate() function, along with the axis. If axis is not explicitly passed, it is taken as 0."
   ]
  },
  {
   "cell_type": "code",
   "execution_count": 46,
   "id": "e7fd2e8a-3db9-4c20-b9a6-32db750de855",
   "metadata": {},
   "outputs": [
    {
     "name": "stdout",
     "output_type": "stream",
     "text": [
      "[1 2 3 4 5 6]\n"
     ]
    }
   ],
   "source": [
    "import numpy as np\n",
    "\n",
    "arr1 = np.array([1, 2, 3])\n",
    "\n",
    "arr2 = np.array([4, 5, 6])\n",
    "\n",
    "arr = np.concatenate((arr1, arr2))\n",
    "\n",
    "print(arr)"
   ]
  },
  {
   "cell_type": "raw",
   "id": "dfc131ad-f117-432d-a2e1-fe5419434a8c",
   "metadata": {},
   "source": [
    "* Joining Arrays Using Stack Functions\n",
    "Stacking is same as concatenation, the only difference is that stacking is done along a new axis.\n",
    "We can concatenate two 1-D arrays along the second axis which would result in putting them one over the other, ie. stacking.\n",
    "We pass a sequence of arrays that we want to join to the stack() method along with the axis. If axis is not explicitly passed it is taken as 0."
   ]
  },
  {
   "cell_type": "code",
   "execution_count": 47,
   "id": "5616a774-6432-4f9e-8801-c2ac3cb144d9",
   "metadata": {},
   "outputs": [
    {
     "name": "stdout",
     "output_type": "stream",
     "text": [
      "[[1 4]\n",
      " [2 5]\n",
      " [3 6]]\n"
     ]
    }
   ],
   "source": [
    "import numpy as np\n",
    "\n",
    "arr1 = np.array([1, 2, 3])\n",
    "\n",
    "arr2 = np.array([4, 5, 6])\n",
    "\n",
    "arr = np.stack((arr1, arr2), axis=1)\n",
    "\n",
    "print(arr)"
   ]
  },
  {
   "cell_type": "markdown",
   "id": "5a34f543-6750-4fcb-a7be-acdad85dfffa",
   "metadata": {},
   "source": [
    "# Splitting NumPy Arrays\n",
    "\r\n",
    "Splitting is reverse operation of Joining.\r\n",
    "\r\n",
    "Joining merges multiple arrays into one and Splitting breaks one array into multiple.\r\n",
    "\r\n",
    "We use array_split() for splitting arrays, we pass it the array we want to split and the number of splits."
   ]
  },
  {
   "cell_type": "code",
   "execution_count": 48,
   "id": "f76b6091-49b4-401f-b492-6c8de0bd1a7d",
   "metadata": {},
   "outputs": [
    {
     "name": "stdout",
     "output_type": "stream",
     "text": [
      "[array([1, 2]), array([3, 4]), array([5, 6])]\n"
     ]
    }
   ],
   "source": [
    "import numpy as np\n",
    "\n",
    "arr = np.array([1, 2, 3, 4, 5, 6])\n",
    "\n",
    "newarr = np.array_split(arr, 3)\n",
    "\n",
    "print(newarr)"
   ]
  },
  {
   "cell_type": "raw",
   "id": "2cd24226-a7f2-4957-9a03-c3dc10ae9b48",
   "metadata": {},
   "source": [
    "* Split Into Arrays\n",
    "The return value of the array_split() method is an array containing each of the split as an array.\n",
    "If you split an array into 3 arrays, you can access them from the result just like any array element:"
   ]
  },
  {
   "cell_type": "code",
   "execution_count": 49,
   "id": "675e5536-b42d-45e7-afae-10f2c88199c6",
   "metadata": {},
   "outputs": [
    {
     "name": "stdout",
     "output_type": "stream",
     "text": [
      "[1 2]\n",
      "[3 4]\n",
      "[5 6]\n"
     ]
    }
   ],
   "source": [
    "# Access the splitted arrays:\n",
    "\n",
    "import numpy as np\n",
    "\n",
    "arr = np.array([1, 2, 3, 4, 5, 6])\n",
    "\n",
    "newarr = np.array_split(arr, 3)\n",
    "\n",
    "print(newarr[0])\n",
    "print(newarr[1])\n",
    "print(newarr[2])"
   ]
  },
  {
   "cell_type": "markdown",
   "id": "df208d83-b056-465a-b7f5-973a498dc8e9",
   "metadata": {},
   "source": [
    "# Searching Arrays\r\n",
    "You can search an array for a certain value, and return the indexes that get a match.\r\n",
    "\r\n",
    "To search an array, use the where() meth)\r\n",
    "\r\n",
    "print(x)\r\n"
   ]
  },
  {
   "cell_type": "code",
   "execution_count": 50,
   "id": "81c3e599-be6c-4ab0-beca-b77c4fc8ad2c",
   "metadata": {},
   "outputs": [
    {
     "name": "stdout",
     "output_type": "stream",
     "text": [
      "(array([3, 5, 6], dtype=int64),)\n"
     ]
    }
   ],
   "source": [
    "# Find the indexes where the value is 4:\n",
    "\n",
    "import numpy as np\n",
    "\n",
    "arr = np.array([1, 2, 3, 4, 5, 4, 4])\n",
    "\n",
    "x = np.where(arr == 4)\n",
    "\n",
    "print(x)\n"
   ]
  },
  {
   "cell_type": "raw",
   "id": "e7eefbbc-24a8-420e-8522-0bd84b657d3f",
   "metadata": {},
   "source": [
    "* Search Sorted\n",
    "There is a method called searchsorted() which performs a binary search in the array, and returns the index where the specified value would be inserted to maintain the search order.\n",
    "The searchsorted() method is assumed to be used on sorted arrays."
   ]
  },
  {
   "cell_type": "code",
   "execution_count": 51,
   "id": "58b12f25-ab66-4c83-812f-f5941eb26acd",
   "metadata": {},
   "outputs": [
    {
     "name": "stdout",
     "output_type": "stream",
     "text": [
      "1\n"
     ]
    }
   ],
   "source": [
    "#Find the indexes where the value 7 should be inserted:\n",
    "\n",
    "import numpy as np\n",
    "\n",
    "arr = np.array([6, 7, 8, 9])\n",
    "\n",
    "x = np.searchsorted(arr, 7)\n",
    "\n",
    "print(x)"
   ]
  },
  {
   "cell_type": "markdown",
   "id": "45178bba-6fb7-4421-a01c-ede1cca2eb6c",
   "metadata": {},
   "source": [
    "# Sorting Arrays\r\n",
    "Sorting means putting elements in an ordered sequence.\r\n",
    "\r\n",
    "Ordered sequence is any sequence that has an order corresponding to elements, like numeric or alphabetical, ascending or descending.\r\n",
    "\r\n",
    "The NumPy ndarray object has a function called sort(), that will sort a specified a(np.sort(arr))"
   ]
  },
  {
   "cell_type": "code",
   "execution_count": 52,
   "id": "b6888d12-2ffb-4a70-a253-17281eee40f6",
   "metadata": {},
   "outputs": [
    {
     "name": "stdout",
     "output_type": "stream",
     "text": [
      "[0 1 2 3]\n"
     ]
    }
   ],
   "source": [
    "# Sort the array:\n",
    "\n",
    "import numpy as np\n",
    "\n",
    "arr = np.array([3, 2, 0, 1])\n",
    "\n",
    "print(np.sort(arr))"
   ]
  },
  {
   "cell_type": "code",
   "execution_count": 53,
   "id": "a78002e9-3910-41f8-8970-25097e06c966",
   "metadata": {},
   "outputs": [
    {
     "name": "stdout",
     "output_type": "stream",
     "text": [
      "['apple' 'banana' 'cherry']\n"
     ]
    }
   ],
   "source": [
    "# Sort the array alphabetically:\n",
    "\n",
    "import numpy as np\n",
    "\n",
    "arr = np.array(['banana', 'cherry', 'apple'])\n",
    "\n",
    "print(np.sort(arr))"
   ]
  },
  {
   "cell_type": "code",
   "execution_count": 54,
   "id": "74554807-6345-4d37-848b-4037c8786d10",
   "metadata": {},
   "outputs": [
    {
     "name": "stdout",
     "output_type": "stream",
     "text": [
      "[False  True  True]\n"
     ]
    }
   ],
   "source": [
    "# Sort a boolean array:\n",
    "\n",
    "import numpy as np\n",
    "\n",
    "arr = np.array([True, False, True])\n",
    "\n",
    "print(np.sort(arr))"
   ]
  },
  {
   "cell_type": "markdown",
   "id": "53f7c229-6ca3-4b93-80a6-fc223e59117f",
   "metadata": {},
   "source": [
    "# Filtering Arrays\n",
    "\n",
    "Getting some elements out of an existing array and creating a new array out of them is called filtering.\n",
    "\n",
    "In NumPy, you filter an array using a boolean index list."
   ]
  },
  {
   "cell_type": "code",
   "execution_count": 55,
   "id": "37e37945-c5be-4769-90c9-e130e78277fd",
   "metadata": {},
   "outputs": [
    {
     "name": "stdout",
     "output_type": "stream",
     "text": [
      "[41 43]\n"
     ]
    }
   ],
   "source": [
    "# If the value at an index is True that element is contained in the filtered array, if the value at that index is False that element is excluded from the filtered array.\n",
    "# Create an array from the elements on index 0 and 2:\n",
    "\n",
    "import numpy as np\n",
    "\n",
    "arr = np.array([41, 42, 43, 44])\n",
    "\n",
    "x = [True, False, True, False]\n",
    "\n",
    "newarr = arr[x]\n",
    "\n",
    "print(newarr)\n"
   ]
  },
  {
   "cell_type": "raw",
   "id": "8a41f25b-1c88-4815-9bb6-014f3fb965cb",
   "metadata": {},
   "source": [
    "* Creating the Filter Array\n",
    "In the example above we hard-coded the True and False values, but the common use is to create a filter array based on conditions."
   ]
  },
  {
   "cell_type": "code",
   "execution_count": 56,
   "id": "8087269c-8a1b-409e-9931-cfcdae95ecc2",
   "metadata": {},
   "outputs": [
    {
     "name": "stdout",
     "output_type": "stream",
     "text": [
      "[False, False, True, True]\n",
      "[43 44]\n"
     ]
    }
   ],
   "source": [
    "import numpy as np\n",
    "\n",
    "arr = np.array([41, 42, 43, 44])\n",
    "\n",
    "# Create an empty list\n",
    "filter_arr = []\n",
    "\n",
    "# go through each element in arr\n",
    "for element in arr:\n",
    "  # if the element is higher than 42, set the value to True, otherwise False:\n",
    "  if element > 42:\n",
    "    filter_arr.append(True)\n",
    "  else:\n",
    "    filter_arr.append(False)\n",
    "\n",
    "newarr = arr[filter_arr]\n",
    "\n",
    "print(filter_arr)\n",
    "print(newarr)\n"
   ]
  },
  {
   "cell_type": "raw",
   "id": "2900ac8c-a830-42c8-b5ed-e5c68a2dfada",
   "metadata": {},
   "source": [
    "* Creating Filter Directly From Array\n",
    "The above example is quite a common task in NumPy and NumPy provides a nice way to tackle it.\n",
    "We can directly substitute the array instead of the iterable variable in our condition and it will work just as we expect it to."
   ]
  },
  {
   "cell_type": "code",
   "execution_count": 57,
   "id": "052bc8ea-13a2-4390-9a08-f2ddf2070531",
   "metadata": {},
   "outputs": [
    {
     "name": "stdout",
     "output_type": "stream",
     "text": [
      "[False False  True  True]\n",
      "[43 44]\n"
     ]
    }
   ],
   "source": [
    "# Create a filter array that will return only values higher than 42:\n",
    "\n",
    "import numpy as np\n",
    "\n",
    "arr = np.array([41, 42, 43, 44])\n",
    "\n",
    "filter_arr = arr > 42\n",
    "\n",
    "newarr = arr[filter_arr]\n",
    "\n",
    "print(filter_arr)\n",
    "print(newarr)"
   ]
  },
  {
   "cell_type": "code",
   "execution_count": null,
   "id": "21037bf2-297a-433c-b300-8bc7c881b706",
   "metadata": {},
   "outputs": [],
   "source": []
  }
 ],
 "metadata": {
  "kernelspec": {
   "display_name": "Python 3 (ipykernel)",
   "language": "python",
   "name": "python3"
  },
  "language_info": {
   "codemirror_mode": {
    "name": "ipython",
    "version": 3
   },
   "file_extension": ".py",
   "mimetype": "text/x-python",
   "name": "python",
   "nbconvert_exporter": "python",
   "pygments_lexer": "ipython3",
   "version": "3.11.7"
  }
 },
 "nbformat": 4,
 "nbformat_minor": 5
}
