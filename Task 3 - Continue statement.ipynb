{
 "cells": [
  {
   "cell_type": "markdown",
   "id": "fe0c6cae-8c2f-4cd8-9fa8-ef6bf4f89af7",
   "metadata": {},
   "source": [
    "# Continue Statement  \r\n",
    "The continue statement skips the current iteration of the loop and the control flow of the program goes to the next iteration\n",
    "* Syntax\n",
    "  \n",
    "    If (Condition):\n",
    "  \n",
    "        continue\n",
    "* We can use the continue statement with the for and while loop to skip the current iteration of the loop and jump to the next iteration.."
   ]
  },
  {
   "cell_type": "code",
   "execution_count": 1,
   "id": "b29e6416-4b03-43ef-b8b6-86a38296ad3c",
   "metadata": {},
   "outputs": [
    {
     "name": "stdout",
     "output_type": "stream",
     "text": [
      "0\n",
      "1\n",
      "2\n",
      "4\n"
     ]
    }
   ],
   "source": [
    "for i in range(5):\n",
    "    if i == 3:\n",
    "        continue\n",
    "    print(i)"
   ]
  },
  {
   "cell_type": "code",
   "execution_count": 7,
   "id": "d7bd29d5-3076-4446-99ae-bc10ee7f7981",
   "metadata": {},
   "outputs": [
    {
     "name": "stdout",
     "output_type": "stream",
     "text": [
      "6\n",
      "9\n",
      "15\n",
      "18\n",
      "21\n"
     ]
    }
   ],
   "source": [
    "a= 3\n",
    "while a%3 == 0 and a < 20:\n",
    "      a=a+3\n",
    "      if a== 12:\n",
    "          continue\n",
    "      print(a)"
   ]
  },
  {
   "cell_type": "code",
   "execution_count": 8,
   "id": "9783994d-7b53-40bc-8896-8b4f6fea4d94",
   "metadata": {},
   "outputs": [
    {
     "name": "stdout",
     "output_type": "stream",
     "text": [
      "0\n",
      "1\n",
      "2\n",
      "3\n",
      "4\n",
      "5\n",
      "6\n",
      "7\n",
      "8\n",
      "9\n"
     ]
    }
   ],
   "source": [
    "for i in range(10):\n",
    "    if i == 12:\n",
    "        continue\n",
    "    print(i)"
   ]
  }
 ],
 "metadata": {
  "kernelspec": {
   "display_name": "Python 3 (ipykernel)",
   "language": "python",
   "name": "python3"
  },
  "language_info": {
   "codemirror_mode": {
    "name": "ipython",
    "version": 3
   },
   "file_extension": ".py",
   "mimetype": "text/x-python",
   "name": "python",
   "nbconvert_exporter": "python",
   "pygments_lexer": "ipython3",
   "version": "3.11.7"
  }
 },
 "nbformat": 4,
 "nbformat_minor": 5
}
