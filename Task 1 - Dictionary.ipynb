{
 "cells": [
  {
   "cell_type": "markdown",
   "id": "d7e62bb4-8cb4-4d4d-aae9-b2a5fab9cd0f",
   "metadata": {},
   "source": [
    "# 6.Dictionary\n",
    "Dictionaries are used to store data values in key:value pairs.\r\n",
    "\r\n",
    "A dictionary is a collection which is ordered*, changeable and do not allow duplicates.\r\n",
    "\r\n",
    "As of Python version 3.7, dictionaries are ordered. In Python 3.6 and earlier, dictionaries are unordered.\r\n",
    "\r\n",
    "Dictionaries are written with curly brackets, and have keys and values:"
   ]
  },
  {
   "cell_type": "raw",
   "id": "cfd31c6f-26dd-4357-83ab-82b1fe0197cc",
   "metadata": {},
   "source": [
    "ExampleGet your own Python Server\n",
    "Create and print a dictionary:"
   ]
  },
  {
   "cell_type": "code",
   "execution_count": 1,
   "id": "881a9a60-944f-4322-8113-3acfa2717e24",
   "metadata": {},
   "outputs": [
    {
     "name": "stdout",
     "output_type": "stream",
     "text": [
      "{'brand': 'Ford', 'model': 'Mustang', 'year': 1964}\n"
     ]
    }
   ],
   "source": [
    "dict = {\n",
    "  \"brand\": \"Ford\",\n",
    "  \"model\": \"Mustang\",\n",
    "  \"year\": 1964\n",
    "}\n",
    "print(dict)"
   ]
  },
  {
   "cell_type": "markdown",
   "id": "db8dab07-d425-4eb0-b913-e8cb3de3c58e",
   "metadata": {},
   "source": [
    "* Dictionary Items\n",
    "  \r\n",
    "Dictionary items are ordered, changeable, and do not allow duplicates.\r\n",
    "\r\n",
    "Dictionary items are presented in key:value pairs, and can be referred to by using the key name."
   ]
  },
  {
   "cell_type": "raw",
   "id": "5ef81c00-e027-4761-950a-3b1ea92a2527",
   "metadata": {},
   "source": [
    "Example\n",
    "Print the \"brand\" value of the dictionary:"
   ]
  },
  {
   "cell_type": "code",
   "execution_count": 2,
   "id": "49a1cfe9-6a8b-4f3a-82db-689b2ec519d6",
   "metadata": {},
   "outputs": [
    {
     "name": "stdout",
     "output_type": "stream",
     "text": [
      "Ford\n"
     ]
    }
   ],
   "source": [
    "thisdict = {\n",
    "  \"brand\": \"Ford\",\n",
    "  \"model\": \"Mustang\",\n",
    "  \"year\": 1964\n",
    "}\n",
    "print(thisdict[\"brand\"])"
   ]
  },
  {
   "cell_type": "markdown",
   "id": "345bd649-d4b2-4832-a6c3-abf581186d97",
   "metadata": {},
   "source": [
    "* Ordered or Unordered?\n",
    "  \n",
    "When we say that dictionaries are ordered, it means that the items have a defined order, and that order will not change.Unordered means that the items do not have a defined order, you cannot refer to an item by using an index.\n",
    "\n",
    "* Changeable\n",
    "  \r\n",
    "Dictionaries are changeable, meaning that we can change, add or remove items after the dictionary has been created\n",
    "\n",
    "* Duplicates Not Allowed\n",
    "  \r\n",
    "Dictionaries cannot have two items with the same key:.ey:\n"
   ]
  },
  {
   "cell_type": "raw",
   "id": "60e1f804-c673-4198-aac3-c5e4e4cce502",
   "metadata": {},
   "source": [
    "Example\n",
    "Duplicate values will overwrite existing values:"
   ]
  },
  {
   "cell_type": "code",
   "execution_count": 3,
   "id": "f9475127-4ccb-472e-83ab-3230b8da5761",
   "metadata": {},
   "outputs": [
    {
     "name": "stdout",
     "output_type": "stream",
     "text": [
      "{'brand': 'Ford', 'model': 'Mustang', 'year': 2020}\n"
     ]
    }
   ],
   "source": [
    "dict = {\n",
    "  \"brand\": \"Ford\",\n",
    "  \"model\": \"Mustang\",\n",
    "  \"year\": 1964,\n",
    "  \"year\": 2020\n",
    "}\n",
    "print(dict)"
   ]
  },
  {
   "cell_type": "markdown",
   "id": "93924069-1e4c-4217-88ce-f1aede2a1d6d",
   "metadata": {},
   "source": [
    "* Dictionary Length\n",
    "  \r\n",
    "To determine how many items a dictionary has, use the len() function:"
   ]
  },
  {
   "cell_type": "raw",
   "id": "decf6505-036c-49a5-a219-753cfd1244b6",
   "metadata": {},
   "source": [
    "Example\n",
    "Print the number of items in the dictionary:"
   ]
  },
  {
   "cell_type": "code",
   "execution_count": 4,
   "id": "85980497-caed-4d02-9305-700e3a36daa2",
   "metadata": {},
   "outputs": [
    {
     "name": "stdout",
     "output_type": "stream",
     "text": [
      "3\n"
     ]
    }
   ],
   "source": [
    "print(len(dict))"
   ]
  },
  {
   "cell_type": "markdown",
   "id": "8323efe2-25e6-4fe7-bc79-586da7e803b8",
   "metadata": {},
   "source": [
    "* Dictionary Items - Data Types\n",
    "  \r\n",
    "The values in dictionary items can be of any data type \"blue\"]\r\n",
    "}"
   ]
  },
  {
   "cell_type": "raw",
   "id": "5d1b1515-f115-4fea-ad50-cc3d0b93d893",
   "metadata": {},
   "source": [
    "Example\n",
    "String, int, boolean, and list data types:"
   ]
  },
  {
   "cell_type": "code",
   "execution_count": 5,
   "id": "788e0103-6509-41c7-b86e-93c3b001d053",
   "metadata": {},
   "outputs": [],
   "source": [
    "dict = {\n",
    "  \"brand\": \"Ford\",\n",
    "  \"electric\": False,\n",
    "  \"year\": 1964,\n",
    "  \"colors\": [\"red\", \"white\", \"blue\"]\n",
    "}"
   ]
  },
  {
   "cell_type": "markdown",
   "id": "b317aa3a-e16b-451d-a103-3f4e310bdffb",
   "metadata": {},
   "source": [
    "* type()\n",
    "  \r\n",
    "From Python's perspective, dictionaries are defined as objects with the data type 'dict'nary:"
   ]
  },
  {
   "cell_type": "raw",
   "id": "45f3f44d-cbe5-4eda-8ef1-3acb2e3cd423",
   "metadata": {},
   "source": [
    "Example\n",
    "Print the data type of a dictionary:"
   ]
  },
  {
   "cell_type": "code",
   "execution_count": 6,
   "id": "3895c346-baef-46e3-8525-368089e42538",
   "metadata": {},
   "outputs": [
    {
     "name": "stdout",
     "output_type": "stream",
     "text": [
      "<class 'dict'>\n"
     ]
    }
   ],
   "source": [
    "dict = {\n",
    "  \"brand\": \"Ford\",\n",
    "  \"model\": \"Mustang\",\n",
    "  \"year\": 1964\n",
    "}\n",
    "print(type(dict))"
   ]
  },
  {
   "cell_type": "markdown",
   "id": "c7ba60fd-195a-46cb-ac99-e652139f1da2",
   "metadata": {},
   "source": [
    "# Dictionary Methods"
   ]
  },
  {
   "cell_type": "raw",
   "id": "977db0ef-5a76-41d9-88eb-868131ce9cc9",
   "metadata": {},
   "source": [
    "Method\t          Description\n",
    "\n",
    "clear()\t          Removes all the elements from the dictionary\n",
    "copy()\t          Returns a copy of the dictionary\n",
    "fromkeys()\t      Returns a dictionary with the specified keys and value\n",
    "get()\t          Returns the value of the specified key\n",
    "items()\t          Returns a list containing a tuple for each key value pair\n",
    "keys()\t          Returns a list containing the dictionary's keys\n",
    "pop()\t          Removes the element with the specified key\n",
    "popitem()\t      Removes the last inserted key-value pair\n",
    "setdefault()\t  Returns the value of the specified key. If the key does not exist: insert the key, with the specified value\n",
    "update()\t      Updates the dictionary with the specified key-value pairs\n",
    "values()\t      Returns a list of all the values in the dictionary"
   ]
  }
 ],
 "metadata": {
  "kernelspec": {
   "display_name": "Python 3 (ipykernel)",
   "language": "python",
   "name": "python3"
  },
  "language_info": {
   "codemirror_mode": {
    "name": "ipython",
    "version": 3
   },
   "file_extension": ".py",
   "mimetype": "text/x-python",
   "name": "python",
   "nbconvert_exporter": "python",
   "pygments_lexer": "ipython3",
   "version": "3.11.7"
  }
 },
 "nbformat": 4,
 "nbformat_minor": 5
}
