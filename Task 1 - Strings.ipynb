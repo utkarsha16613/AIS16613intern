{
 "cells": [
  {
   "cell_type": "markdown",
   "id": "b2306576-445a-4817-ba31-3367d28bd2b6",
   "metadata": {},
   "source": [
    "# 2.Strings\n",
    "Strings in python are surrounded by either single quotation marks, or double quotation marks.\n",
    "\n",
    "We can display a string literal with the print() function:"
   ]
  },
  {
   "cell_type": "raw",
   "id": "68d949b7-6d73-4632-b85c-26313da863c0",
   "metadata": {},
   "source": [
    "Example"
   ]
  },
  {
   "cell_type": "code",
   "execution_count": 1,
   "id": "ef7ac7c3-86b1-4e48-85d0-932b0d32cae0",
   "metadata": {},
   "outputs": [
    {
     "name": "stdout",
     "output_type": "stream",
     "text": [
      "Welcome\n",
      "Welcome\n"
     ]
    }
   ],
   "source": [
    "print(\"Welcome\")\n",
    "print('Welcome')"
   ]
  },
  {
   "cell_type": "markdown",
   "id": "2d26e5ca-d05f-4320-b834-09a3a284ea99",
   "metadata": {},
   "source": [
    "* Quotes Inside Quotes\n",
    "\n",
    "You can use quotes inside a string, as long as they don't match the quotes surrounding the string:"
   ]
  },
  {
   "cell_type": "code",
   "execution_count": 2,
   "id": "bc31ab44-1437-4e23-a822-8b7327bd16cb",
   "metadata": {},
   "outputs": [
    {
     "name": "stdout",
     "output_type": "stream",
     "text": [
      "My name is 'Utkarsha'\n"
     ]
    }
   ],
   "source": [
    "print(\"My name is 'Utkarsha'\")"
   ]
  },
  {
   "cell_type": "markdown",
   "id": "508d8879-520e-4bff-a873-aee1a7e78068",
   "metadata": {},
   "source": [
    "* Assign String to a Variable\n",
    "\n",
    "Assigning a string to a variable is done with the variable name followed by an equal sign and the string:"
   ]
  },
  {
   "cell_type": "code",
   "execution_count": 3,
   "id": "7765fa73-c23a-482e-9956-1816e2e65392",
   "metadata": {},
   "outputs": [
    {
     "name": "stdout",
     "output_type": "stream",
     "text": [
      "Hello\n"
     ]
    }
   ],
   "source": [
    "a=\"Hello\"\n",
    "print(a)"
   ]
  },
  {
   "cell_type": "markdown",
   "id": "e2181ee5-ce37-4679-a0ae-75c2d8d869d4",
   "metadata": {},
   "source": [
    "* Multiline Strings\n",
    "\n",
    "We can assign a multiline string to a variable by using three quotes. We use three double or single quotes"
   ]
  },
  {
   "cell_type": "code",
   "execution_count": 4,
   "id": "bef74250-5c42-4ee0-976d-c5e8710a350f",
   "metadata": {},
   "outputs": [
    {
     "name": "stdout",
     "output_type": "stream",
     "text": [
      "Every morning \n",
      "you have two choices:\n",
      "continue to sleep with your dreames or\n",
      "wake up and chase them.\n"
     ]
    }
   ],
   "source": [
    "a=\"\"\"Every morning \n",
    "you have two choices:\n",
    "continue to sleep with your dreames or\n",
    "wake up and chase them.\"\"\"\n",
    "print(a)"
   ]
  },
  {
   "cell_type": "markdown",
   "id": "73550072-4dd7-4062-9160-766663a87ad3",
   "metadata": {},
   "source": [
    "* Strings are Arrays\n",
    "  \n",
    "Like many other popular programming languages, strings in Python are arrays of bytes representing unicode characters.\n",
    "\n",
    "However, Python does not have a character data type, a single character is simply a string with a length of 1.\n",
    "\n",
    "Square brackets can be used to access elements of the string."
   ]
  },
  {
   "cell_type": "code",
   "execution_count": 7,
   "id": "6e3c04f8-db74-4f42-a522-e9df4612559b",
   "metadata": {},
   "outputs": [
    {
     "name": "stdout",
     "output_type": "stream",
     "text": [
      "e\n"
     ]
    }
   ],
   "source": [
    "a= \"Welcome, Home!\"\n",
    "print(a[1])"
   ]
  },
  {
   "cell_type": "markdown",
   "id": "ca63ba3a-698e-48a0-8bff-4150a302d7e2",
   "metadata": {},
   "source": [
    "* Looping Through a String\n",
    "\n",
    "Since strings are arrays, we can loop through the characters in a string, with a for loop."
   ]
  },
  {
   "cell_type": "code",
   "execution_count": 1,
   "id": "076ebd37-b69d-420d-8a26-883a2565e5fc",
   "metadata": {},
   "outputs": [
    {
     "name": "stdout",
     "output_type": "stream",
     "text": [
      "b\n",
      "a\n",
      "n\n",
      "a\n",
      "n\n",
      "a\n"
     ]
    }
   ],
   "source": [
    "for x in \"banana\":\n",
    "  print(x)\n"
   ]
  },
  {
   "cell_type": "markdown",
   "id": "cba1b14a-e40d-4b08-b4a2-919fbe3000f5",
   "metadata": {},
   "source": [
    "* String Length\n",
    "\n",
    "To get the length of a string, use the len() function."
   ]
  },
  {
   "cell_type": "code",
   "execution_count": 2,
   "id": "41676ba1-9e32-4375-9425-62fefc246d7e",
   "metadata": {},
   "outputs": [
    {
     "name": "stdout",
     "output_type": "stream",
     "text": [
      "13\n"
     ]
    }
   ],
   "source": [
    "a = \"Hello, World!\"\n",
    "print(len(a))"
   ]
  },
  {
   "cell_type": "markdown",
   "id": "c6234a07-cb1e-4630-8f08-3a6615c24539",
   "metadata": {},
   "source": [
    "* Check String\n",
    "\n",
    "To check if a certain phrase or character is present in a string, we can use the keyword in"
   ]
  },
  {
   "cell_type": "code",
   "execution_count": 3,
   "id": "2c834f80-5154-4d4d-839a-7c4e54b20a38",
   "metadata": {},
   "outputs": [
    {
     "name": "stdout",
     "output_type": "stream",
     "text": [
      "True\n"
     ]
    }
   ],
   "source": [
    "a = \"Health is Wealth\"\n",
    "print(\"Wealth\" in a)"
   ]
  },
  {
   "cell_type": "markdown",
   "id": "b8745f34-cd99-471e-aff9-635581a9da9e",
   "metadata": {},
   "source": [
    "Use it in an if statement:"
   ]
  },
  {
   "cell_type": "raw",
   "id": "2dc5ddc8-faaa-4e24-a617-069f85ab1a2e",
   "metadata": {},
   "source": [
    "Print only if \"Wealth\" is present:"
   ]
  },
  {
   "cell_type": "code",
   "execution_count": 4,
   "id": "8072d604-b388-4908-85d1-b77c66615c56",
   "metadata": {},
   "outputs": [
    {
     "name": "stdout",
     "output_type": "stream",
     "text": [
      "Yes, 'Wealth' is present.\n"
     ]
    }
   ],
   "source": [
    "txt = \"Health is Wealth\"\n",
    "if \"Wealth\" in txt:\n",
    "  print(\"Yes, 'Wealth' is present.\")"
   ]
  },
  {
   "cell_type": "markdown",
   "id": "0a756337-3d34-4baa-bad0-70f78be075e9",
   "metadata": {},
   "source": [
    "* Check if NOT\n",
    "\n",
    "To check if a certain phrase or character is NOT present in a string, we can use the keyword not in."
   ]
  },
  {
   "cell_type": "code",
   "execution_count": 5,
   "id": "f8b8c2ea-5d5d-46c8-a6bd-5098a53e77ca",
   "metadata": {},
   "outputs": [
    {
     "ename": "SyntaxError",
     "evalue": "expected 'else' after 'if' expression (3069656895.py, line 1)",
     "output_type": "error",
     "traceback": [
      "\u001b[1;36m  Cell \u001b[1;32mIn[5], line 1\u001b[1;36m\u001b[0m\n\u001b[1;33m    Check if \"expensive\" is NOT present in the following text:\u001b[0m\n\u001b[1;37m    ^\u001b[0m\n\u001b[1;31mSyntaxError\u001b[0m\u001b[1;31m:\u001b[0m expected 'else' after 'if' expression\n"
     ]
    }
   ],
   "source": [
    "Check if \"expensive\" is NOT present in the following text:"
   ]
  },
  {
   "cell_type": "code",
   "execution_count": 6,
   "id": "6bba296a-a908-4092-ba35-5ef25e585475",
   "metadata": {},
   "outputs": [
    {
     "name": "stdout",
     "output_type": "stream",
     "text": [
      "True\n"
     ]
    }
   ],
   "source": [
    "txt = \"Health is Wealth\"\n",
    "print(\"free\" not in txt)"
   ]
  },
  {
   "cell_type": "raw",
   "id": "8c21d050-555f-4016-b6b6-44f4de7d325f",
   "metadata": {},
   "source": [
    "print only if \"free\" is NOT present:"
   ]
  },
  {
   "cell_type": "code",
   "execution_count": 7,
   "id": "d070a228-285e-4a62-a3af-6496afa951ce",
   "metadata": {},
   "outputs": [
    {
     "name": "stdout",
     "output_type": "stream",
     "text": [
      "No, 'free' is NOT present.\n"
     ]
    }
   ],
   "source": [
    "txt = \"Health is Wealth\"\n",
    "if \"free\" not in txt:\n",
    "  print(\"No, 'free' is NOT present.\")"
   ]
  },
  {
   "cell_type": "markdown",
   "id": "6bb33525-06d2-4f6c-8ed3-2ee72d7e1051",
   "metadata": {},
   "source": [
    "# String Methods"
   ]
  },
  {
   "cell_type": "raw",
   "id": "722fa63b-10b0-4e0b-99c3-0a83b32601a6",
   "metadata": {},
   "source": [
    "Method                 Description\n",
    "\n",
    "capitalize()           Converts the first character to upper case\n",
    "casefold()\t           Converts string into lower case\n",
    "center()\t           Returns a centered string\n",
    "count()\t               Returns the number of times a specified value occurs in a string\n",
    "encode()\t           Returns an encoded version of the string\n",
    "endswith()\t           Returns true if the string ends with the specified value\n",
    "expandtabs()\t       Sets the tab size of the string\n",
    "find()\t               Searches the string for a specified value and returns the position of where it was found\n",
    "format()\t           Formats specified values in a string\n",
    "format_map()\t       Formats specified values in a string\n",
    "index()\t               Searches the string for a specified value and returns the position of where it was found\n",
    "isalnum()\t           Returns True if all characters in the string are alphanumeric\n",
    "isalpha()\t           Returns True if all characters in the string are in the alphabet\n",
    "isascii()\t           Returns True if all characters in the string are ascii characters\n",
    "isdecimal()\t           Returns True if all characters in the string are decimals\n",
    "isdigit()\t           Returns True if all characters in the string are digits\n",
    "isidentifier()\t       Returns True if the string is an identifier\n",
    "islower()\t           Returns True if all characters in the string are lower case\n",
    "isnumeric()\t           Returns True if all characters in the string are numeric\n",
    "isprintable()\t       Returns True if all characters in the string are printable\n",
    "isspace()\t           Returns True if all characters in the string are whitespaces\n",
    "istitle()\t           Returns True if the string follows the rules of a title\n",
    "isupper()\t           Returns True if all characters in the string are upper case\n",
    "join()\t               Joins the elements of an iterable to the end of the string\n",
    "ljust()\t               Returns a left justified version of the string\n",
    "lower()\t               Converts a string into lower case\n",
    "lstrip()\t           Returns a left trim version of the string\n",
    "maketrans()\t           Returns a translation table to be used in translations\n",
    "partition()\t           Returns a tuple where the string is parted into three parts\n",
    "replace()\t           Returns a string where a specified value is replaced with a specified value\n",
    "rfind()\t               Searches the string for a specified value and returns the last position of where it was found\n",
    "rindex()\t           Searches the string for a specified value and returns the last position of where it was found\n",
    "rjust()\t               Returns a right justified version of the string\n",
    "rpartition()\t       Returns a tuple where the string is parted into three parts\n",
    "rsplit()\t           Splits the string at the specified separator, and returns a list\n",
    "rstrip()\t           Returns a right trim version of the string\n",
    "split()\t               Splits the string at the specified separator, and returns a list\n",
    "splitlines()       \t   Splits the string at line breaks and returns a list\n",
    "startswith()\t       Returns true if the string starts with the specified value\n",
    "strip()\t               Returns a trimmed version of the string\n",
    "swapcase()\t           Swaps cases, lower case becomes upper case and vice versa\n",
    "title()\t               Converts the first character of each word to upper case\n",
    "translate()\t           Returns a translated string\n",
    "upper()\t               Converts a string into upper case\n",
    "zfill()\t               Fills the string with a specified number of 0 values at the beginning\n"
   ]
  }
 ],
 "metadata": {
  "kernelspec": {
   "display_name": "Python 3 (ipykernel)",
   "language": "python",
   "name": "python3"
  },
  "language_info": {
   "codemirror_mode": {
    "name": "ipython",
    "version": 3
   },
   "file_extension": ".py",
   "mimetype": "text/x-python",
   "name": "python",
   "nbconvert_exporter": "python",
   "pygments_lexer": "ipython3",
   "version": "3.11.7"
  }
 },
 "nbformat": 4,
 "nbformat_minor": 5
}
