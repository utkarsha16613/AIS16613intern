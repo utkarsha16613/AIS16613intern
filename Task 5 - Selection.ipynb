{
 "cells": [
  {
   "cell_type": "markdown",
   "id": "4be36fb2-7da8-4b16-ae64-ffb30cffcedc",
   "metadata": {},
   "source": [
    "Selecting columns and rows in a Pandas DataFrame is a fundamental operation for data manipulation and analysis. \n"
   ]
  },
  {
   "cell_type": "markdown",
   "id": "5903c220-df94-4780-acd9-1f2aa77085bf",
   "metadata": {},
   "source": [
    "* # Column Selection\n",
    "  \n",
    "1. Selecting a Single Column\n",
    " \n",
    "You can select a single column using the column name."
   ]
  },
  {
   "cell_type": "code",
   "execution_count": 1,
   "id": "3baf47ee-07e6-4dc8-bd37-b508069ddcf1",
   "metadata": {},
   "outputs": [
    {
     "name": "stdout",
     "output_type": "stream",
     "text": [
      "Column A:\n",
      " 0    1\n",
      "1    2\n",
      "2    3\n",
      "Name: A, dtype: int64\n"
     ]
    }
   ],
   "source": [
    "import pandas as pd\n",
    "\n",
    "# Create a DataFrame\n",
    "data = {'A': [1, 2, 3], 'B': [4, 5, 6], 'C': [7, 8, 9]}\n",
    "df = pd.DataFrame(data)\n",
    "\n",
    "# Select column 'A'\n",
    "col_a = df['A']\n",
    "\n",
    "print(\"Column A:\\n\", col_a)\n"
   ]
  },
  {
   "cell_type": "markdown",
   "id": "29e51d81-cedc-494b-8b9d-7275554d137f",
   "metadata": {},
   "source": [
    "2. Selecting Multiple Columns\n",
    "   \n",
    "You can select multiple columns by passing a list of column names."
   ]
  },
  {
   "cell_type": "code",
   "execution_count": 2,
   "id": "eef7d64c-9a1a-4cd9-ab37-ea87949dfbfb",
   "metadata": {},
   "outputs": [
    {
     "name": "stdout",
     "output_type": "stream",
     "text": [
      "Columns A and C:\n",
      "    A  C\n",
      "0  1  7\n",
      "1  2  8\n",
      "2  3  9\n"
     ]
    }
   ],
   "source": [
    "# Select columns 'A' and 'C'\n",
    "cols_ac = df[['A', 'C']]\n",
    "\n",
    "print(\"Columns A and C:\\n\", cols_ac)"
   ]
  },
  {
   "cell_type": "markdown",
   "id": "789f4235-90de-4899-802b-14d5142896c6",
   "metadata": {},
   "source": [
    "* # Row Selection\n",
    "\n",
    "# 1. Selecting Rows by Index (iloc)  \n",
    "The iloc method is used for integer-location based indexing for selection by position."
   ]
  },
  {
   "cell_type": "code",
   "execution_count": 3,
   "id": "493df6f7-c113-4e49-9424-bc171ef95b89",
   "metadata": {},
   "outputs": [
    {
     "name": "stdout",
     "output_type": "stream",
     "text": [
      "First Row:\n",
      " A    1\n",
      "B    4\n",
      "C    7\n",
      "Name: 0, dtype: int64\n",
      "First and Third Rows:\n",
      "    A  B  C\n",
      "0  1  4  7\n",
      "2  3  6  9\n"
     ]
    }
   ],
   "source": [
    "# Select the first row\n",
    "row_0 = df.iloc[0]\n",
    "\n",
    "print(\"First Row:\\n\", row_0)\n",
    "\n",
    "# Select multiple rows (first and third rows)\n",
    "rows_0_2 = df.iloc[[0, 2]]\n",
    "\n",
    "print(\"First and Third Rows:\\n\", rows_0_2)"
   ]
  },
  {
   "cell_type": "markdown",
   "id": "2b8f99fc-33f1-4afd-b0a9-4a520d926fe6",
   "metadata": {},
   "source": [
    "# 2. Selecting Rows by Label (loc)  \n",
    "The loc method is used for label-based indexing for selection by label."
   ]
  },
  {
   "cell_type": "code",
   "execution_count": 4,
   "id": "f4a7bfb4-3aad-46e0-af42-5e4ed960495b",
   "metadata": {},
   "outputs": [
    {
     "name": "stdout",
     "output_type": "stream",
     "text": [
      "Row with label 'row1':\n",
      " A    1\n",
      "B    4\n",
      "C    7\n",
      "Name: row1, dtype: int64\n",
      "Rows with labels 'row1' and 'row3':\n",
      "       A  B  C\n",
      "row1  1  4  7\n",
      "row3  3  6  9\n"
     ]
    }
   ],
   "source": [
    "# Set a new index to demonstrate label-based selection\n",
    "df.index = ['row1', 'row2', 'row3']\n",
    "\n",
    "# Select the row with label 'row1'\n",
    "row_1 = df.loc['row1']\n",
    "\n",
    "print(\"Row with label 'row1':\\n\", row_1)\n",
    "\n",
    "# Select multiple rows with labels 'row1' and 'row3'\n",
    "rows_1_3 = df.loc[['row1', 'row3']]\n",
    "\n",
    "print(\"Rows with labels 'row1' and 'row3':\\n\", rows_1_3)"
   ]
  },
  {
   "cell_type": "markdown",
   "id": "bafb9a3f-9de0-4585-a2fc-46dd94a68b44",
   "metadata": {},
   "source": [
    "* # Conditional Selection  \n",
    "You can also select rows based on a condition."
   ]
  },
  {
   "cell_type": "code",
   "execution_count": 5,
   "id": "90a561ed-1586-4f26-90ed-0eb0b2fcc3e8",
   "metadata": {},
   "outputs": [
    {
     "name": "stdout",
     "output_type": "stream",
     "text": [
      "Rows where column 'A' > 1:\n",
      "       A  B  C\n",
      "row2  2  5  8\n",
      "row3  3  6  9\n"
     ]
    }
   ],
   "source": [
    "# Select rows where column 'A' is greater than 1\n",
    "cond_rows = df[df['A'] > 1]\n",
    "\n",
    "print(\"Rows where column 'A' > 1:\\n\", cond_rows)\n"
   ]
  },
  {
   "cell_type": "markdown",
   "id": "780a16e2-3133-46a0-965e-52c66b103a9d",
   "metadata": {},
   "source": [
    "* # Selecting Rows and Columns Together  \n",
    "You can combine both row and column selection using iloc or loc."
   ]
  },
  {
   "cell_type": "code",
   "execution_count": 7,
   "id": "074ca824-ebd2-4b4b-b7bf-03e16595f7ff",
   "metadata": {},
   "outputs": [
    {
     "name": "stdout",
     "output_type": "stream",
     "text": [
      "Element at row 1, column 'B': 5\n",
      "Subset of the DataFrame:\n",
      "       A  B\n",
      "row1  1  4\n",
      "row2  2  5\n"
     ]
    }
   ],
   "source": [
    "# Select a specific element (row 1, column 'B') using iloc\n",
    "elem = df.iloc[1, df.columns.get_loc('B')]\n",
    "\n",
    "print(\"Element at row 1, column 'B':\", elem)\n",
    "\n",
    "# Select a subset of the DataFrame (first two rows, columns 'A' and 'B')\n",
    "subset = df.loc[['row1', 'row2'], ['A', 'B']]\n",
    "\n",
    "print(\"Subset of the DataFrame:\\n\", subset)\n"
   ]
  },
  {
   "cell_type": "markdown",
   "id": "11e0e9ed-594e-434f-826f-c1689155413e",
   "metadata": {},
   "source": [
    "* # Using at and iat for Scalar Values  \n",
    "For accessing a single scalar value, at and iat are more efficient."
   ]
  },
  {
   "cell_type": "code",
   "execution_count": 8,
   "id": "983365c8-aa91-4107-ae48-936043bb914b",
   "metadata": {},
   "outputs": [
    {
     "name": "stdout",
     "output_type": "stream",
     "text": [
      "Scalar value at ('row1', 'A'): 1\n",
      "Scalar value at (0, 0): 1\n"
     ]
    }
   ],
   "source": [
    "# Using at\n",
    "scalar_at = df.at['row1', 'A']\n",
    "print(\"Scalar value at ('row1', 'A'):\", scalar_at)\n",
    "\n",
    "# Using iat\n",
    "scalar_iat = df.iat[0, 0]\n",
    "print(\"Scalar value at (0, 0):\", scalar_iat)"
   ]
  },
  {
   "cell_type": "markdown",
   "id": "986db5ad-f221-49cc-8a4a-1d5d85f0c809",
   "metadata": {},
   "source": [
    "* # Adding Columns\n",
    "  \n",
    "1. Adding a Column with a Constant Value  \n",
    "You can add a new column with a constant value to a DataFrame."
   ]
  },
  {
   "cell_type": "code",
   "execution_count": 9,
   "id": "05b0f3a7-405c-4f30-bbf3-619362b592fb",
   "metadata": {},
   "outputs": [
    {
     "name": "stdout",
     "output_type": "stream",
     "text": [
      "DataFrame after adding column 'C':\n",
      "    A  B  C\n",
      "0  1  4  7\n",
      "1  2  5  7\n",
      "2  3  6  7\n"
     ]
    }
   ],
   "source": [
    "import pandas as pd\n",
    "\n",
    "# Create a DataFrame\n",
    "data = {'A': [1, 2, 3], 'B': [4, 5, 6]}\n",
    "df = pd.DataFrame(data)\n",
    "\n",
    "# Add a new column 'C' with a constant value\n",
    "df['C'] = 7\n",
    "\n",
    "print(\"DataFrame after adding column 'C':\\n\", df)"
   ]
  },
  {
   "cell_type": "markdown",
   "id": "2dbb9836-43d5-41fc-87f7-69a7b903dcdc",
   "metadata": {},
   "source": [
    "2. Adding a Column with Values from a List or Series  \n",
    "You can add a new column with values from a list or another Series."
   ]
  },
  {
   "cell_type": "code",
   "execution_count": 10,
   "id": "7d4914a2-56ea-4919-854f-53de102e1706",
   "metadata": {},
   "outputs": [
    {
     "name": "stdout",
     "output_type": "stream",
     "text": [
      "DataFrame after adding column 'D':\n",
      "    A  B  C   D\n",
      "0  1  4  7  10\n",
      "1  2  5  7  20\n",
      "2  3  6  7  30\n"
     ]
    }
   ],
   "source": [
    "# Add a new column 'D' with values from a list\n",
    "df['D'] = [10, 20, 30]\n",
    "\n",
    "print(\"DataFrame after adding column 'D':\\n\", df)"
   ]
  },
  {
   "cell_type": "markdown",
   "id": "5a987d28-eb6e-4650-aa55-9df007cfae1a",
   "metadata": {},
   "source": [
    "3. Adding a Column Based on a Calculation\n",
    "   \n",
    "You can add a new column based on calculations from existing columns."
   ]
  },
  {
   "cell_type": "code",
   "execution_count": 11,
   "id": "ebc95701-9c15-4db0-8d14-63381ae31dc1",
   "metadata": {},
   "outputs": [
    {
     "name": "stdout",
     "output_type": "stream",
     "text": [
      "DataFrame after adding column 'E':\n",
      "    A  B  C   D  E\n",
      "0  1  4  7  10  5\n",
      "1  2  5  7  20  7\n",
      "2  3  6  7  30  9\n"
     ]
    }
   ],
   "source": [
    "# Add a new column 'E' which is the sum of columns 'A' and 'B'\n",
    "df['E'] = df['A'] + df['B']\n",
    "\n",
    "print(\"DataFrame after adding column 'E':\\n\", df)"
   ]
  },
  {
   "cell_type": "markdown",
   "id": "251d7a21-2580-4208-9560-89384992e736",
   "metadata": {},
   "source": [
    "* # Deleting Columns\n",
    "  \n",
    "1. Deleting a Single Column  \n",
    "You can delete a single column using the drop() method."
   ]
  },
  {
   "cell_type": "code",
   "execution_count": 12,
   "id": "94d03843-1ead-4fde-8027-a41d458309d4",
   "metadata": {},
   "outputs": [
    {
     "name": "stdout",
     "output_type": "stream",
     "text": [
      "DataFrame after deleting column 'C':\n",
      "    A  B   D  E\n",
      "0  1  4  10  5\n",
      "1  2  5  20  7\n",
      "2  3  6  30  9\n"
     ]
    }
   ],
   "source": [
    "# Delete column 'C'\n",
    "df = df.drop(columns=['C'])\n",
    "\n",
    "print(\"DataFrame after deleting column 'C':\\n\", df)"
   ]
  },
  {
   "cell_type": "markdown",
   "id": "760899f6-3d0e-4401-9611-838a84167647",
   "metadata": {},
   "source": [
    "2. Deleting Multiple Columns  \n",
    "You can delete multiple columns at once using the drop() method."
   ]
  },
  {
   "cell_type": "code",
   "execution_count": 13,
   "id": "836acae2-9238-4a28-8078-558929d0c5e0",
   "metadata": {},
   "outputs": [
    {
     "name": "stdout",
     "output_type": "stream",
     "text": [
      "DataFrame after deleting columns 'D' and 'E':\n",
      "    A  B\n",
      "0  1  4\n",
      "1  2  5\n",
      "2  3  6\n"
     ]
    }
   ],
   "source": [
    "# Delete columns 'D' and 'E'\n",
    "df = df.drop(columns=['D', 'E'])\n",
    "\n",
    "print(\"DataFrame after deleting columns 'D' and 'E':\\n\", df)"
   ]
  },
  {
   "cell_type": "markdown",
   "id": "16726410-e5c3-4822-b53a-d832751c1272",
   "metadata": {},
   "source": [
    "* # Updating Columns\n",
    "  \n",
    "1. Updating Values in an Entire Column  \n",
    "You can update all values in a column."
   ]
  },
  {
   "cell_type": "code",
   "execution_count": 14,
   "id": "694c2c1d-c410-45be-860a-09b7d8cbc30f",
   "metadata": {},
   "outputs": [
    {
     "name": "stdout",
     "output_type": "stream",
     "text": [
      "DataFrame after updating column 'A':\n",
      "    A  B\n",
      "0  2  4\n",
      "1  4  5\n",
      "2  6  6\n"
     ]
    }
   ],
   "source": [
    "# Update all values in column 'A' to be doubled\n",
    "df['A'] = df['A'] * 2\n",
    "\n",
    "print(\"DataFrame after updating column 'A':\\n\", df)"
   ]
  },
  {
   "cell_type": "markdown",
   "id": "0480aa69-7487-48e7-b906-8262ee60b093",
   "metadata": {},
   "source": [
    "2. Updating Values Based on a Condition  \n",
    "You can update values in a column based on a condition."
   ]
  },
  {
   "cell_type": "code",
   "execution_count": 15,
   "id": "bc13d368-b2fb-458e-955f-318a29c509e2",
   "metadata": {},
   "outputs": [
    {
     "name": "stdout",
     "output_type": "stream",
     "text": [
      "DataFrame after conditionally updating column 'B':\n",
      "    A  B\n",
      "0  2  4\n",
      "1  4  0\n",
      "2  6  0\n"
     ]
    }
   ],
   "source": [
    "# Update values in column 'B' to be 0 where the value in 'A' is greater than 2\n",
    "df.loc[df['A'] > 2, 'B'] = 0\n",
    "\n",
    "print(\"DataFrame after conditionally updating column 'B':\\n\", df)"
   ]
  },
  {
   "cell_type": "markdown",
   "id": "a51a4864-4516-4a5d-bd97-6f769a43f4cc",
   "metadata": {},
   "source": [
    "# Adding, Deleting, and Updating Columns Example  \n",
    "Here's an example combining adding, deleting, and updating columns:"
   ]
  },
  {
   "cell_type": "code",
   "execution_count": 16,
   "id": "a0a3a5b6-5e6c-4507-9e12-06eb50a14bd9",
   "metadata": {},
   "outputs": [
    {
     "name": "stdout",
     "output_type": "stream",
     "text": [
      "Final DataFrame:\n",
      "    A  B  C\n",
      "0 -1  4  7\n",
      "1 -2  0  8\n",
      "2 -3  0  9\n"
     ]
    }
   ],
   "source": [
    "# Create a DataFrame\n",
    "data = {'A': [1, 2, 3], 'B': [4, 5, 6]}\n",
    "df = pd.DataFrame(data)\n",
    "\n",
    "# Add new column 'C' with values [7, 8, 9]\n",
    "df['C'] = [7, 8, 9]\n",
    "\n",
    "# Add new column 'D' based on calculation (A + B)\n",
    "df['D'] = df['A'] + df['B']\n",
    "\n",
    "# Update column 'A' to be its negative\n",
    "df['A'] = -df['A']\n",
    "\n",
    "# Conditionally update column 'B' to be 0 where column 'C' > 7\n",
    "df.loc[df['C'] > 7, 'B'] = 0\n",
    "\n",
    "# Delete column 'D'\n",
    "df = df.drop(columns=['D'])\n",
    "\n",
    "print(\"Final DataFrame:\\n\", df)"
   ]
  },
  {
   "cell_type": "markdown",
   "id": "560569a1-864c-4156-9f7a-3d34898ccb29",
   "metadata": {},
   "source": [
    "* # Setting an Index\n",
    "  \n",
    "1. Setting an Index with set_index()  \n",
    "You can set a column as the index of the DataFrame."
   ]
  },
  {
   "cell_type": "code",
   "execution_count": 17,
   "id": "eea50499-70da-4691-8e98-c41393c58a12",
   "metadata": {},
   "outputs": [
    {
     "name": "stdout",
     "output_type": "stream",
     "text": [
      "DataFrame after setting index:\n",
      "    A  B\n",
      "C      \n",
      "a  1  4\n",
      "b  2  5\n",
      "c  3  6\n"
     ]
    }
   ],
   "source": [
    "import pandas as pd\n",
    "\n",
    "# Create a DataFrame\n",
    "data = {'A': [1, 2, 3], 'B': [4, 5, 6], 'C': ['a', 'b', 'c']}\n",
    "df = pd.DataFrame(data)\n",
    "\n",
    "# Set column 'C' as the index\n",
    "df = df.set_index('C')\n",
    "\n",
    "print(\"DataFrame after setting index:\\n\", df)"
   ]
  },
  {
   "cell_type": "markdown",
   "id": "94c9d7b7-b464-4bac-a200-821b78356809",
   "metadata": {},
   "source": [
    "* # Resetting the Index\n",
    "  \n",
    "2. Resetting the Index with reset_index()  \n",
    "You can reset the index to default integer index and move the current index back to columns."
   ]
  },
  {
   "cell_type": "code",
   "execution_count": 18,
   "id": "7ef24711-edff-4529-a941-f85c199f3035",
   "metadata": {},
   "outputs": [
    {
     "name": "stdout",
     "output_type": "stream",
     "text": [
      "DataFrame after resetting index:\n",
      "    C  A  B\n",
      "0  a  1  4\n",
      "1  b  2  5\n",
      "2  c  3  6\n"
     ]
    }
   ],
   "source": [
    "# Reset the index\n",
    "df_reset = df.reset_index()\n",
    "\n",
    "print(\"DataFrame after resetting index:\\n\", df_reset)"
   ]
  },
  {
   "cell_type": "markdown",
   "id": "4171de66-0a0c-437f-bee7-49df54bcc1b0",
   "metadata": {},
   "source": [
    "* # Removing the Index\n",
    "  \n",
    "3. Removing the Index by Resetting and Dropping It  \n",
    "To remove the index and reset it to the default integer index, you can reset the index and drop it."
   ]
  },
  {
   "cell_type": "code",
   "execution_count": 19,
   "id": "59699beb-2c78-48e2-a236-5256715b8f3e",
   "metadata": {},
   "outputs": [
    {
     "name": "stdout",
     "output_type": "stream",
     "text": [
      "DataFrame after resetting and dropping index:\n",
      "    A  B\n",
      "0  1  4\n",
      "1  2  5\n",
      "2  3  6\n"
     ]
    }
   ],
   "source": [
    "# Reset the index and drop the current index\n",
    "df_reset_drop = df.reset_index(drop=True)\n",
    "\n",
    "print(\"DataFrame after resetting and dropping index:\\n\", df_reset_drop)"
   ]
  },
  {
   "cell_type": "markdown",
   "id": "1f020178-f5ba-48be-8412-dbe7f60b9d97",
   "metadata": {},
   "source": [
    "* # Operations between two Columns\n",
    "  \n",
    "# 1. Arithmetic Operations\n",
    "   * Addition"
   ]
  },
  {
   "cell_type": "code",
   "execution_count": 20,
   "id": "88cce80a-2b5e-466f-9d78-47025f015c5c",
   "metadata": {},
   "outputs": [
    {
     "name": "stdout",
     "output_type": "stream",
     "text": [
      "DataFrame after addition:\n",
      "    A  B  A_plus_B\n",
      "0  1  4         5\n",
      "1  2  5         7\n",
      "2  3  6         9\n"
     ]
    }
   ],
   "source": [
    "import pandas as pd\n",
    "\n",
    "# Create a DataFrame\n",
    "data = {'A': [1, 2, 3], 'B': [4, 5, 6]}\n",
    "df = pd.DataFrame(data)\n",
    "\n",
    "# Add columns 'A' and 'B'\n",
    "df['A_plus_B'] = df['A'] + df['B']\n",
    "\n",
    "print(\"DataFrame after addition:\\n\", df)"
   ]
  },
  {
   "cell_type": "markdown",
   "id": "2e4867ff-1319-4741-a767-51d35451e281",
   "metadata": {},
   "source": [
    "  * Subtraction"
   ]
  },
  {
   "cell_type": "code",
   "execution_count": 22,
   "id": "87a82719-e3a5-454d-adf3-729a80f3b1a8",
   "metadata": {},
   "outputs": [
    {
     "name": "stdout",
     "output_type": "stream",
     "text": [
      "\n",
      "DataFrame after subtraction:\n",
      "    A  B  A_plus_B  A_minus_B\n",
      "0  1  4         5         -3\n",
      "1  2  5         7         -3\n",
      "2  3  6         9         -3\n"
     ]
    }
   ],
   "source": [
    "# Subtract column 'B' from column 'A'\n",
    "df['A_minus_B'] = df['A'] - df['B']\n",
    "\n",
    "print(\"\\nDataFrame after subtraction:\\n\", df)"
   ]
  },
  {
   "cell_type": "markdown",
   "id": "c825c360-4584-45af-b563-f5714a999c3d",
   "metadata": {},
   "source": [
    "  *  Multiplication"
   ]
  },
  {
   "cell_type": "code",
   "execution_count": 23,
   "id": "a0ad9796-91ef-43e3-add4-0e6a417c2016",
   "metadata": {},
   "outputs": [
    {
     "name": "stdout",
     "output_type": "stream",
     "text": [
      "\n",
      "DataFrame after multiplication:\n",
      "    A  B  A_plus_B  A_minus_B  A_times_B\n",
      "0  1  4         5         -3          4\n",
      "1  2  5         7         -3         10\n",
      "2  3  6         9         -3         18\n"
     ]
    }
   ],
   "source": [
    "# Multiply columns 'A' and 'B'\n",
    "df['A_times_B'] = df['A'] * df['B']\n",
    "\n",
    "print(\"\\nDataFrame after multiplication:\\n\", df)"
   ]
  },
  {
   "cell_type": "markdown",
   "id": "f333e134-6c9a-4bfe-a1c5-3205638cb52b",
   "metadata": {},
   "source": [
    "  * Division"
   ]
  },
  {
   "cell_type": "code",
   "execution_count": 24,
   "id": "741b0817-2991-4286-a250-7d09b8689088",
   "metadata": {},
   "outputs": [
    {
     "name": "stdout",
     "output_type": "stream",
     "text": [
      "\n",
      "DataFrame after division:\n",
      "    A  B  A_plus_B  A_minus_B  A_times_B  A_div_B\n",
      "0  1  4         5         -3          4     0.25\n",
      "1  2  5         7         -3         10     0.40\n",
      "2  3  6         9         -3         18     0.50\n"
     ]
    }
   ],
   "source": [
    "# Divide column 'A' by column 'B'\n",
    "df['A_div_B'] = df['A'] / df['B']\n",
    "\n",
    "print(\"\\nDataFrame after division:\\n\", df)"
   ]
  },
  {
   "cell_type": "markdown",
   "id": "c5fa8ab1-9be2-41ca-83c3-a295c72d8ff4",
   "metadata": {},
   "source": [
    "# 2. Logical Operations\n",
    "\n",
    "   * Greater Than"
   ]
  },
  {
   "cell_type": "code",
   "execution_count": 25,
   "id": "946d4b3b-6fb6-425f-8d0a-1964e9bc5f89",
   "metadata": {},
   "outputs": [
    {
     "name": "stdout",
     "output_type": "stream",
     "text": [
      "\n",
      "DataFrame after logical 'greater than' operation:\n",
      "    A  B  A_plus_B  A_minus_B  A_times_B  A_div_B  A_gt_B\n",
      "0  1  4         5         -3          4     0.25   False\n",
      "1  2  5         7         -3         10     0.40   False\n",
      "2  3  6         9         -3         18     0.50   False\n"
     ]
    }
   ],
   "source": [
    "# Check if column 'A' is greater than column 'B'\n",
    "df['A_gt_B'] = df['A'] > df['B']\n",
    "\n",
    "print(\"\\nDataFrame after logical 'greater than' operation:\\n\", df)"
   ]
  },
  {
   "cell_type": "markdown",
   "id": "4b049636-33ec-4cab-a15d-ef2a7b60caf5",
   "metadata": {},
   "source": [
    "  * Equal To"
   ]
  },
  {
   "cell_type": "code",
   "execution_count": 26,
   "id": "e96d9419-a53f-4258-bcd5-2e0d1530e605",
   "metadata": {},
   "outputs": [
    {
     "name": "stdout",
     "output_type": "stream",
     "text": [
      "\n",
      "DataFrame after logical 'equal to' operation:\n",
      "    A  B  A_plus_B  A_minus_B  A_times_B  A_div_B  A_gt_B  A_eq_B\n",
      "0  1  4         5         -3          4     0.25   False   False\n",
      "1  2  5         7         -3         10     0.40   False   False\n",
      "2  3  6         9         -3         18     0.50   False   False\n"
     ]
    }
   ],
   "source": [
    "# Check if column 'A' is equal to column 'B'\n",
    "df['A_eq_B'] = df['A'] == df['B']\n",
    "\n",
    "print(\"\\nDataFrame after logical 'equal to' operation:\\n\", df)"
   ]
  },
  {
   "cell_type": "markdown",
   "id": "dad3ab3d-b0cd-4f79-992f-ac82cbdc4e83",
   "metadata": {},
   "source": [
    "* # 3. Element-wise String Operations\n",
    "  \n",
    "If you have string columns, you can perform operations such as concatenation."
   ]
  },
  {
   "cell_type": "code",
   "execution_count": 27,
   "id": "9a1ae001-ea01-48bb-8401-8a1ceacb291f",
   "metadata": {},
   "outputs": [
    {
     "name": "stdout",
     "output_type": "stream",
     "text": [
      "\n",
      "DataFrame after concatenation:\n",
      "      A      B A_B_concat\n",
      "0  foo    one     fooone\n",
      "1  bar    two     bartwo\n",
      "2  baz  three   bazthree\n"
     ]
    }
   ],
   "source": [
    "# Create a DataFrame with string columns\n",
    "data = {'A': ['foo', 'bar', 'baz'], 'B': ['one', 'two', 'three']}\n",
    "df_str = pd.DataFrame(data)\n",
    "\n",
    "# Concatenate columns 'A' and 'B'\n",
    "df_str['A_B_concat'] = df_str['A'] + df_str['B']\n",
    "\n",
    "print(\"\\nDataFrame after concatenation:\\n\", df_str)"
   ]
  },
  {
   "cell_type": "markdown",
   "id": "26f92d6f-f4a1-4e6a-b019-ba16a3388c1e",
   "metadata": {},
   "source": [
    "* # 4. Applying Custom Functions\n",
    "  \n",
    "You can apply custom functions to columns using the apply method."
   ]
  },
  {
   "cell_type": "code",
   "execution_count": 28,
   "id": "f6358c80-69e9-4776-ba5d-d604b788293e",
   "metadata": {},
   "outputs": [
    {
     "name": "stdout",
     "output_type": "stream",
     "text": [
      "\n",
      "DataFrame after applying custom function:\n",
      "    A  B  A_plus_B  A_minus_B  A_times_B  A_div_B  A_gt_B  A_eq_B  custom\n",
      "0  1  4         5         -3          4     0.25   False   False      17\n",
      "1  2  5         7         -3         10     0.40   False   False      29\n",
      "2  3  6         9         -3         18     0.50   False   False      45\n"
     ]
    }
   ],
   "source": [
    "# Define a custom function for example\n",
    "def custom_operation(x, y):\n",
    "    return x ** 2 + y ** 2\n",
    "\n",
    "# Apply the custom function to columns 'A' and 'B'\n",
    "df['custom'] = df.apply(lambda row: custom_operation(row['A'], row['B']), axis=1)\n",
    "\n",
    "print(\"\\nDataFrame after applying custom function:\\n\", df)"
   ]
  }
 ],
 "metadata": {
  "kernelspec": {
   "display_name": "Python 3 (ipykernel)",
   "language": "python",
   "name": "python3"
  },
  "language_info": {
   "codemirror_mode": {
    "name": "ipython",
    "version": 3
   },
   "file_extension": ".py",
   "mimetype": "text/x-python",
   "name": "python",
   "nbconvert_exporter": "python",
   "pygments_lexer": "ipython3",
   "version": "3.11.7"
  }
 },
 "nbformat": 4,
 "nbformat_minor": 5
}
