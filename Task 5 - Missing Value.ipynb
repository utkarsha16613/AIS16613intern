{
 "cells": [
  {
   "cell_type": "markdown",
   "id": "5fe1c32a-9b02-40dc-85da-6b25376d4ff4",
   "metadata": {},
   "source": [
    "# Missing Value\n",
    "\n",
    "# Checking Missing Values  \n",
    "\n",
    "You can use the isnull() or notnull() methods to detect missing values."
   ]
  },
  {
   "cell_type": "code",
   "execution_count": 1,
   "id": "e8dbab6b-13a4-4b40-973d-e1ba3617ee23",
   "metadata": {},
   "outputs": [
    {
     "name": "stdout",
     "output_type": "stream",
     "text": [
      "Missing values in DataFrame:\n",
      "        A      B      C\n",
      "0  False  False   True\n",
      "1  False   True  False\n",
      "2   True  False  False\n"
     ]
    }
   ],
   "source": [
    "import pandas as pd\n",
    "import numpy as np\n",
    "\n",
    "# Create a DataFrame with missing values\n",
    "data = {'A': [1, 2, np.nan], 'B': [4, np.nan, 6], 'C': [np.nan, 8, 9]}\n",
    "df = pd.DataFrame(data)\n",
    "\n",
    "# Check for missing values\n",
    "missing_values = df.isnull()\n",
    "print(\"Missing values in DataFrame:\\n\", missing_values)"
   ]
  },
  {
   "cell_type": "markdown",
   "id": "a92d821f-2973-4ed0-b6f5-a37d56306a84",
   "metadata": {},
   "source": [
    "2. Removing Missing Values\n",
    "\n",
    "* # Missing Values drop by row  \n",
    "You can use the dropna() method to remove rows with missing values."
   ]
  },
  {
   "cell_type": "code",
   "execution_count": 2,
   "id": "3cb53944-a080-4fed-82cf-821559623bef",
   "metadata": {},
   "outputs": [
    {
     "name": "stdout",
     "output_type": "stream",
     "text": [
      "\n",
      "DataFrame after dropping rows with missing values:\n",
      " Empty DataFrame\n",
      "Columns: [A, B, C]\n",
      "Index: []\n"
     ]
    }
   ],
   "source": [
    "# Remove rows with any missing values\n",
    "df_dropped_rows = df.dropna()\n",
    "print(\"\\nDataFrame after dropping rows with missing values:\\n\", df_dropped_rows)"
   ]
  },
  {
   "cell_type": "markdown",
   "id": "6d4d087e-f84f-406b-8090-65f84541d7c6",
   "metadata": {},
   "source": [
    "* # Missing Values drop by Colomn\n",
    "  \n",
    "You can also remove columns with missing values using dropna()."
   ]
  },
  {
   "cell_type": "code",
   "execution_count": 3,
   "id": "eabf04d7-9ff1-4108-8e6f-526e00fc5451",
   "metadata": {},
   "outputs": [
    {
     "name": "stdout",
     "output_type": "stream",
     "text": [
      "\n",
      "DataFrame after dropping columns with missing values:\n",
      " Empty DataFrame\n",
      "Columns: []\n",
      "Index: [0, 1, 2]\n"
     ]
    }
   ],
   "source": [
    "# Remove columns with any missing values\n",
    "df_dropped_cols = df.dropna(axis=1)\n",
    "print(\"\\nDataFrame after dropping columns with missing values:\\n\", df_dropped_cols)"
   ]
  },
  {
   "cell_type": "markdown",
   "id": "84464c0b-8c49-4cb4-90c4-b6988fa39209",
   "metadata": {},
   "source": [
    "* # 3. Filling Missing Values\n",
    "   \n",
    "Filling with a Specific Value  \n",
    "You can fill missing values with a specific value using fillna()."
   ]
  },
  {
   "cell_type": "code",
   "execution_count": 4,
   "id": "64268c44-270a-4999-8cbc-108d004ca714",
   "metadata": {},
   "outputs": [
    {
     "name": "stdout",
     "output_type": "stream",
     "text": [
      "\n",
      "DataFrame after filling missing values with 0:\n",
      "      A    B    C\n",
      "0  1.0  4.0  0.0\n",
      "1  2.0  0.0  8.0\n",
      "2  0.0  6.0  9.0\n"
     ]
    }
   ],
   "source": [
    "# Fill missing values with 0\n",
    "df_filled = df.fillna(0)\n",
    "print(\"\\nDataFrame after filling missing values with 0:\\n\", df_filled)"
   ]
  },
  {
   "cell_type": "markdown",
   "id": "d8341236-3ae0-44cd-9783-6c0fdf53dba6",
   "metadata": {},
   "source": [
    "Forward Fill  \n",
    "You can use forward fill to propagate the last valid observation forward to the next valid one."
   ]
  },
  {
   "cell_type": "code",
   "execution_count": 5,
   "id": "7b6f18c5-5ba5-4191-9a9b-1a9de947a4a5",
   "metadata": {},
   "outputs": [
    {
     "name": "stdout",
     "output_type": "stream",
     "text": [
      "\n",
      "DataFrame after forward filling missing values:\n",
      "      A    B    C\n",
      "0  1.0  4.0  NaN\n",
      "1  2.0  4.0  8.0\n",
      "2  2.0  6.0  9.0\n"
     ]
    },
    {
     "name": "stderr",
     "output_type": "stream",
     "text": [
      "C:\\Users\\Prabhune\\AppData\\Local\\Temp\\ipykernel_10996\\1695790567.py:2: FutureWarning: DataFrame.fillna with 'method' is deprecated and will raise in a future version. Use obj.ffill() or obj.bfill() instead.\n",
      "  df_ffill = df.fillna(method='ffill')\n"
     ]
    }
   ],
   "source": [
    "# Forward fill missing values\n",
    "df_ffill = df.fillna(method='ffill')\n",
    "print(\"\\nDataFrame after forward filling missing values:\\n\", df_ffill)"
   ]
  },
  {
   "cell_type": "markdown",
   "id": "024884b1-b2fe-4e26-8081-f4dd70061caf",
   "metadata": {},
   "source": [
    "Backward Fill  \n",
    "You can use backward fill to propagate the next valid observation backward to the previous valid one."
   ]
  },
  {
   "cell_type": "code",
   "execution_count": 6,
   "id": "83120472-95d0-4c78-bd4d-02238bc1c08a",
   "metadata": {},
   "outputs": [
    {
     "name": "stdout",
     "output_type": "stream",
     "text": [
      "\n",
      "DataFrame after backward filling missing values:\n",
      "      A    B    C\n",
      "0  1.0  4.0  8.0\n",
      "1  2.0  6.0  8.0\n",
      "2  NaN  6.0  9.0\n"
     ]
    },
    {
     "name": "stderr",
     "output_type": "stream",
     "text": [
      "C:\\Users\\Prabhune\\AppData\\Local\\Temp\\ipykernel_10996\\3759738248.py:2: FutureWarning: DataFrame.fillna with 'method' is deprecated and will raise in a future version. Use obj.ffill() or obj.bfill() instead.\n",
      "  df_bfill = df.fillna(method='bfill')\n"
     ]
    }
   ],
   "source": [
    "# Backward fill missing values\n",
    "df_bfill = df.fillna(method='bfill')\n",
    "print(\"\\nDataFrame after backward filling missing values:\\n\", df_bfill)"
   ]
  },
  {
   "cell_type": "markdown",
   "id": "1f729b5e-00c4-4b96-a701-6198dc402295",
   "metadata": {},
   "source": [
    "* # Filling with Mean, Median, or Mode\n",
    "  \n",
    "You can fill missing values with statistical measures such as mean, median, or mode."
   ]
  },
  {
   "cell_type": "code",
   "execution_count": 7,
   "id": "b607a726-5af2-4f95-b29a-94780f018d8a",
   "metadata": {},
   "outputs": [
    {
     "name": "stdout",
     "output_type": "stream",
     "text": [
      "\n",
      "DataFrame after filling missing values with mean:\n",
      "      A    B    C\n",
      "0  1.0  4.0  8.5\n",
      "1  2.0  5.0  8.0\n",
      "2  1.5  6.0  9.0\n",
      "\n",
      "DataFrame after filling missing values with median:\n",
      "      A    B    C\n",
      "0  1.0  4.0  8.5\n",
      "1  2.0  5.0  8.0\n",
      "2  1.5  6.0  9.0\n",
      "\n",
      "DataFrame after filling missing values with mode:\n",
      "      A    B    C\n",
      "0  1.0  4.0  8.0\n",
      "1  2.0  4.0  8.0\n",
      "2  1.0  6.0  9.0\n"
     ]
    }
   ],
   "source": [
    "# Fill missing values with mean of each column\n",
    "df_filled_mean = df.fillna(df.mean())\n",
    "print(\"\\nDataFrame after filling missing values with mean:\\n\", df_filled_mean)\n",
    "\n",
    "# Fill missing values with median of each column\n",
    "df_filled_median = df.fillna(df.median())\n",
    "print(\"\\nDataFrame after filling missing values with median:\\n\", df_filled_median)\n",
    "\n",
    "# Fill missing values with mode of each column\n",
    "df_filled_mode = df.fillna(df.mode().iloc[0])\n",
    "print(\"\\nDataFrame after filling missing values with mode:\\n\", df_filled_mode)"
   ]
  }
 ],
 "metadata": {
  "kernelspec": {
   "display_name": "Python 3 (ipykernel)",
   "language": "python",
   "name": "python3"
  },
  "language_info": {
   "codemirror_mode": {
    "name": "ipython",
    "version": 3
   },
   "file_extension": ".py",
   "mimetype": "text/x-python",
   "name": "python",
   "nbconvert_exporter": "python",
   "pygments_lexer": "ipython3",
   "version": "3.11.7"
  }
 },
 "nbformat": 4,
 "nbformat_minor": 5
}
