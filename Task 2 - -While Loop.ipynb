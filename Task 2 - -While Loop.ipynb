{
 "cells": [
  {
   "cell_type": "markdown",
   "id": "54a4eff5-c668-4db6-8a14-3afb90cd799a",
   "metadata": {},
   "source": [
    "# While Loop\n",
    "* With the while loop we can execute a set of statements as long as a condition is true."
   ]
  },
  {
   "cell_type": "code",
   "execution_count": 8,
   "id": "4a757811-4106-4b5f-b2a8-00087a18e36c",
   "metadata": {},
   "outputs": [
    {
     "name": "stdout",
     "output_type": "stream",
     "text": [
      "1\n",
      "2\n",
      "3\n",
      "4\n",
      "5\n",
      "6\n",
      "7\n",
      "8\n",
      "9\n"
     ]
    }
   ],
   "source": [
    "i=1\n",
    "while i <10:\n",
    "    print (i)\n",
    "    i += 1"
   ]
  },
  {
   "cell_type": "code",
   "execution_count": 16,
   "id": "0e9b5411-4ae1-4457-91ac-1d3d514a0f7b",
   "metadata": {},
   "outputs": [
    {
     "name": "stdout",
     "output_type": "stream",
     "text": [
      "2 5 8 11 14 "
     ]
    }
   ],
   "source": [
    "i= 2\n",
    "while i < 15 :\n",
    "    print(i,end=' ')\n",
    "    i += 3"
   ]
  },
  {
   "cell_type": "code",
   "execution_count": 15,
   "id": "14239dfe-e43f-4379-8bfc-b303d40965fe",
   "metadata": {},
   "outputs": [
    {
     "name": "stdout",
     "output_type": "stream",
     "text": [
      "0 1 2 3 4 5 6 7 8 9 "
     ]
    }
   ],
   "source": [
    "a=0; b=10\n",
    "while a<b:\n",
    "    print(a,end=' ')\n",
    "    a+=1"
   ]
  },
  {
   "cell_type": "code",
   "execution_count": 22,
   "id": "daac8c2b-f47f-4fa0-89b3-49a0a2ad35c9",
   "metadata": {},
   "outputs": [
    {
     "name": "stdout",
     "output_type": "stream",
     "text": [
      "2\n",
      "4\n",
      "6\n",
      "8\n"
     ]
    }
   ],
   "source": [
    "a= 2; b=10\n",
    "while a%2 == 0 and a<b:\n",
    "    print(a)\n",
    "    a += 2"
   ]
  },
  {
   "cell_type": "markdown",
   "id": "7e5517e1-d466-4cc0-b287-8d4cee7cf931",
   "metadata": {},
   "source": [
    "* The break Statement  \r\n",
    "With the break statement we can stop the loop even if the while condition is true:"
   ]
  },
  {
   "cell_type": "code",
   "execution_count": 29,
   "id": "14e59bcc-2225-4ce9-bdcb-e5a8de851730",
   "metadata": {},
   "outputs": [
    {
     "name": "stdout",
     "output_type": "stream",
     "text": [
      "3 6 9 12 15 18 21 24 "
     ]
    }
   ],
   "source": [
    "a=3\n",
    "while a%3 == 0 and a < 30:\n",
    "    print(a,end=' ')\n",
    "    if a == 24 :\n",
    "        break\n",
    "    a = a+3"
   ]
  },
  {
   "cell_type": "markdown",
   "id": "c4b2b882-2462-4cb4-a759-39ce23c6651b",
   "metadata": {},
   "source": [
    "* The continue Statement  \r\n",
    "With the continue statement we can stop the current iteration, and continue with the next:"
   ]
  },
  {
   "cell_type": "code",
   "execution_count": 31,
   "id": "292655ae-00de-4a75-a5b0-aa8f39ec4244",
   "metadata": {},
   "outputs": [
    {
     "name": "stdout",
     "output_type": "stream",
     "text": [
      "6 9 12 15 18 21 27 30 "
     ]
    }
   ],
   "source": [
    "a=3\n",
    "while a%3 == 0 and a < 30:\n",
    "    a = a+3\n",
    "    if a == 24 :\n",
    "        continue\n",
    "    print(a,end=' ')\n"
   ]
  },
  {
   "cell_type": "markdown",
   "id": "93615e60-260e-496e-ae87-d2f33a24e81f",
   "metadata": {},
   "source": [
    "* The else Statement  \r\n",
    "With the else statement we can run a block of code once when the condition no longer is true:"
   ]
  },
  {
   "cell_type": "code",
   "execution_count": 45,
   "id": "0c8804ab-6617-4c84-a8c1-7b1daab05426",
   "metadata": {},
   "outputs": [
    {
     "name": "stdout",
     "output_type": "stream",
     "text": [
      "0\n",
      "3\n",
      "6\n",
      "9\n",
      "12\n",
      "15\n",
      "18\n",
      "21\n",
      "24\n",
      "27\n",
      " a is less than b.\n"
     ]
    }
   ],
   "source": [
    "a=0 ; b=30\n",
    "while a%3 == 0 and a<b:\n",
    "    print(a)\n",
    "    a=a+3\n",
    "    \n",
    "else:\n",
    "    print(\" a is less than b.\")"
   ]
  },
  {
   "cell_type": "code",
   "execution_count": 61,
   "id": "dbc9c044-ad64-4ba9-afcf-2d96d16ff917",
   "metadata": {},
   "outputs": [
    {
     "name": "stdout",
     "output_type": "stream",
     "text": [
      "0\n",
      "2\n",
      "4\n",
      "6\n",
      "8\n",
      "The number is odd.\n"
     ]
    }
   ],
   "source": [
    "a=0; b=10\n",
    "while a%2 == 0 and a<b:\n",
    "    print(a)\n",
    "    a=a+2\n",
    "else:\n",
    "    print('The number is odd.')"
   ]
  },
  {
   "cell_type": "code",
   "execution_count": 64,
   "id": "136b1a9f-c5ba-4e0c-80f5-dda90a3bc8da",
   "metadata": {},
   "outputs": [
    {
     "name": "stdout",
     "output_type": "stream",
     "text": [
      "0\n",
      "2\n",
      "4\n",
      "6\n",
      "8\n"
     ]
    }
   ],
   "source": [
    "a=0; b=10\n",
    "while a%2 == 0 and a<b:\n",
    "    print(a)\n",
    "    a=a+2"
   ]
  },
  {
   "cell_type": "code",
   "execution_count": 66,
   "id": "8e87ed1e-359f-42f4-b6a9-a8ac504b380b",
   "metadata": {},
   "outputs": [
    {
     "name": "stdin",
     "output_type": "stream",
     "text": [
      "Enter the number:  28\n"
     ]
    },
    {
     "name": "stdout",
     "output_type": "stream",
     "text": [
      "0\n",
      "4\n",
      "8\n",
      "12\n",
      "16\n",
      "20\n",
      "24\n"
     ]
    }
   ],
   "source": [
    "a =0; b=int(input(\"Enter the number: \"))\n",
    "while a%4 == 0 and a<b:\n",
    "    print(a)\n",
    "    a=a+4"
   ]
  }
 ],
 "metadata": {
  "kernelspec": {
   "display_name": "Python 3 (ipykernel)",
   "language": "python",
   "name": "python3"
  },
  "language_info": {
   "codemirror_mode": {
    "name": "ipython",
    "version": 3
   },
   "file_extension": ".py",
   "mimetype": "text/x-python",
   "name": "python",
   "nbconvert_exporter": "python",
   "pygments_lexer": "ipython3",
   "version": "3.11.7"
  }
 },
 "nbformat": 4,
 "nbformat_minor": 5
}
