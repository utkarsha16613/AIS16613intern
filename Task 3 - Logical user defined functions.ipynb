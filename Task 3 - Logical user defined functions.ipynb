{
 "cells": [
  {
   "cell_type": "markdown",
   "id": "3364b65c-2e16-4db6-bdf7-1e7e4931ce40",
   "metadata": {},
   "source": [
    "# Logical User Defined Functions:"
   ]
  },
  {
   "cell_type": "code",
   "execution_count": 2,
   "id": "d9351c4c-7972-48fb-816c-c82a3386c737",
   "metadata": {},
   "outputs": [
    {
     "name": "stdin",
     "output_type": "stream",
     "text": [
      "Enter the number:  95\n"
     ]
    },
    {
     "name": "stdout",
     "output_type": "stream",
     "text": [
      "The given number is  Odd\n"
     ]
    }
   ],
   "source": [
    "def find(num):\n",
    "    if num%2 == 0:\n",
    "        numtype = \"Even\"\n",
    "    else:\n",
    "        numtype = \"Odd\"\n",
    "        return numtype\n",
    "num=int(input(\"Enter the number: \"))\n",
    "numtype=find(num)\n",
    "print(\"The given number is \",numtype)"
   ]
  },
  {
   "cell_type": "code",
   "execution_count": 11,
   "id": "93ee7a63-a32a-4320-90c4-cd97d517c512",
   "metadata": {},
   "outputs": [
    {
     "name": "stdin",
     "output_type": "stream",
     "text": [
      "Entr Your Marks:  81\n"
     ]
    },
    {
     "name": "stdout",
     "output_type": "stream",
     "text": [
      "Grade: B\n"
     ]
    }
   ],
   "source": [
    "def calculate_grade(marks):\n",
    "    if 90 <= marks <= 100:\n",
    "        return 'A'\n",
    "    elif 80 <= marks < 90:\n",
    "        return 'B'\n",
    "    elif 70 <= marks < 80:\n",
    "        return 'C'\n",
    "    elif 60 <= marks < 70:\n",
    "        return 'D'\n",
    "    else:\n",
    "        return 'F'\n",
    "\n",
    "# Example usage:\n",
    "student_marks = int(input(\"Entr Your Marks: \"))\n",
    "grade = calculate_grade(student_marks)\n",
    "print(f\"Grade: {grade}\")"
   ]
  },
  {
   "cell_type": "code",
   "execution_count": 12,
   "id": "8bc636ed-60f4-48e6-b205-2cb16e8c3b3d",
   "metadata": {},
   "outputs": [
    {
     "name": "stdout",
     "output_type": "stream",
     "text": [
      "Positive\n"
     ]
    }
   ],
   "source": [
    "def check_number(number):\n",
    "    if number > 0:\n",
    "        return \"Positive\"\n",
    "    elif number < 0:\n",
    "        return \"Negative\"\n",
    "    else:\n",
    "        return \"Zero\"\n",
    "\n",
    "# Example usage:\n",
    "result = check_number(5)\n",
    "print(result)"
   ]
  },
  {
   "cell_type": "code",
   "execution_count": 17,
   "id": "dc1f9bf5-63ed-4755-859c-c332f31577f4",
   "metadata": {},
   "outputs": [
    {
     "name": "stdout",
     "output_type": "stream",
     "text": [
      "625\n"
     ]
    }
   ],
   "source": [
    "def square(x):\n",
    "    return x ** 2\n",
    "print(square(25))"
   ]
  },
  {
   "cell_type": "code",
   "execution_count": 21,
   "id": "9636cf49-12ab-4613-a906-7168268673c1",
   "metadata": {},
   "outputs": [
    {
     "name": "stdout",
     "output_type": "stream",
     "text": [
      "1 squared is 1\n",
      "2 squared is 4\n",
      "3 squared is 9\n",
      "4 squared is 16\n",
      "5 squared is 25\n"
     ]
    }
   ],
   "source": [
    "def print_squares(start, end):\n",
    "    for num in range(start, end + 1):\n",
    "        print(f\"{num} squared is {num**2}\")\n",
    "# Example:\n",
    "print_squares(1, 5)"
   ]
  },
  {
   "cell_type": "code",
   "execution_count": 22,
   "id": "9f80ffb4-81b4-46fd-b5a3-cf75881ea893",
   "metadata": {},
   "outputs": [
    {
     "name": "stdout",
     "output_type": "stream",
     "text": [
      "Hello, Alice!\n",
      "Hello, Bob!\n",
      "Hello, Charlie!\n",
      "Hello, David!\n"
     ]
    }
   ],
   "source": [
    "def greet_person(name):\n",
    "    print(f\"Hello, {name}!\")\n",
    "\n",
    "names = [\"Alice\", \"Bob\", \"Charlie\", \"David\"]\n",
    "for person in names:\n",
    "    greet_person(person)"
   ]
  },
  {
   "cell_type": "code",
   "execution_count": 30,
   "id": "f7d4da12-560a-4522-83ab-287752c8712e",
   "metadata": {},
   "outputs": [
    {
     "name": "stdin",
     "output_type": "stream",
     "text": [
      "Enter your requirement:  RK\n"
     ]
    },
    {
     "name": "stdout",
     "output_type": "stream",
     "text": [
      "The rent of a flat is  None\n"
     ]
    }
   ],
   "source": [
    "def price(flat):\n",
    "    if flat == \"RK\":\n",
    "        rent = \"7000\"\n",
    "    elif flat == \"1BHK\" :\n",
    "        rent = \"15000\"\n",
    "    else:\n",
    "        rent = \"3000\"\n",
    "        return rent\n",
    "flat= str(input(\"Enter your requirement: \"))\n",
    "rent= price(flat)\n",
    "print(\"The rent of a flat is \",rent)"
   ]
  },
  {
   "cell_type": "code",
   "execution_count": 31,
   "id": "ed9f989a-cdc2-4281-b232-a693a1fed7d3",
   "metadata": {},
   "outputs": [
    {
     "name": "stdout",
     "output_type": "stream",
     "text": [
      "Sum: 8\n"
     ]
    }
   ],
   "source": [
    "def add_numbers(a, b):\n",
    "    return a + b\n",
    "\n",
    "result = add_numbers(5, 3)\n",
    "print(\"Sum:\", result) "
   ]
  },
  {
   "cell_type": "code",
   "execution_count": 35,
   "id": "0f79994d-7f97-41ea-8aeb-109c9011f44f",
   "metadata": {},
   "outputs": [
    {
     "name": "stdout",
     "output_type": "stream",
     "text": [
      "The answer is : 5.0\n"
     ]
    }
   ],
   "source": [
    "def divide(x,y):\n",
    "    print (\"The answer is :\",x/y)\n",
    "divide(15,3)"
   ]
  },
  {
   "cell_type": "markdown",
   "id": "968b6e25-852c-4ca3-a764-570b25b6af5a",
   "metadata": {},
   "source": [
    "def nsquare(x,y):\n",
    "    return (x*x + 2*x*y + y*y)\n",
    "print(\"The square of sum of 2 and 3 is: \", nsquare(2,3))"
   ]
  },
  {
   "cell_type": "code",
   "execution_count": null,
   "id": "de40c557-6107-434e-9dfe-ccf68344824e",
   "metadata": {},
   "outputs": [],
   "source": []
  }
 ],
 "metadata": {
  "kernelspec": {
   "display_name": "Python 3 (ipykernel)",
   "language": "python",
   "name": "python3"
  },
  "language_info": {
   "codemirror_mode": {
    "name": "ipython",
    "version": 3
   },
   "file_extension": ".py",
   "mimetype": "text/x-python",
   "name": "python",
   "nbconvert_exporter": "python",
   "pygments_lexer": "ipython3",
   "version": "3.11.7"
  }
 },
 "nbformat": 4,
 "nbformat_minor": 5
}
