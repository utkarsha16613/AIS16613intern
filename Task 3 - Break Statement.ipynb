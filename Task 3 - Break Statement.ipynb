{
 "cells": [
  {
   "cell_type": "markdown",
   "id": "056d4d0b-b598-41f9-a734-d31b87f4d19f",
   "metadata": {},
   "source": [
    "# Break statement"
   ]
  },
  {
   "cell_type": "markdown",
   "id": "37ce96e8-90f8-45c6-bb3b-0f5bb99a3b5e",
   "metadata": {},
   "source": [
    "* The break statement is used inside the loop to exit out of the loop.\n",
    "\n",
    "* In Python, when a break statement is encountered inside a loop, the loop is immediately terminated, and the program control transfer to the next statement following the loop.\n",
    "\n",
    "* In simple words, A break keyword terminates the loop containing it. If the break statement is used inside a nested loop (loop inside another loop), it will terminate the innermost loop."
   ]
  },
  {
   "cell_type": "markdown",
   "id": "4744f8c0-d394-4569-9af8-12d45f03a1e3",
   "metadata": {},
   "source": [
    "* Syntax\n",
    "\n",
    "Loop{\n",
    "\n",
    "    Condition:\n",
    "    \n",
    "        break\n",
    "        \n",
    "    }"
   ]
  },
  {
   "cell_type": "raw",
   "id": "c49c5627-3f4c-42b1-a90d-e34f39e35255",
   "metadata": {},
   "source": [
    "Example : Break for loop in Python"
   ]
  },
  {
   "cell_type": "code",
   "execution_count": 1,
   "id": "2344d18e-7977-414b-bf67-1d56d2fef3e9",
   "metadata": {},
   "outputs": [
    {
     "name": "stdout",
     "output_type": "stream",
     "text": [
      "current number 10\n",
      "current number 40\n"
     ]
    }
   ],
   "source": [
    "numbers = [10, 40, 120, 230]\n",
    "for i in numbers:\n",
    "    if i > 100:\n",
    "        break\n",
    "    print('current number', i)"
   ]
  },
  {
   "cell_type": "raw",
   "id": "8703e091-a374-4013-b3ac-fcb546ca5263",
   "metadata": {},
   "source": [
    "How break statement works\n",
    "We used a break statement along with if statement. Whenever a specific condition occurs and a break statement is encountered inside a loop, the loop is immediately terminated, and the program control transfer to the next statement following the loop."
   ]
  },
  {
   "cell_type": "raw",
   "id": "a94293a4-c9ae-4ca5-9ec7-463526b98b35",
   "metadata": {},
   "source": [
    "Example: Break while loop"
   ]
  },
  {
   "cell_type": "code",
   "execution_count": 2,
   "id": "08b59656-e447-4d63-8471-6e3a43fc2c8c",
   "metadata": {},
   "outputs": [
    {
     "name": "stdout",
     "output_type": "stream",
     "text": [
      "J e s a a 2 9 "
     ]
    }
   ],
   "source": [
    "name = 'Jesaa29 Roy'\n",
    "\n",
    "size = len(name)\n",
    "i = 0\n",
    "# iterate loop till the last character\n",
    "while i < size:\n",
    "    # break loop if current character is space\n",
    "    if name[i].isspace():\n",
    "        break\n",
    "    # print current character\n",
    "    print(name[i], end=' ')\n",
    "    i = i + 1"
   ]
  },
  {
   "cell_type": "raw",
   "id": "e86da5fd-1705-4e15-9615-ab9231ba6b0f",
   "metadata": {},
   "source": [
    "Example: Break nested loop"
   ]
  },
  {
   "cell_type": "code",
   "execution_count": 3,
   "id": "7fc964de-9cb1-48f1-a776-f3635693b4d4",
   "metadata": {},
   "outputs": [
    {
     "name": "stdout",
     "output_type": "stream",
     "text": [
      "Multiplication table of 1\n",
      "1 2 3 4 5 6 7 8 9 10 \n",
      "Multiplication table of 2\n",
      "2 4 6 8 10 12 14 16 18 20 \n",
      "Multiplication table of 3\n",
      "3 6 9 12 15 18 21 24 27 30 \n",
      "Multiplication table of 4\n",
      "4 8 12 16 20 24 28 32 36 40 \n",
      "Multiplication table of 5\n",
      "5 10 15 20 25 30 35 40 45 50 \n",
      "Multiplication table of 6\n",
      "6 12 18 24 30 \n",
      "Multiplication table of 7\n",
      "7 14 21 28 35 \n",
      "Multiplication table of 8\n",
      "8 16 24 32 40 \n",
      "Multiplication table of 9\n",
      "9 18 27 36 45 \n",
      "Multiplication table of 10\n",
      "10 20 30 40 50 \n"
     ]
    }
   ],
   "source": [
    "for i in range(1, 11):\n",
    "    print('Multiplication table of', i)\n",
    "    for j in range(1, 11):\n",
    "        # condition to break inner loop\n",
    "        if i > 5 and j > 5:\n",
    "            break\n",
    "        print(i * j, end=' ')\n",
    "    print('')"
   ]
  }
 ],
 "metadata": {
  "kernelspec": {
   "display_name": "Python 3 (ipykernel)",
   "language": "python",
   "name": "python3"
  },
  "language_info": {
   "codemirror_mode": {
    "name": "ipython",
    "version": 3
   },
   "file_extension": ".py",
   "mimetype": "text/x-python",
   "name": "python",
   "nbconvert_exporter": "python",
   "pygments_lexer": "ipython3",
   "version": "3.11.7"
  }
 },
 "nbformat": 4,
 "nbformat_minor": 5
}
