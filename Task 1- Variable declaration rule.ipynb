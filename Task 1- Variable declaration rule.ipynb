{
 "cells": [
  {
   "cell_type": "markdown",
   "id": "690ff518-d4b8-4fc1-83b7-3284f3c64b98",
   "metadata": {},
   "source": [
    "Rules for Variables in Python."
   ]
  },
  {
   "cell_type": "code",
   "execution_count": 5,
   "id": "9d67b31e-12c3-4975-97a3-c7ed665c3a38",
   "metadata": {},
   "outputs": [
    {
     "name": "stdout",
     "output_type": "stream",
     "text": [
      "A Python variable name must start with a letter or the underscore character.\n",
      "A Python variable name cannot start with a number.\n",
      "A Python variable name can only contain alpha-numeric characters and underscores (A-z, 0-9, and _ ).\n",
      "Variable in Python names are case-sensitive (name, Name, and NAME are three different variables).\n",
      "The reserved words(keywords) in Python cannot be used to name the variable in Python.\n",
      "EXAMPLE\n",
      "Utkarsha\n",
      "9\n",
      "15\n"
     ]
    }
   ],
   "source": [
    "# Rules for Variables\n",
    "print(\"A Python variable name must start with a letter or the underscore character.\")\n",
    "print(\"A Python variable name cannot start with a number.\")\n",
    "print(\"A Python variable name can only contain alpha-numeric characters and underscores (A-z, 0-9, and _ ).\")\n",
    "print(\"Variable in Python names are case-sensitive (name, Name, and NAME are three different variables).\")\n",
    "print(\"The reserved words(keywords) in Python cannot be used to name the variable in Python.\")\n",
    "print(\"EXAMPLE\")\n",
    "X=\"Utkarsha\"\n",
    "y_3=9\n",
    "_abcd=15\n",
    "print(X)\n",
    "print(y_3)\n",
    "print(_abcd)"
   ]
  },
  {
   "cell_type": "code",
   "execution_count": null,
   "id": "561bb638-9f1d-4fb4-b420-e6eb2755ffb5",
   "metadata": {},
   "outputs": [],
   "source": []
  }
 ],
 "metadata": {
  "kernelspec": {
   "display_name": "Python 3 (ipykernel)",
   "language": "python",
   "name": "python3"
  },
  "language_info": {
   "codemirror_mode": {
    "name": "ipython",
    "version": 3
   },
   "file_extension": ".py",
   "mimetype": "text/x-python",
   "name": "python",
   "nbconvert_exporter": "python",
   "pygments_lexer": "ipython3",
   "version": "3.11.7"
  }
 },
 "nbformat": 4,
 "nbformat_minor": 5
}
