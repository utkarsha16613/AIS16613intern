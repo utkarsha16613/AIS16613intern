{
 "cells": [
  {
   "cell_type": "markdown",
   "id": "b793bc57-cddb-4fc3-8d2a-af10a1c7988b",
   "metadata": {},
   "source": [
    "# Dataframe Operations"
   ]
  },
  {
   "cell_type": "markdown",
   "id": "d78980b9-a1bd-4c16-8dcd-6f8e703a407b",
   "metadata": {},
   "source": [
    "* 1.value_counts()\n",
    "\n",
    "The value_counts() function in Pandas is used to count the occurrences of unique values in a Series. It returns a Series containing counts of unique values, sorted in descending order by default."
   ]
  },
  {
   "cell_type": "code",
   "execution_count": 1,
   "id": "553bce6c-9225-4865-bdc7-2b7acd1e879e",
   "metadata": {},
   "outputs": [
    {
     "name": "stdout",
     "output_type": "stream",
     "text": [
      "Value Counts:\n",
      " A\n",
      "foo    3\n",
      "bar    2\n",
      "baz    1\n",
      "Name: count, dtype: int64\n"
     ]
    }
   ],
   "source": [
    "import pandas as pd\n",
    "\n",
    "# Create a DataFrame\n",
    "data = {'A': ['foo', 'bar', 'foo', 'baz', 'bar', 'foo']}\n",
    "df = pd.DataFrame(data)\n",
    "\n",
    "# Count occurrences of unique values in column 'A'\n",
    "value_counts = df['A'].value_counts()\n",
    "\n",
    "print(\"Value Counts:\\n\", value_counts)\n"
   ]
  },
  {
   "cell_type": "markdown",
   "id": "8574c252-0434-4610-9745-8742ae43e2bf",
   "metadata": {},
   "source": [
    "* 2. apply()\n",
    "\n",
    "The apply() function in Pandas allows you to apply a function along the axis of a DataFrame. It is a powerful tool for transforming data, especially when combined with lambda functions or custom functions."
   ]
  },
  {
   "cell_type": "code",
   "execution_count": 2,
   "id": "4d9c0dcc-e6a0-4ed6-ac7a-7fb14d9fd90c",
   "metadata": {},
   "outputs": [
    {
     "name": "stdout",
     "output_type": "stream",
     "text": [
      "Result after applying function:\n",
      "     A   B\n",
      "0   2  12\n",
      "1   4  14\n",
      "2   6  16\n",
      "3   8  18\n",
      "4  10  20\n"
     ]
    }
   ],
   "source": [
    "import pandas as pd\n",
    "\n",
    "# Create a DataFrame\n",
    "data = {'A': [1, 2, 3, 4, 5],\n",
    "        'B': [6, 7, 8, 9, 10]}\n",
    "\n",
    "df = pd.DataFrame(data)\n",
    "\n",
    "# Define a function to double the values\n",
    "def double(x):\n",
    "    return x * 2\n",
    "\n",
    "# Apply the function to each element of the DataFrame\n",
    "result = df.apply(double)\n",
    "\n",
    "print(\"Result after applying function:\\n\", result)\n"
   ]
  },
  {
   "cell_type": "markdown",
   "id": "07a23204-9ecb-47ea-88d6-d9036643ce13",
   "metadata": {},
   "source": [
    "* 3. unique()\n",
    "   \n",
    "The unique() function returns an array of unique values in a Series."
   ]
  },
  {
   "cell_type": "code",
   "execution_count": 3,
   "id": "9fe1560d-5816-452e-9537-5b435a923107",
   "metadata": {},
   "outputs": [
    {
     "name": "stdout",
     "output_type": "stream",
     "text": [
      "Unique Values: ['foo' 'bar' 'baz']\n"
     ]
    }
   ],
   "source": [
    "import pandas as pd\n",
    "\n",
    "# Create a DataFrame\n",
    "data = {'A': ['foo', 'bar', 'foo', 'baz', 'bar', 'foo']}\n",
    "df = pd.DataFrame(data)\n",
    "\n",
    "# Get unique values in column 'A'\n",
    "unique_values = df['A'].unique()\n",
    "\n",
    "print(\"Unique Values:\", unique_values)\n"
   ]
  },
  {
   "cell_type": "markdown",
   "id": "72d926cd-9067-4dbb-b5e0-e42a0a00b7cc",
   "metadata": {},
   "source": [
    "* 4. nunique()\n",
    "     \n",
    "The nunique() function returns the number of unique values in a Series."
   ]
  },
  {
   "cell_type": "code",
   "execution_count": 4,
   "id": "5df7e076-842d-480f-9e08-30fe93ef93d0",
   "metadata": {},
   "outputs": [
    {
     "name": "stdout",
     "output_type": "stream",
     "text": [
      "Number of Unique Values: 3\n"
     ]
    }
   ],
   "source": [
    "import pandas as pd\n",
    "\n",
    "# Create a DataFrame\n",
    "data = {'A': ['foo', 'bar', 'foo', 'baz', 'bar', 'foo']}\n",
    "df = pd.DataFrame(data)\n",
    "\n",
    "# Get the number of unique values in column 'A'\n",
    "num_unique_values = df['A'].nunique()\n",
    "\n",
    "print(\"Number of Unique Values:\", num_unique_values)\n"
   ]
  },
  {
   "cell_type": "markdown",
   "id": "5384233f-2cf1-47fe-8002-e95bd04f883c",
   "metadata": {},
   "source": [
    "* 5. describe()\n",
    "     \n",
    "The describe() function provides descriptive statistics for numeric columns in the DataFrame, such as count, mean, std, min, max, and quartiles."
   ]
  },
  {
   "cell_type": "code",
   "execution_count": 5,
   "id": "7ccf90d2-1d91-4249-b693-29f5ff2b88b7",
   "metadata": {},
   "outputs": [
    {
     "name": "stdout",
     "output_type": "stream",
     "text": [
      "Descriptive Statistics:\n",
      "               A\n",
      "count  5.000000\n",
      "mean   3.000000\n",
      "std    1.581139\n",
      "min    1.000000\n",
      "25%    2.000000\n",
      "50%    3.000000\n",
      "75%    4.000000\n",
      "max    5.000000\n"
     ]
    }
   ],
   "source": [
    "import pandas as pd\n",
    "\n",
    "# Create a DataFrame\n",
    "data = {'A': [1, 2, 3, 4, 5]}\n",
    "df = pd.DataFrame(data)\n",
    "\n",
    "# Get descriptive statistics for numeric columns\n",
    "description = df.describe()\n",
    "\n",
    "print(\"Descriptive Statistics:\\n\", description)"
   ]
  },
  {
   "cell_type": "markdown",
   "id": "06ea8150-4ed8-4e04-984c-856034db6d40",
   "metadata": {},
   "source": [
    "* 5. idxmax() and idxmin()\n",
    "     \n",
    "The idxmax() and idxmin() functions return the index label of the maximum and minimum values in a Series, respectively."
   ]
  },
  {
   "cell_type": "code",
   "execution_count": 6,
   "id": "5ba2fd14-d0f0-4b2f-9cc9-10796dcf2602",
   "metadata": {},
   "outputs": [
    {
     "name": "stdout",
     "output_type": "stream",
     "text": [
      "Index label of maximum value: 4\n",
      "Index label of minimum value: 0\n"
     ]
    }
   ],
   "source": [
    "import pandas as pd\n",
    "\n",
    "# Create a DataFrame\n",
    "data = {'A': [10, 20, 30, 40, 50]}\n",
    "df = pd.DataFrame(data)\n",
    "\n",
    "# Get the index label of the maximum and minimum values in column 'A'\n",
    "max_index = df['A'].idxmax()\n",
    "min_index = df['A'].idxmin()\n",
    "\n",
    "print(\"Index label of maximum value:\", max_index)\n",
    "print(\"Index label of minimum value:\", min_index)"
   ]
  },
  {
   "cell_type": "markdown",
   "id": "00a4e8b7-0629-4949-ae10-9a133cc43ba9",
   "metadata": {},
   "source": [
    "* 6. applymap()\n",
    "\n",
    "The applymap() function applies a function to every element of the DataFrame."
   ]
  },
  {
   "cell_type": "code",
   "execution_count": 7,
   "id": "98e18ab1-7dc4-4bbb-9961-76897b796dbf",
   "metadata": {},
   "outputs": [
    {
     "name": "stdout",
     "output_type": "stream",
     "text": [
      "Result after applying function:\n",
      "    A   B\n",
      "0  2   8\n",
      "1  4  10\n",
      "2  6  12\n"
     ]
    },
    {
     "name": "stderr",
     "output_type": "stream",
     "text": [
      "C:\\Users\\Prabhune\\AppData\\Local\\Temp\\ipykernel_12880\\1005209841.py:12: FutureWarning: DataFrame.applymap has been deprecated. Use DataFrame.map instead.\n",
      "  result = df.applymap(double)\n"
     ]
    }
   ],
   "source": [
    "import pandas as pd\n",
    "\n",
    "# Create a DataFrame\n",
    "data = {'A': [1, 2, 3], 'B': [4, 5, 6]}\n",
    "df = pd.DataFrame(data)\n",
    "\n",
    "# Define a function to double the values\n",
    "def double(x):\n",
    "    return x * 2\n",
    "\n",
    "# Apply the function to every element of the DataFrame\n",
    "result = df.applymap(double)\n",
    "\n",
    "print(\"Result after applying function:\\n\", result)\n"
   ]
  },
  {
   "cell_type": "markdown",
   "id": "68f58148-078a-4ba8-8852-79732ae706f6",
   "metadata": {},
   "source": [
    "* 7.map()\n",
    "  \n",
    "The map() function is used to substitute each value in a Series with another value."
   ]
  },
  {
   "cell_type": "code",
   "execution_count": 8,
   "id": "73b0d6d8-b834-4b07-b8ae-f7a9c9f8e660",
   "metadata": {},
   "outputs": [
    {
     "name": "stdout",
     "output_type": "stream",
     "text": [
      "DataFrame after mapping:\n",
      "    A\n",
      "0  1\n",
      "1  2\n",
      "2  3\n"
     ]
    }
   ],
   "source": [
    "import pandas as pd\n",
    "\n",
    "# Create a DataFrame\n",
    "data = {'A': ['foo', 'bar', 'baz']}\n",
    "df = pd.DataFrame(data)\n",
    "\n",
    "# Define a mapping dictionary\n",
    "mapping = {'foo': 1, 'bar': 2, 'baz': 3}\n",
    "\n",
    "# Map values in column 'A' using the mapping dictionary\n",
    "df['A'] = df['A'].map(mapping)\n",
    "\n",
    "print(\"DataFrame after mapping:\\n\", df)"
   ]
  },
  {
   "cell_type": "markdown",
   "id": "c0028308-8ef2-4d3d-bf1c-624e4a2c30d4",
   "metadata": {},
   "source": [
    "* 8.groupby()\n",
    "  \n",
    "The groupby() function is used to group DataFrame using a mapper or by a Series of columns."
   ]
  },
  {
   "cell_type": "code",
   "execution_count": 9,
   "id": "46b30eeb-e7bc-42e6-848d-65c755945285",
   "metadata": {},
   "outputs": [
    {
     "name": "stdout",
     "output_type": "stream",
     "text": [
      "Grouped DataFrame:\n",
      "      B\n",
      "A     \n",
      "bar  6\n",
      "foo  4\n"
     ]
    }
   ],
   "source": [
    "import pandas as pd\n",
    "\n",
    "# Create a DataFrame\n",
    "data = {'A': ['foo', 'bar', 'foo', 'bar'], 'B': [1, 2, 3, 4]}\n",
    "df = pd.DataFrame(data)\n",
    "\n",
    "# Group DataFrame by column 'A' and calculate the sum\n",
    "grouped_df = df.groupby('A').sum()\n",
    "\n",
    "print(\"Grouped DataFrame:\\n\", grouped_df)"
   ]
  },
  {
   "cell_type": "markdown",
   "id": "d75857ca-92e3-46a1-894e-176b914eb973",
   "metadata": {},
   "source": [
    "* 9.pivot_table()\n",
    "  \n",
    "The pivot_table() function creates a spreadsheet-style pivot table as a DataFrame."
   ]
  },
  {
   "cell_type": "code",
   "execution_count": 10,
   "id": "d75d9c5d-8455-4d84-bd78-1a77de344058",
   "metadata": {},
   "outputs": [
    {
     "name": "stdout",
     "output_type": "stream",
     "text": [
      "Pivot Table:\n",
      " B    one  two\n",
      "A            \n",
      "bar  NaN  7.0\n",
      "foo  3.0  NaN\n"
     ]
    }
   ],
   "source": [
    "import pandas as pd\n",
    "\n",
    "# Create a DataFrame\n",
    "data = {'A': ['foo', 'foo', 'bar', 'bar'], 'B': ['one', 'one', 'two', 'two'], 'C': [1, 2, 3, 4]}\n",
    "df = pd.DataFrame(data)\n",
    "\n",
    "# Create a pivot table\n",
    "pivot_table = df.pivot_table(values='C', index='A', columns='B', aggfunc='sum')\n",
    "\n",
    "print(\"Pivot Table:\\n\", pivot_table)"
   ]
  },
  {
   "cell_type": "markdown",
   "id": "f00516d8-abdc-471a-b070-277600cc7929",
   "metadata": {},
   "source": [
    "* 10.sort_values()  \n",
    "The sort_values() function sorts the DataFrame by the values along either axis."
   ]
  },
  {
   "cell_type": "code",
   "execution_count": 11,
   "id": "57f683ab-fc6c-4825-8f1a-353e73d69217",
   "metadata": {},
   "outputs": [
    {
     "name": "stdout",
     "output_type": "stream",
     "text": [
      "Sorted DataFrame:\n",
      "    A  B\n",
      "0  3  6\n",
      "1  2  5\n",
      "2  1  4\n"
     ]
    }
   ],
   "source": [
    "import pandas as pd\n",
    "\n",
    "# Create a DataFrame\n",
    "data = {'A': [3, 2, 1], 'B': [6, 5, 4]}\n",
    "df = pd.DataFrame(data)\n",
    "\n",
    "# Sort DataFrame by values in column 'A' in descending order\n",
    "sorted_df = df.sort_values(by='A', ascending=False)\n",
    "\n",
    "print(\"Sorted DataFrame:\\n\", sorted_df)"
   ]
  },
  {
   "cell_type": "markdown",
   "id": "0dbeea5a-c380-4480-8e94-c69c9226a554",
   "metadata": {},
   "source": [
    "* 11. merge()  \n",
    "The merge() function is used to merge DataFrame objects by performing a database-style join operation."
   ]
  },
  {
   "cell_type": "code",
   "execution_count": 12,
   "id": "cc2d4c4b-9435-44e9-8240-48fc7f7f7817",
   "metadata": {},
   "outputs": [
    {
     "name": "stdout",
     "output_type": "stream",
     "text": [
      "Merged DataFrame:\n",
      "     A   B   C\n",
      "0  A0  B0  C0\n",
      "1  A1  B1  C1\n"
     ]
    }
   ],
   "source": [
    "import pandas as pd\n",
    "\n",
    "# Create two DataFrames\n",
    "df1 = pd.DataFrame({'A': ['A0', 'A1'], 'B': ['B0', 'B1']})\n",
    "df2 = pd.DataFrame({'A': ['A0', 'A1'], 'C': ['C0', 'C1']})\n",
    "\n",
    "# Merge the DataFrames based on common values in column 'A'\n",
    "merged_df = pd.merge(df1, df2, on='A')\n",
    "\n",
    "print(\"Merged DataFrame:\\n\", merged_df)"
   ]
  },
  {
   "cell_type": "markdown",
   "id": "0ae2e5b8-5d69-4c02-8cb0-28430d7721f7",
   "metadata": {},
   "source": [
    "* 12.concat()  \n",
    "The concat() function is used to concatenate pandas objects along a particular axis."
   ]
  },
  {
   "cell_type": "code",
   "execution_count": 13,
   "id": "481a9d0b-bef9-4f75-8d7a-23e2a9f76fe2",
   "metadata": {},
   "outputs": [
    {
     "name": "stdout",
     "output_type": "stream",
     "text": [
      "Concatenated DataFrame:\n",
      "     A   B\n",
      "0  A0  B0\n",
      "1  A1  B1\n",
      "0  A2  B2\n",
      "1  A3  B3\n"
     ]
    }
   ],
   "source": [
    "import pandas as pd\n",
    "\n",
    "# Create two DataFrames\n",
    "df1 = pd.DataFrame({'A': ['A0', 'A1'], 'B': ['B0', 'B1']})\n",
    "df2 = pd.DataFrame({'A': ['A2', 'A3'], 'B': ['B2', 'B3']})\n",
    "\n",
    "# Concatenate the DataFrames along rows (axis=0)\n",
    "concatenated_df = pd.concat([df1, df2], axis=0)\n",
    "\n",
    "print(\"Concatenated DataFrame:\\n\", concatenated_df)"
   ]
  },
  {
   "cell_type": "markdown",
   "id": "141ef774-c36f-40c8-92f4-9857930dc5f0",
   "metadata": {},
   "source": [
    "* 13.fillna()  \n",
    "The fillna() function is used to fill missing values in the DataFrame."
   ]
  },
  {
   "cell_type": "code",
   "execution_count": 14,
   "id": "8adba42c-5f01-48c0-a957-111829228cb1",
   "metadata": {},
   "outputs": [
    {
     "name": "stdout",
     "output_type": "stream",
     "text": [
      "DataFrame after filling missing values:\n",
      "      A    B\n",
      "0  1.0  0.0\n",
      "1  0.0  5.0\n",
      "2  3.0  0.0\n"
     ]
    }
   ],
   "source": [
    "import pandas as pd\n",
    "import numpy as np\n",
    "\n",
    "# Create a DataFrame with missing values\n",
    "data = {'A': [1, np.nan, 3], 'B': [np.nan, 5, np.nan]}\n",
    "df = pd.DataFrame(data)\n",
    "\n",
    "# Fill missing values with 0\n",
    "filled_df = df.fillna(0)\n",
    "\n",
    "print(\"DataFrame after filling missing values:\\n\", filled_df)"
   ]
  }
 ],
 "metadata": {
  "kernelspec": {
   "display_name": "Python 3 (ipykernel)",
   "language": "python",
   "name": "python3"
  },
  "language_info": {
   "codemirror_mode": {
    "name": "ipython",
    "version": 3
   },
   "file_extension": ".py",
   "mimetype": "text/x-python",
   "name": "python",
   "nbconvert_exporter": "python",
   "pygments_lexer": "ipython3",
   "version": "3.11.7"
  }
 },
 "nbformat": 4,
 "nbformat_minor": 5
}
