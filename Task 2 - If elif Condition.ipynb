{
 "cells": [
  {
   "cell_type": "markdown",
   "id": "8c8c68c2-fed3-4b7c-af26-f7be0748929e",
   "metadata": {},
   "source": [
    "# 3.If- elif Conditions\n",
    "* Syntax\n",
    "\n",
    "if (condition):\n",
    "    \n",
    "    statement\n",
    "    \n",
    "elif (condition):\n",
    "    \n",
    "    statement\n",
    "    \n",
    "else:\n",
    "    \n",
    "    statement"
   ]
  },
  {
   "cell_type": "code",
   "execution_count": 1,
   "id": "27e27f31-093c-4b8d-93ff-3e4592565fac",
   "metadata": {},
   "outputs": [
    {
     "name": "stdout",
     "output_type": "stream",
     "text": [
      "price is 100\n"
     ]
    }
   ],
   "source": [
    "price = 100\n",
    "\n",
    "if price > 100:\n",
    "    print(\"price is greater than 100\")\n",
    "elif price == 100:\n",
    "    print(\"price is 100\")\n",
    "elif price < 100:\n",
    "    print(\"price is less than 100\")\n"
   ]
  },
  {
   "cell_type": "code",
   "execution_count": 2,
   "id": "aa752847-17e3-4f14-a340-60d4aef343b5",
   "metadata": {},
   "outputs": [
    {
     "name": "stdout",
     "output_type": "stream",
     "text": [
      "Zero\n"
     ]
    }
   ],
   "source": [
    "x = 0\n",
    "\n",
    "# traditional python if elif else statement\n",
    "if x > 0:\n",
    "    print(\"Positive\")\n",
    "elif x < 0:\n",
    "    print(\"Negative\")\n",
    "else:\n",
    "    print(\"Zero\")"
   ]
  },
  {
   "cell_type": "code",
   "execution_count": 3,
   "id": "66b96680-9805-4afa-9565-0e013207223f",
   "metadata": {},
   "outputs": [
    {
     "name": "stdout",
     "output_type": "stream",
     "text": [
      "Zero\n"
     ]
    }
   ],
   "source": [
    "x = 0\n",
    "\n",
    "# Python one liner if elif else statement\n",
    "result = {x > 0: \"Positive\", x < 0: \"Negative\"}.get(True, \"Zero\")\n",
    "\n",
    "print(result)"
   ]
  },
  {
   "cell_type": "code",
   "execution_count": 4,
   "id": "4b0c7355-2b77-44ef-8430-ef9755b24fa2",
   "metadata": {},
   "outputs": [
    {
     "name": "stdout",
     "output_type": "stream",
     "text": [
      "i is 20\n"
     ]
    }
   ],
   "source": [
    "i = 20\n",
    "if i == 10:\n",
    "    print(\"i is 10\")\n",
    "elif i == 15:\n",
    "    print(\"i is 15\")\n",
    "elif i == 20:\n",
    "    print(\"i is 20\")\n",
    "else:\n",
    "    print(\"i is not present\")"
   ]
  },
  {
   "cell_type": "code",
   "execution_count": 1,
   "id": "c46aa3f1-505c-40d2-877d-8c610ccd1b0f",
   "metadata": {},
   "outputs": [
    {
     "name": "stdout",
     "output_type": "stream",
     "text": [
      "Even Number\n"
     ]
    }
   ],
   "source": [
    "n=10\n",
    "if n%2==0:\n",
    "    print(\"Even Number\")\n",
    "elif n%2!=0:\n",
    "    print(\"Negative Number.\")\n",
    "else:\n",
    "    (\"Zero\")"
   ]
  },
  {
   "cell_type": "code",
   "execution_count": 2,
   "id": "cc005319-72fe-4344-9216-c43bec147ed5",
   "metadata": {},
   "outputs": [
    {
     "name": "stdin",
     "output_type": "stream",
     "text": [
      "Enter the name flower Tulip\n"
     ]
    },
    {
     "name": "stdout",
     "output_type": "stream",
     "text": [
      "The flower is in list 1.\n"
     ]
    }
   ],
   "source": [
    "list1=[\"Rose\", \"Lotus\", \"Lily\", \"Tulip\"]\n",
    "list2=[\"Hibiscus\", \"Sunflower\", \"Daisy\", \"Jasmine\", \"Orchid\"]\n",
    "name=str(input(\"Enter the name flower\"))\n",
    "if name in list1 :\n",
    "    print(\"The flower is in list 1.\")\n",
    "elif name in list2 :\n",
    "    print(\"The flower is in list 2.\")\n",
    "else:\n",
    "    print(\"The flower is neither in list 1 nor in list 2.\")"
   ]
  },
  {
   "cell_type": "code",
   "execution_count": 8,
   "id": "14130251-d672-4886-bd90-e654676ec51a",
   "metadata": {},
   "outputs": [
    {
     "name": "stdin",
     "output_type": "stream",
     "text": [
      "Enter any positive number:  12\n"
     ]
    },
    {
     "name": "stdout",
     "output_type": "stream",
     "text": [
      "the given number is divisible by 6.\n"
     ]
    }
   ],
   "source": [
    "number= int(input(\"Enter any positive number: \"))\n",
    "if number<0:\n",
    "   print(\"The given number is negative.\")\n",
    "elif number%2==0 and number%3==0: \n",
    "  print(\"the given number is divisible by 6.\")\n",
    "else:\n",
    "  print(\"the given numbe is not divisible by 6.\")"
   ]
  },
  {
   "cell_type": "code",
   "execution_count": 10,
   "id": "36c66605-6b00-4f97-94ff-e11119605a64",
   "metadata": {},
   "outputs": [
    {
     "name": "stdin",
     "output_type": "stream",
     "text": [
      "Enter any Month:  January\n"
     ]
    },
    {
     "name": "stdout",
     "output_type": "stream",
     "text": [
      "It's Winter.\n"
     ]
    }
   ],
   "source": [
    "list=[\"June\", \"July\", \"August\", \"September\"]\n",
    "list1=[\"October\", \"November\", \"December\", \"January\"]\n",
    "name=str(input(\"Enter any Month: \"))\n",
    "if name in list :\n",
    "    print(\"It's Monsoon\")\n",
    "elif name in list1:\n",
    "             print(\"It's Winter.\")\n",
    "else:\n",
    "  print(\"It's Summer.\")"
   ]
  },
  {
   "cell_type": "code",
   "execution_count": 11,
   "id": "381a5a46-9c08-4834-947d-4fa8357c73a8",
   "metadata": {},
   "outputs": [
    {
     "name": "stdin",
     "output_type": "stream",
     "text": [
      "Enter any colour: ed\n"
     ]
    },
    {
     "name": "stdout",
     "output_type": "stream",
     "text": [
      "The colour neither White nor Black.\n"
     ]
    }
   ],
   "source": [
    "c=input(\"Enter any colour:\")\n",
    "if c== \"White\" :\n",
    "    print(\"The colour is White.\")\n",
    "elif c==\"Black\" :\n",
    "    print(\"The colour is Black.\")\n",
    "else: \n",
    "    print(\"The colour neither White nor Black.\")"
   ]
  },
  {
   "cell_type": "code",
   "execution_count": 14,
   "id": "193036fd-fedc-45be-a145-ac18b48e1eb8",
   "metadata": {},
   "outputs": [
    {
     "name": "stdin",
     "output_type": "stream",
     "text": [
      "Enter your Age:  22\n"
     ]
    },
    {
     "name": "stdout",
     "output_type": "stream",
     "text": [
      "Adult Category.\n"
     ]
    }
   ],
   "source": [
    "Age=int(input(\"Enter your Age: \"))\n",
    "if Age<18:\n",
    "    print(\"Minor Category.\")\n",
    "elif Age >=18 and Age<50:\n",
    "    print(\"Adult Category.\")\n",
    "else:\n",
    "    print(\"Old Age People.\")"
   ]
  },
  {
   "cell_type": "code",
   "execution_count": null,
   "id": "738b1686-07ea-4058-a40a-12ac7fb5a267",
   "metadata": {},
   "outputs": [],
   "source": []
  }
 ],
 "metadata": {
  "kernelspec": {
   "display_name": "Python 3 (ipykernel)",
   "language": "python",
   "name": "python3"
  },
  "language_info": {
   "codemirror_mode": {
    "name": "ipython",
    "version": 3
   },
   "file_extension": ".py",
   "mimetype": "text/x-python",
   "name": "python",
   "nbconvert_exporter": "python",
   "pygments_lexer": "ipython3",
   "version": "3.11.7"
  }
 },
 "nbformat": 4,
 "nbformat_minor": 5
}
