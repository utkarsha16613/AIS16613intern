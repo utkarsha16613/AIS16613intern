{
 "cells": [
  {
   "cell_type": "markdown",
   "id": "1f511526-3246-4a58-84c8-0eef16a0985b",
   "metadata": {},
   "source": [
    "# statistical User defined funtions\n",
    "User-defined functions are functions that user or programmer defines to perform specific tasks.\n",
    "\r\n",
    "They help organize code, improve readability, and facilitate maintenance and debugging\n",
    ".\r\n",
    "Unlike built-in functions (provided by Python), UDFs allow you to create your own custom logi\n",
    "c* Creating a User-Defined Function:\n",
    "  \r\n",
    "To define a function in Python, use the def keyword followed by the function name and a colon\n",
    ".\r\n",
    "The indented block of statements following the function declaration contains the function’s body.\r\n",
    ".\r\n",
    "y.c."
   ]
  },
  {
   "cell_type": "code",
   "execution_count": 7,
   "id": "cd05c47c-2ab9-4524-bb8c-dfed5357f7cb",
   "metadata": {},
   "outputs": [
    {
     "name": "stdout",
     "output_type": "stream",
     "text": [
      "Minimum value: 5\n"
     ]
    }
   ],
   "source": [
    "def find_min(data):\n",
    "    # Initialize the minimum value\n",
    "    min_value = float('inf')  # Positive infinity as the initial value\n",
    "\n",
    "    # Iterate through the data\n",
    "    for value in data:\n",
    "        if value < min_value:\n",
    "            min_value = value\n",
    "\n",
    "    return min_value\n",
    "\n",
    "# Example usage:\n",
    "my_data = [10, 5, 20, 15, 30]\n",
    "result = find_min(my_data)\n",
    "print(f\"Minimum value: {result}\")"
   ]
  },
  {
   "cell_type": "code",
   "execution_count": 1,
   "id": "693dd7ba-81ae-4ba4-a0e1-9b6132523eea",
   "metadata": {},
   "outputs": [
    {
     "name": "stdout",
     "output_type": "stream",
     "text": [
      "x:  10\n",
      "y:  50\n"
     ]
    }
   ],
   "source": [
    "def myFun(x, y = 50): \n",
    "    print(\"x: \", x) \n",
    "    print(\"y: \", y) \n",
    "   \n",
    "# Driver code \n",
    "myFun(10) \n"
   ]
  },
  {
   "cell_type": "code",
   "execution_count": 4,
   "id": "ffa21091-82d7-499a-b19d-f4c2d9af5fc8",
   "metadata": {},
   "outputs": [
    {
     "name": "stdout",
     "output_type": "stream",
     "text": [
      "The sum of 15 and 20 is: 35\n"
     ]
    }
   ],
   "source": [
    "def sum(a,b):\n",
    "   total = a + b\n",
    "   return total\n",
    "\n",
    "x = 15\n",
    "y = 20\n",
    "\n",
    "print(\"The sum of\",x,\"and\",y,\"is:\",sum(x, y))"
   ]
  },
  {
   "cell_type": "code",
   "execution_count": 6,
   "id": "f8680b62-f84a-488d-a75f-6070e6e8eadd",
   "metadata": {},
   "outputs": [
    {
     "name": "stdout",
     "output_type": "stream",
     "text": [
      "Average of 3 and 4 is 3.5\n"
     ]
    }
   ],
   "source": [
    "def avg_number(x,y):\n",
    "    print(\"Average of\",x,\"and\",y, \"is\", (x+y)/2)\n",
    "avg_number(3,4)"
   ]
  },
  {
   "cell_type": "code",
   "execution_count": 13,
   "id": "11d13ea4-549b-4211-a8b0-2575d9fa3b84",
   "metadata": {},
   "outputs": [
    {
     "name": "stdout",
     "output_type": "stream",
     "text": [
      "10\n"
     ]
    }
   ],
   "source": [
    "def sum(*numbers):\n",
    "    s=0\n",
    "    for n in numbers:\n",
    "        s+=n\n",
    "    return s\n",
    "print(sum(1,2,3,4))"
   ]
  },
  {
   "cell_type": "code",
   "execution_count": 14,
   "id": "603d5b35-14ce-4b1c-8a2f-f44055e273f2",
   "metadata": {},
   "outputs": [],
   "source": [
    "import math\n",
    "import statistics"
   ]
  },
  {
   "cell_type": "code",
   "execution_count": 15,
   "id": "ce539603-d560-406d-935c-d790610f1a22",
   "metadata": {},
   "outputs": [
    {
     "name": "stdout",
     "output_type": "stream",
     "text": [
      "4.2\n"
     ]
    }
   ],
   "source": [
    "l=[1,4,7,6,3]\n",
    "print(statistics.mean(l))"
   ]
  },
  {
   "cell_type": "code",
   "execution_count": 41,
   "id": "3acb24d4-361e-4db2-9728-108f2b53188b",
   "metadata": {},
   "outputs": [
    {
     "name": "stdout",
     "output_type": "stream",
     "text": [
      "The mean of given numbers is:  <function custum_mean at 0x0000025BC74472E0>\n"
     ]
    }
   ],
   "source": [
    "def custum_mean(num):\n",
    "    if len(num) == 0:\n",
    "        return 0\n",
    "    \n",
    "    mean =  sum(num) /len (num)\n",
    "    return mean\n",
    "num=[20,10,30,40]\n",
    "mean=custum_mean\n",
    "print(\"The mean of given numbers is: \",mean)"
   ]
  },
  {
   "cell_type": "code",
   "execution_count": 1,
   "id": "14cb0c61-e5f7-4c95-9ee9-23ad496f4805",
   "metadata": {},
   "outputs": [
    {
     "name": "stdout",
     "output_type": "stream",
     "text": [
      "Variance: 3.916667\n"
     ]
    }
   ],
   "source": [
    "def calculate_variance(data):\n",
    "    n = len(data)\n",
    "    mean = sum(data) / n\n",
    "    squared_deviations = [(x - mean) ** 2 for x in data]\n",
    "    variance = sum(squared_deviations) / n\n",
    "    return variance\n",
    "\n",
    "# Example usage:\n",
    "my_data = [3, 5, 2, 7, 1, 3]\n",
    "result = calculate_variance(my_data)\n",
    "print(f\"Variance: {result:.6f}\")"
   ]
  },
  {
   "cell_type": "code",
   "execution_count": 2,
   "id": "d679ce1e-fdfe-4d4a-bcc7-47c590ba22eb",
   "metadata": {},
   "outputs": [
    {
     "name": "stdout",
     "output_type": "stream",
     "text": [
      "Mode(s): [5]\n"
     ]
    }
   ],
   "source": [
    "def calculate_mode(data):\n",
    "    # Create an empty dictionary to store value counts\n",
    "    value_counts = {}\n",
    "    \n",
    "    # Iterate through the data\n",
    "    for value in data:\n",
    "        if value in value_counts:\n",
    "            value_counts[value] += 1\n",
    "        else:\n",
    "            value_counts[value] = 1\n",
    "\n",
    "    # Find the maximum count\n",
    "    max_count = max(value_counts.values())\n",
    "\n",
    "    # Get the mode(s)\n",
    "    mode_values = [key for key, count in value_counts.items() if count == max_count]\n",
    "    return mode_values\n",
    "\n",
    "# Example usage:\n",
    "my_data = [3, 5, 2, 7, 5, 3, 5, 9, 2, 5]\n",
    "result = calculate_mode(my_data)\n",
    "print(\"Mode(s):\", result)"
   ]
  },
  {
   "cell_type": "code",
   "execution_count": 3,
   "id": "cb515e9d-b141-4500-a05d-3b8bb1a455d6",
   "metadata": {},
   "outputs": [
    {
     "name": "stdout",
     "output_type": "stream",
     "text": [
      "Median: 25.25\n"
     ]
    }
   ],
   "source": [
    "def calculate_median(data):\n",
    "    sorted_data = sorted(data)\n",
    "    n = len(sorted_data)\n",
    "    mid = n // 2\n",
    "\n",
    "    if n % 2 == 1:\n",
    "        median = sorted_data[mid]\n",
    "    else:\n",
    "        median = (sorted_data[mid - 1] + sorted_data[mid]) / 2\n",
    "\n",
    "    return median\n",
    "\n",
    "# Example usage:\n",
    "my_data = [10.0, 20.0, 30.5, 40.0]\n",
    "result = calculate_median(my_data)\n",
    "print(f\"Median: {result:.2f}\")"
   ]
  },
  {
   "cell_type": "code",
   "execution_count": 4,
   "id": "92b203e3-9d3a-4008-bf60-d07149d56d55",
   "metadata": {},
   "outputs": [
    {
     "name": "stdout",
     "output_type": "stream",
     "text": [
      "Range: 25\n"
     ]
    }
   ],
   "source": [
    "def calculate_range(data):\n",
    "    data_min = min(data)\n",
    "    data_max = max(data)\n",
    "    data_range = data_max - data_min\n",
    "    return data_range\n",
    "\n",
    "# Example usage:\n",
    "my_data = [10, 5, 20, 15, 30]\n",
    "result = calculate_range(my_data)\n",
    "print(f\"Range: {result}\")"
   ]
  },
  {
   "cell_type": "code",
   "execution_count": 6,
   "id": "0ce572c7-6ba5-476d-862e-a3bc472d32c9",
   "metadata": {},
   "outputs": [
    {
     "name": "stdout",
     "output_type": "stream",
     "text": [
      "Maximum value: 30\n"
     ]
    }
   ],
   "source": [
    "def find_max(data):\n",
    "    # Initialize the maximum value\n",
    "    max_value = float('-inf')  # Negative infinity as the initial value\n",
    "\n",
    "    # Iterate through the data\n",
    "    for value in data:\n",
    "        if value > max_value:\n",
    "            max_value = value\n",
    "\n",
    "    return max_value\n",
    "\n",
    "# Example usage:\n",
    "my_data = [10, 5, 20, 15, 30]\n",
    "result = find_max(my_data)\n",
    "print(f\"Maximum value: {result}\")"
   ]
  }
 ],
 "metadata": {
  "kernelspec": {
   "display_name": "Python 3 (ipykernel)",
   "language": "python",
   "name": "python3"
  },
  "language_info": {
   "codemirror_mode": {
    "name": "ipython",
    "version": 3
   },
   "file_extension": ".py",
   "mimetype": "text/x-python",
   "name": "python",
   "nbconvert_exporter": "python",
   "pygments_lexer": "ipython3",
   "version": "3.11.7"
  }
 },
 "nbformat": 4,
 "nbformat_minor": 5
}
