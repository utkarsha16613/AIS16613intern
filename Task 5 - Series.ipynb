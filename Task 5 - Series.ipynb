{
 "cells": [
  {
   "cell_type": "markdown",
   "id": "a9c0bf9b-1f47-4abf-94a5-b0da0f814ea2",
   "metadata": {},
   "source": [
    "# Pandas\n",
    "* # Introduction\n",
    " \n",
    "Pandas is a Python library used for working with data sets.\r\n",
    "\r\n",
    "It has functions for analyzing, cleaning, exploring, and manipulating data.\r\n",
    "\r\n",
    "The name \"Pandas\" has a reference to both \"Panel Data\", and \"Python Data Analysis\" and was created by Wes McKinney in 2\n",
    "\n",
    "* Applications\n",
    "  \n",
    "Pandas allows us to analyze big data and make conclusions based on statistical theories.\r\n",
    "\r\n",
    "Pandas can clean messy data sets, and make them readable and relevant.\r\n",
    "\r\n",
    "Relevant data is very important in data science.008."
   ]
  },
  {
   "cell_type": "markdown",
   "id": "040d51bb-a95d-4943-a8f7-001db494887e",
   "metadata": {},
   "source": [
    "* Pandas gives you answers about the data. Like:\n",
    "\n",
    "Is there a correlation between two or more columns?\n",
    "\n",
    "What is average value?\n",
    "\n",
    "Max value?\n",
    "\n",
    "Min value?\n",
    "\n",
    "Pandas are also able to delete rows that are not relevant, or contains wrong values, like empty or NULL values. This is called cleaning the data."
   ]
  },
  {
   "cell_type": "code",
   "execution_count": 1,
   "id": "52836b38-7bd0-4ec1-a355-e76413d4370f",
   "metadata": {},
   "outputs": [],
   "source": [
    "# Pandas as pd\n",
    "# Pandas is usually imported under the pd alias.\n",
    "import pandas as pd"
   ]
  },
  {
   "cell_type": "markdown",
   "id": "97ca79ae-a79a-4d0e-9d05-86cbf4738c98",
   "metadata": {},
   "source": [
    "# Creating a Pandas Series"
   ]
  },
  {
   "cell_type": "code",
   "execution_count": 2,
   "id": "e7067d37-76a5-4166-9089-2900f847f7a6",
   "metadata": {},
   "outputs": [
    {
     "name": "stdout",
     "output_type": "stream",
     "text": [
      "0    10\n",
      "1    20\n",
      "2    30\n",
      "3    40\n",
      "4    50\n",
      "dtype: int64\n"
     ]
    }
   ],
   "source": [
    "# 1.Creating a Series from a List:\n",
    "import pandas as pd\n",
    "\n",
    "data = [10, 20, 30, 40, 50]\n",
    "series = pd.Series(data)\n",
    "print(series)"
   ]
  },
  {
   "cell_type": "code",
   "execution_count": 3,
   "id": "907b9b1e-8348-4635-8267-702f34700a67",
   "metadata": {},
   "outputs": [
    {
     "name": "stdout",
     "output_type": "stream",
     "text": [
      "a    10\n",
      "b    20\n",
      "c    30\n",
      "d    40\n",
      "e    50\n",
      "dtype: int64\n"
     ]
    }
   ],
   "source": [
    "# 2.Creating a Series from a Dictionary:\n",
    "data = {'a': 10, 'b': 20, 'c': 30, 'd': 40, 'e': 50}\n",
    "series = pd.Series(data)\n",
    "print(series)"
   ]
  },
  {
   "cell_type": "code",
   "execution_count": 4,
   "id": "b5a4dbb2-3d84-4c97-912b-08c42f46185c",
   "metadata": {},
   "outputs": [
    {
     "name": "stdout",
     "output_type": "stream",
     "text": [
      "a    10\n",
      "b    20\n",
      "c    30\n",
      "d    40\n",
      "e    50\n",
      "dtype: int64\n"
     ]
    }
   ],
   "source": [
    "# 3.Creating a Series with Custom Index:\n",
    "data = [10, 20, 30, 40, 50]\n",
    "index = ['a', 'b', 'c', 'd', 'e']\n",
    "series = pd.Series(data, index=index)\n",
    "print(series)"
   ]
  },
  {
   "cell_type": "code",
   "execution_count": 5,
   "id": "c6f6c6a9-6615-4e46-914e-50b40a06caab",
   "metadata": {},
   "outputs": [
    {
     "name": "stdout",
     "output_type": "stream",
     "text": [
      "a    5\n",
      "b    5\n",
      "c    5\n",
      "d    5\n",
      "e    5\n",
      "dtype: int64\n"
     ]
    }
   ],
   "source": [
    "# 4.Creating a Series from a Scalar Value:\n",
    "series = pd.Series(5, index=['a', 'b', 'c', 'd', 'e'])\n",
    "print(series)"
   ]
  },
  {
   "cell_type": "code",
   "execution_count": 6,
   "id": "d48c706a-bdd9-4bc0-b732-eb80c6095699",
   "metadata": {},
   "outputs": [
    {
     "name": "stdout",
     "output_type": "stream",
     "text": [
      "0    10\n",
      "1    20\n",
      "2    30\n",
      "3    40\n",
      "4    50\n",
      "dtype: int32\n"
     ]
    }
   ],
   "source": [
    "# 5.Creating a Series from a NumPy Array:\n",
    "import numpy as np\n",
    "data = np.array([10, 20, 30, 40, 50])\n",
    "series = pd.Series(data)\n",
    "print(series)"
   ]
  },
  {
   "cell_type": "markdown",
   "id": "9312a148-0fea-461f-976c-8e474d4aed56",
   "metadata": {},
   "source": [
    "# Operations"
   ]
  },
  {
   "cell_type": "markdown",
   "id": "1d307d2e-5abe-49ae-b81c-2ec52c2f583a",
   "metadata": {},
   "source": [
    "* Arithmetic Operations\n",
    "  "
   ]
  },
  {
   "cell_type": "code",
   "execution_count": 7,
   "id": "9dafa080-680a-41f7-a93e-680fa6fd24f9",
   "metadata": {},
   "outputs": [
    {
     "name": "stdout",
     "output_type": "stream",
     "text": [
      "Addition:\n",
      " 0    15\n",
      "1    35\n",
      "2    55\n",
      "3    75\n",
      "4    95\n",
      "dtype: int64\n",
      "Subtraction:\n",
      " 0    5\n",
      "1    5\n",
      "2    5\n",
      "3    5\n",
      "4    5\n",
      "dtype: int64\n",
      "Multiplication:\n",
      " 0      50\n",
      "1     300\n",
      "2     750\n",
      "3    1400\n",
      "4    2250\n",
      "dtype: int64\n",
      "Division:\n",
      " 0    2.000000\n",
      "1    1.333333\n",
      "2    1.200000\n",
      "3    1.142857\n",
      "4    1.111111\n",
      "dtype: float64\n"
     ]
    }
   ],
   "source": [
    "import pandas as pd\n",
    "\n",
    "# Creating two Series\n",
    "data1 = [10, 20, 30, 40, 50]\n",
    "data2 = [5, 15, 25, 35, 45]\n",
    "series1 = pd.Series(data1)\n",
    "series2 = pd.Series(data2)\n",
    "\n",
    "# Element-wise addition\n",
    "print(\"Addition:\\n\", series1 + series2)\n",
    "\n",
    "# Element-wise subtraction\n",
    "print(\"Subtraction:\\n\", series1 - series2)\n",
    "\n",
    "# Element-wise multiplication\n",
    "print(\"Multiplication:\\n\", series1 * series2)\n",
    "\n",
    "# Element-wise division\n",
    "print(\"Division:\\n\", series1 / series2)\n"
   ]
  },
  {
   "cell_type": "markdown",
   "id": "4ade866a-a7f2-4fc1-bf5e-63f665709099",
   "metadata": {},
   "source": [
    "* Statistical Functions"
   ]
  },
  {
   "cell_type": "code",
   "execution_count": 8,
   "id": "ceb95d05-ae80-48e9-9148-296f05257c46",
   "metadata": {},
   "outputs": [
    {
     "name": "stdout",
     "output_type": "stream",
     "text": [
      "Sum: 150\n",
      "Mean: 30.0\n",
      "Standard Deviation: 15.811388300841896\n",
      "Min: 10\n",
      "Max: 50\n",
      "Median: 30.0\n",
      "Describe:\n",
      " count     5.000000\n",
      "mean     30.000000\n",
      "std      15.811388\n",
      "min      10.000000\n",
      "25%      20.000000\n",
      "50%      30.000000\n",
      "75%      40.000000\n",
      "max      50.000000\n",
      "dtype: float64\n"
     ]
    }
   ],
   "source": [
    "# Creating a Series\n",
    "data = [10, 20, 30, 40, 50]\n",
    "series = pd.Series(data)\n",
    "\n",
    "# Sum of elements\n",
    "print(\"Sum:\", series.sum())\n",
    "\n",
    "# Mean of elements\n",
    "print(\"Mean:\", series.mean())\n",
    "\n",
    "# Standard deviation\n",
    "print(\"Standard Deviation:\", series.std())\n",
    "\n",
    "# Minimum and maximum values\n",
    "print(\"Min:\", series.min())\n",
    "print(\"Max:\", series.max())\n",
    "\n",
    "# Median\n",
    "print(\"Median:\", series.median())\n",
    "\n",
    "# Describe provides a summary of statistics\n",
    "print(\"Describe:\\n\", series.describe())"
   ]
  },
  {
   "cell_type": "markdown",
   "id": "962dbeb2-2ef5-4058-9f30-b3036c2810f6",
   "metadata": {},
   "source": [
    "* Logical Operators"
   ]
  },
  {
   "cell_type": "code",
   "execution_count": 10,
   "id": "a728de21-be6e-46ca-b626-185553d2a708",
   "metadata": {},
   "outputs": [
    {
     "name": "stdout",
     "output_type": "stream",
     "text": [
      "Logical And:\n",
      " 0    False\n",
      "1     True\n",
      "2     True\n",
      "3    False\n",
      "4    False\n",
      "dtype: bool\n"
     ]
    }
   ],
   "source": [
    "# Element-wise Logical And (&):\n",
    "import pandas as pd\n",
    "\n",
    "series1 = pd.Series([10, 20, 30, 40, 50])\n",
    "series2 = pd.Series([5, 15, 25, 35, 45])\n",
    "\n",
    "# Logical And\n",
    "logical_and = (series1 > 15) & (series2 < 30)\n",
    "print(\"Logical And:\\n\", logical_and)\n"
   ]
  }
 ],
 "metadata": {
  "kernelspec": {
   "display_name": "Python 3 (ipykernel)",
   "language": "python",
   "name": "python3"
  },
  "language_info": {
   "codemirror_mode": {
    "name": "ipython",
    "version": 3
   },
   "file_extension": ".py",
   "mimetype": "text/x-python",
   "name": "python",
   "nbconvert_exporter": "python",
   "pygments_lexer": "ipython3",
   "version": "3.11.7"
  }
 },
 "nbformat": 4,
 "nbformat_minor": 5
}
