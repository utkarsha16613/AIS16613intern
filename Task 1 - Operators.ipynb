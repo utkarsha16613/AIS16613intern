{
 "cells": [
  {
   "cell_type": "markdown",
   "id": "343630b0-4de0-4f18-a222-9e90d4be7606",
   "metadata": {},
   "source": [
    "# Operators in Python\n"
   ]
  },
  {
   "cell_type": "markdown",
   "id": "ccae3f35-97af-40a5-aaf4-ad655213b1b9",
   "metadata": {},
   "source": [
    "1. Arithmetic Operators ( +, -, *, /, **, % )"
   ]
  },
  {
   "cell_type": "code",
   "execution_count": 5,
   "id": "11b9ced0-c553-4dc2-a707-3fd02fc3c2c8",
   "metadata": {},
   "outputs": [
    {
     "data": {
      "text/plain": [
       "27"
      ]
     },
     "execution_count": 5,
     "metadata": {},
     "output_type": "execute_result"
    }
   ],
   "source": [
    "3**3"
   ]
  },
  {
   "cell_type": "code",
   "execution_count": 6,
   "id": "2c6ebb51-c1fe-4369-acf8-e5598f5a3a50",
   "metadata": {},
   "outputs": [
    {
     "data": {
      "text/plain": [
       "0.8333333333333334"
      ]
     },
     "execution_count": 6,
     "metadata": {},
     "output_type": "execute_result"
    }
   ],
   "source": [
    "5/6"
   ]
  },
  {
   "cell_type": "code",
   "execution_count": 7,
   "id": "52565be7-25cd-4791-b96a-e796ee12d656",
   "metadata": {},
   "outputs": [
    {
     "data": {
      "text/plain": [
       "1"
      ]
     },
     "execution_count": 7,
     "metadata": {},
     "output_type": "execute_result"
    }
   ],
   "source": [
    "6%5"
   ]
  },
  {
   "cell_type": "markdown",
   "id": "3f08141f-a1f7-4a69-9803-e6685c6f6a40",
   "metadata": {},
   "source": [
    "2. Assignment Operator(+=, -=, *=)"
   ]
  },
  {
   "cell_type": "code",
   "execution_count": 8,
   "id": "e9b7c8e6-2cf2-4b36-98b2-3395ed0b45a2",
   "metadata": {},
   "outputs": [
    {
     "name": "stdout",
     "output_type": "stream",
     "text": [
      "36\n"
     ]
    }
   ],
   "source": [
    "u=12\n",
    "u*=3\n",
    "print(u)"
   ]
  },
  {
   "cell_type": "markdown",
   "id": "18e21271-e4f8-4df6-8403-172270cc6fec",
   "metadata": {},
   "source": [
    "3. Logical Operator (And, Or, Not)"
   ]
  },
  {
   "cell_type": "code",
   "execution_count": 9,
   "id": "560a5d52-f037-43be-bc3d-d4b0d5a66a2c",
   "metadata": {},
   "outputs": [
    {
     "data": {
      "text/plain": [
       "True"
      ]
     },
     "execution_count": 9,
     "metadata": {},
     "output_type": "execute_result"
    }
   ],
   "source": [
    "w=7;\n",
    "w < 8 and w < 10"
   ]
  },
  {
   "cell_type": "code",
   "execution_count": 11,
   "id": "3e328fd4-7f1a-468a-a7e1-7c011d26026e",
   "metadata": {},
   "outputs": [
    {
     "data": {
      "text/plain": [
       "False"
      ]
     },
     "execution_count": 11,
     "metadata": {},
     "output_type": "execute_result"
    }
   ],
   "source": [
    "s=3\n",
    "s<2 or s<0"
   ]
  },
  {
   "cell_type": "code",
   "execution_count": 12,
   "id": "95af6312-254a-42a8-80c7-bd7b061392d9",
   "metadata": {},
   "outputs": [
    {
     "data": {
      "text/plain": [
       "True"
      ]
     },
     "execution_count": 12,
     "metadata": {},
     "output_type": "execute_result"
    }
   ],
   "source": [
    "s=3\n",
    "not(s<2 or s<0)"
   ]
  },
  {
   "cell_type": "markdown",
   "id": "17bf0abf-b0b1-41c7-9531-39cc2b6fc8ea",
   "metadata": {},
   "source": [
    "4. Comparision Operator(>,<, ==, !=, <=, >=)"
   ]
  },
  {
   "cell_type": "code",
   "execution_count": 13,
   "id": "9633bf91-fee6-48f1-abef-98bb560cbada",
   "metadata": {},
   "outputs": [
    {
     "data": {
      "text/plain": [
       "True"
      ]
     },
     "execution_count": 13,
     "metadata": {},
     "output_type": "execute_result"
    }
   ],
   "source": [
    "3<=5"
   ]
  },
  {
   "cell_type": "code",
   "execution_count": 14,
   "id": "37bf3250-c7f1-4792-9474-426a7708671c",
   "metadata": {},
   "outputs": [
    {
     "data": {
      "text/plain": [
       "False"
      ]
     },
     "execution_count": 14,
     "metadata": {},
     "output_type": "execute_result"
    }
   ],
   "source": [
    "3!=3"
   ]
  },
  {
   "cell_type": "code",
   "execution_count": 15,
   "id": "51a4e9d2-f0d8-4a87-9800-05633594800f",
   "metadata": {},
   "outputs": [
    {
     "data": {
      "text/plain": [
       "True"
      ]
     },
     "execution_count": 15,
     "metadata": {},
     "output_type": "execute_result"
    }
   ],
   "source": [
    "6>2"
   ]
  },
  {
   "cell_type": "markdown",
   "id": "abda004a-3ecc-490f-a243-5254b01a901b",
   "metadata": {},
   "source": [
    "5. Identity Operator ( is, is not)"
   ]
  },
  {
   "cell_type": "code",
   "execution_count": 16,
   "id": "53c04c4b-5693-4da9-803e-54f44b43c320",
   "metadata": {},
   "outputs": [
    {
     "name": "stderr",
     "output_type": "stream",
     "text": [
      "<>:2: SyntaxWarning: \"is not\" with a literal. Did you mean \"!=\"?\n",
      "<>:2: SyntaxWarning: \"is not\" with a literal. Did you mean \"!=\"?\n",
      "C:\\Users\\Prabhune\\AppData\\Local\\Temp\\ipykernel_13000\\3949347651.py:2: SyntaxWarning: \"is not\" with a literal. Did you mean \"!=\"?\n",
      "  q is not 16\n"
     ]
    },
    {
     "data": {
      "text/plain": [
       "True"
      ]
     },
     "execution_count": 16,
     "metadata": {},
     "output_type": "execute_result"
    }
   ],
   "source": [
    "q= 14\n",
    "q is not 16"
   ]
  },
  {
   "cell_type": "code",
   "execution_count": 17,
   "id": "9ed849d3-e155-45e8-8967-c6790ee01674",
   "metadata": {},
   "outputs": [
    {
     "name": "stderr",
     "output_type": "stream",
     "text": [
      "<>:2: SyntaxWarning: \"is\" with a literal. Did you mean \"==\"?\n",
      "<>:2: SyntaxWarning: \"is\" with a literal. Did you mean \"==\"?\n",
      "C:\\Users\\Prabhune\\AppData\\Local\\Temp\\ipykernel_13000\\1406711949.py:2: SyntaxWarning: \"is\" with a literal. Did you mean \"==\"?\n",
      "  e is 12\n"
     ]
    },
    {
     "data": {
      "text/plain": [
       "False"
      ]
     },
     "execution_count": 17,
     "metadata": {},
     "output_type": "execute_result"
    }
   ],
   "source": [
    "e=10\n",
    "e is 12"
   ]
  },
  {
   "cell_type": "markdown",
   "id": "68cba147-5029-4507-b842-dc9bfb6bacc5",
   "metadata": {},
   "source": [
    "6. Membership Operator( in, not in)"
   ]
  },
  {
   "cell_type": "code",
   "execution_count": 23,
   "id": "8db72def-902a-47d2-91d9-03349441b3cb",
   "metadata": {},
   "outputs": [
    {
     "name": "stdout",
     "output_type": "stream",
     "text": [
      "True\n"
     ]
    }
   ],
   "source": [
    "z=(\"Utkarsha\",\"Sunayana\", \"Snehal\", \"Nisha\")\n",
    "print(\"Utkarsha\" in z)"
   ]
  },
  {
   "cell_type": "code",
   "execution_count": 21,
   "id": "1ff51fe0-ac03-4095-9ed1-a401f79e0280",
   "metadata": {},
   "outputs": [
    {
     "data": {
      "text/plain": [
       "False"
      ]
     },
     "execution_count": 21,
     "metadata": {},
     "output_type": "execute_result"
    }
   ],
   "source": [
    "a=(15,46,20,36)\n",
    "40 in a"
   ]
  },
  {
   "cell_type": "code",
   "execution_count": 22,
   "id": "1c869b89-7214-4234-9593-410a9e93bb55",
   "metadata": {},
   "outputs": [
    {
     "data": {
      "text/plain": [
       "True"
      ]
     },
     "execution_count": 22,
     "metadata": {},
     "output_type": "execute_result"
    }
   ],
   "source": [
    "7 not in a"
   ]
  }
 ],
 "metadata": {
  "kernelspec": {
   "display_name": "Python 3 (ipykernel)",
   "language": "python",
   "name": "python3"
  },
  "language_info": {
   "codemirror_mode": {
    "name": "ipython",
    "version": 3
   },
   "file_extension": ".py",
   "mimetype": "text/x-python",
   "name": "python",
   "nbconvert_exporter": "python",
   "pygments_lexer": "ipython3",
   "version": "3.11.7"
  }
 },
 "nbformat": 4,
 "nbformat_minor": 5
}
