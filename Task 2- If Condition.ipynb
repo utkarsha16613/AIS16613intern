{
 "cells": [
  {
   "cell_type": "markdown",
   "id": "1977f0c1-58b5-4e7c-b968-ef15b1425495",
   "metadata": {},
   "source": [
    "# 1.If Conditions"
   ]
  },
  {
   "cell_type": "markdown",
   "id": "863c317f-d615-476e-a475-412af0ba8b81",
   "metadata": {},
   "source": [
    "Python supports the usual logical conditions from mathematics:\n",
    "\n",
    "* Equals: a == b\n",
    "\n",
    "* Not Equals: a != b\n",
    "\n",
    "* Less than: a < b\n",
    "\n",
    "* Less than or equal to: a <= b\n",
    "\n",
    "* Greater than: a > b\n",
    "\n",
    "* Greater than or equal to: a >= b\n",
    "\n",
    "These conditions can be used in several ways, most commonly in \"if statements\" and loops.\n",
    "\n",
    "An \"if statement\" is written by using the if keyword.\n",
    "\n",
    "If the condition of the statement is :\n",
    "\n",
    "True - The body of the if statement execute.\n",
    "\n",
    "False - The body of the if statement is skipped from the execution."
   ]
  },
  {
   "cell_type": "code",
   "execution_count": 1,
   "id": "40acc75d-6fcc-4d3f-8d2b-079c1cc54bda",
   "metadata": {},
   "outputs": [
    {
     "name": "stdout",
     "output_type": "stream",
     "text": [
      "b is greater than a\n"
     ]
    }
   ],
   "source": [
    "a = 80\n",
    "b = 456\n",
    "if b > a:\n",
    "  print(\"b is greater than a\")"
   ]
  },
  {
   "cell_type": "code",
   "execution_count": 4,
   "id": "a7a59800-c6c0-47ec-88bf-1a9a3d148f4f",
   "metadata": {},
   "outputs": [
    {
     "name": "stdout",
     "output_type": "stream",
     "text": [
      "a is equal to b\n"
     ]
    }
   ],
   "source": [
    "a=3\n",
    "b=3\n",
    "if a==b:\n",
    "   print(\"a is equal to b\")"
   ]
  },
  {
   "cell_type": "code",
   "execution_count": 6,
   "id": "35e54835-2ea2-4077-85e6-0d2daf3eaa89",
   "metadata": {},
   "outputs": [
    {
     "name": "stdout",
     "output_type": "stream",
     "text": [
      "a is not equal to b\n"
     ]
    }
   ],
   "source": [
    "a=5\n",
    "b=3\n",
    "if a!=b:\n",
    "  print(\"a is not equal to b\")"
   ]
  },
  {
   "cell_type": "code",
   "execution_count": 21,
   "id": "f8297457-3b06-4457-b2e6-1d585468334f",
   "metadata": {},
   "outputs": [
    {
     "name": "stdout",
     "output_type": "stream",
     "text": [
      "price*quantity is less than 500\n",
      "price =  50\n",
      "quantity =  5\n"
     ]
    }
   ],
   "source": [
    "price = 50\n",
    "quantity = 5\n",
    "\n",
    "if price*quantity < 500:\n",
    "    print(\"price*quantity is less than 500\")\n",
    "    print(\"price = \", price)\n",
    "    print(\"quantity = \", quantity)"
   ]
  },
  {
   "cell_type": "code",
   "execution_count": 8,
   "id": "a36d7ee5-724f-407d-a279-e5c0e0bd3612",
   "metadata": {},
   "outputs": [
    {
     "name": "stdout",
     "output_type": "stream",
     "text": [
      "a is less than or equal to b\n"
     ]
    }
   ],
   "source": [
    "a=465\n",
    "b=500\n",
    "if a<=b:\n",
    "    print(\"a is less than or equal to b\")"
   ]
  },
  {
   "cell_type": "code",
   "execution_count": 9,
   "id": "f6ac3ffd-7bf4-4e77-921f-d5a9e3c44e4f",
   "metadata": {},
   "outputs": [],
   "source": [
    "a=65\n",
    "b=500\n",
    "if a>=b:\n",
    "    print(\"a is greater than or eual to b\")"
   ]
  },
  {
   "cell_type": "code",
   "execution_count": 11,
   "id": "9e912f84-8e1c-4526-b344-f0ad9bc08054",
   "metadata": {},
   "outputs": [],
   "source": [
    "c=98\n",
    "f=23\n",
    "if c==f:\n",
    "  print(\"c is equal to f\")"
   ]
  },
  {
   "cell_type": "code",
   "execution_count": 12,
   "id": "08f5ea19-bf19-4254-b4cf-9dc5cc42d8bf",
   "metadata": {},
   "outputs": [
    {
     "name": "stdout",
     "output_type": "stream",
     "text": [
      "c is equal to f\n"
     ]
    }
   ],
   "source": [
    "c=98\n",
    "f=98\n",
    "if c==f:\n",
    "    print(\"c is equal to f\")"
   ]
  },
  {
   "cell_type": "code",
   "execution_count": 13,
   "id": "4cdb65d8-830e-4752-a4ce-e413fa364e5c",
   "metadata": {},
   "outputs": [
    {
     "name": "stdout",
     "output_type": "stream",
     "text": [
      "x is not equal to y\n"
     ]
    }
   ],
   "source": [
    "x=78\n",
    "y=58\n",
    "if x!=y:\n",
    "    print(\"x is not equal to y\")"
   ]
  },
  {
   "cell_type": "code",
   "execution_count": 14,
   "id": "8f2a592c-6391-4cd7-aa31-7e2da584306c",
   "metadata": {},
   "outputs": [
    {
     "name": "stdout",
     "output_type": "stream",
     "text": [
      "x is greater than or equal to y\n"
     ]
    }
   ],
   "source": [
    "x=50\n",
    "y=30\n",
    "if x>=y:\n",
    "    print(\"x is greater than or equal to y\") "
   ]
  },
  {
   "cell_type": "code",
   "execution_count": 18,
   "id": "c041ada6-f815-4fd2-a8ec-4b041c24adf6",
   "metadata": {},
   "outputs": [
    {
     "name": "stdout",
     "output_type": "stream",
     "text": [
      "x is non-negative.\n"
     ]
    }
   ],
   "source": [
    "x=0\n",
    "if x==0:\n",
    "  print(\"x is non-negative.\")"
   ]
  },
  {
   "cell_type": "code",
   "execution_count": 20,
   "id": "374e55f6-76b9-4560-9097-c0125d5c93bb",
   "metadata": {},
   "outputs": [
    {
     "name": "stdout",
     "output_type": "stream",
     "text": [
      "Century of a player\n"
     ]
    }
   ],
   "source": [
    "score=100\n",
    "if score>=100:\n",
    "  print(\"Century of a player\")"
   ]
  }
 ],
 "metadata": {
  "kernelspec": {
   "display_name": "Python 3 (ipykernel)",
   "language": "python",
   "name": "python3"
  },
  "language_info": {
   "codemirror_mode": {
    "name": "ipython",
    "version": 3
   },
   "file_extension": ".py",
   "mimetype": "text/x-python",
   "name": "python",
   "nbconvert_exporter": "python",
   "pygments_lexer": "ipython3",
   "version": "3.11.7"
  }
 },
 "nbformat": 4,
 "nbformat_minor": 5
}
