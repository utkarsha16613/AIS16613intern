{
 "cells": [
  {
   "cell_type": "markdown",
   "id": "d7ba609e-ebff-4392-b68c-89e07a48a5b5",
   "metadata": {},
   "source": [
    "# Mutable Datatypes\n",
    "# 4.List"
   ]
  },
  {
   "cell_type": "markdown",
   "id": "b171e75f-c711-4640-bc2d-6a09e052565f",
   "metadata": {},
   "source": [
    "Lists are used to store multiple items in a single variable.\n",
    "\n",
    "Lists are one of 4 built-in data types in Python used to store collections of data, the other 3 are Tuple, Set, and Dictionary, all with different qualities and usage.\n",
    "\n",
    "Lists are created using square brackets:"
   ]
  },
  {
   "cell_type": "code",
   "execution_count": 1,
   "id": "22d6c4b9-eeb4-462d-9069-78753f15e7c4",
   "metadata": {},
   "outputs": [
    {
     "name": "stdout",
     "output_type": "stream",
     "text": [
      "['apple', 'banana', 'cherry']\n"
     ]
    }
   ],
   "source": [
    "list = [\"apple\", \"banana\", \"cherry\"]\n",
    "print(list)"
   ]
  },
  {
   "cell_type": "markdown",
   "id": "8aca8a44-8897-42de-b836-c47130cd6d01",
   "metadata": {},
   "source": [
    "# List Items\n",
    "\n",
    "List items are ordered, changeable, and allow duplicate values.\n",
    "\n",
    "List items are indexed, the first item has index [0], the second item has index [1] etc.\n",
    "\n",
    "# Ordered\n",
    "\n",
    "When we say that lists are ordered, it means that the items have a defined order, and that order will not change.\n",
    "\n",
    "If you add new items to a list, the new items will be placed at the end of the list\n",
    "\n",
    "Note: There are some list methods that will change the order, but in general: the order of the items will not change.\n",
    "# Changeable\n",
    "\n",
    "The list is changeable, meaning that we can change, add, and remove items in a list after it has been created.\n",
    "\n",
    "# Allow Duplicates\n",
    "\n",
    "Since lists are indexed, lists can have items with the same value:"
   ]
  },
  {
   "cell_type": "code",
   "execution_count": 2,
   "id": "51134b3d-3cc1-4446-827d-caf4db1416b4",
   "metadata": {},
   "outputs": [
    {
     "name": "stdout",
     "output_type": "stream",
     "text": [
      "['apple', 'banana', 'cherry']\n"
     ]
    }
   ],
   "source": [
    "lists = [\"apple\", \"banana\", \"cherry\", \"apple\", \"cherry\"]\n",
    "print(list)"
   ]
  },
  {
   "cell_type": "markdown",
   "id": "2d54f0d2-6f98-4485-9a0a-713ac72e6e82",
   "metadata": {},
   "source": [
    "* List Length\n",
    "\n",
    "To determine how many items a list has, use the len() function:"
   ]
  },
  {
   "cell_type": "raw",
   "id": "88566559-b1db-4629-8d4e-8d781863b370",
   "metadata": {},
   "source": [
    "Print the number of items in the list:"
   ]
  },
  {
   "cell_type": "code",
   "execution_count": 3,
   "id": "d0f82d7a-182b-423e-92eb-c4f00ba5d553",
   "metadata": {},
   "outputs": [
    {
     "name": "stdout",
     "output_type": "stream",
     "text": [
      "3\n"
     ]
    }
   ],
   "source": [
    "list = [\"apple\", \"banana\", \"cherry\"]\n",
    "print(len(list))"
   ]
  },
  {
   "cell_type": "markdown",
   "id": "854854ca-738a-4622-932b-8afde0163d3a",
   "metadata": {},
   "source": [
    "* List Items - Data Types\n",
    "\n",
    "List items can be of any data type:"
   ]
  },
  {
   "cell_type": "raw",
   "id": "e36327d7-ffaa-446d-ae13-2b57ea16b9df",
   "metadata": {},
   "source": [
    "String, int and boolean data types:"
   ]
  },
  {
   "cell_type": "code",
   "execution_count": 5,
   "id": "73115503-1f60-4e37-9d6f-8f875071949a",
   "metadata": {},
   "outputs": [
    {
     "name": "stdout",
     "output_type": "stream",
     "text": [
      "['apple', 'banana', 'cherry']\n"
     ]
    }
   ],
   "source": [
    "list1 = [\"apple\", \"banana\", \"cherry\"]\n",
    "list2 = [1, 5, 7, 9, 3]\n",
    "list3 = [True, False, False]\n",
    "print(list1)"
   ]
  },
  {
   "cell_type": "raw",
   "id": "19ad4c7a-1bce-4aa5-8e53-89d65f144b33",
   "metadata": {},
   "source": [
    "A list can contain different data types:\n",
    "A list with strings, integers and boolean values:"
   ]
  },
  {
   "cell_type": "code",
   "execution_count": 6,
   "id": "32847f76-9797-47ed-9521-65d7cf9bc835",
   "metadata": {},
   "outputs": [
    {
     "name": "stdout",
     "output_type": "stream",
     "text": [
      "['abc', 34, True, 40, 'male']\n"
     ]
    }
   ],
   "source": [
    "list1 = [\"abc\", 34, True, 40, \"male\"]\n",
    "print(list1)"
   ]
  },
  {
   "cell_type": "markdown",
   "id": "ed396520-7919-4e23-acf7-65c00297b79b",
   "metadata": {},
   "source": [
    "* type()\n",
    "\n",
    "From Python's perspective, lists are defined as objects with the data type 'list':"
   ]
  },
  {
   "cell_type": "raw",
   "id": "3ca08c1d-c71b-4ba7-ae76-5424f998c708",
   "metadata": {},
   "source": [
    "data type of a list"
   ]
  },
  {
   "cell_type": "code",
   "execution_count": 7,
   "id": "16e0c062-b5a8-471f-9f36-de01ec0706b1",
   "metadata": {},
   "outputs": [
    {
     "name": "stdout",
     "output_type": "stream",
     "text": [
      "<class 'list'>\n"
     ]
    }
   ],
   "source": [
    "mylist = [\"apple\", \"banana\", \"cherry\"]\n",
    "print(type(mylist))"
   ]
  },
  {
   "cell_type": "markdown",
   "id": "ab41ee9f-185f-4236-af25-2dec451c9d2c",
   "metadata": {},
   "source": [
    "* The list() Constructor\n",
    " \r\n",
    "It is also possible to use the list() constructor when creating a new listpl\n",
    "e\r\n",
    "Using the list() constructor to make a Lslist)\r\n"
   ]
  },
  {
   "cell_type": "code",
   "execution_count": 8,
   "id": "fcd1228e-0aa5-4601-9d6d-4953328600d9",
   "metadata": {},
   "outputs": [
    {
     "ename": "TypeError",
     "evalue": "'list' object is not callable",
     "output_type": "error",
     "traceback": [
      "\u001b[1;31m---------------------------------------------------------------------------\u001b[0m",
      "\u001b[1;31mTypeError\u001b[0m                                 Traceback (most recent call last)",
      "Cell \u001b[1;32mIn[8], line 1\u001b[0m\n\u001b[1;32m----> 1\u001b[0m thislist \u001b[38;5;241m=\u001b[39m \u001b[38;5;28mlist\u001b[39m((\u001b[38;5;124m\"\u001b[39m\u001b[38;5;124mapple\u001b[39m\u001b[38;5;124m\"\u001b[39m, \u001b[38;5;124m\"\u001b[39m\u001b[38;5;124mbanana\u001b[39m\u001b[38;5;124m\"\u001b[39m, \u001b[38;5;124m\"\u001b[39m\u001b[38;5;124mcherry\u001b[39m\u001b[38;5;124m\"\u001b[39m)) \u001b[38;5;66;03m# note the double round-brackets\u001b[39;00m\n\u001b[0;32m      2\u001b[0m \u001b[38;5;28mprint\u001b[39m(thislist)\n",
      "\u001b[1;31mTypeError\u001b[0m: 'list' object is not callable"
     ]
    }
   ],
   "source": [
    "thislist = list((\"apple\", \"banana\", \"cherry\")) # note the double round-brackets\n",
    "print(thislist)"
   ]
  },
  {
   "cell_type": "markdown",
   "id": "509e064c-d683-4583-810e-702b5619710e",
   "metadata": {},
   "source": [
    "#  List Methods"
   ]
  },
  {
   "cell_type": "raw",
   "id": "9a7f1ef2-5655-4524-9e62-58b40b331855",
   "metadata": {},
   "source": [
    "Method\t           Description\n",
    "\n",
    "append()\t       Adds an element at the end of the list\n",
    "clear()\t           Removes all the elements from the list\n",
    "copy()\t           Returns a copy of the list\n",
    "count()\t           Returns the number of elements with the specified value\n",
    "extend()\t       Add the elements of a list (or any iterable), to the end of the current list\n",
    "index()\t           Returns the index of the first element with the specified value\n",
    "insert()\t       Adds an element at the specified position\n",
    "pop()\t           Removes the element at the specified position\n",
    "remove()\t       Removes the item with the specified value\n",
    "reverse()\t       Reverses the order of the list\n",
    "sort()\t           Sorts the list"
   ]
  }
 ],
 "metadata": {
  "kernelspec": {
   "display_name": "Python 3 (ipykernel)",
   "language": "python",
   "name": "python3"
  },
  "language_info": {
   "codemirror_mode": {
    "name": "ipython",
    "version": 3
   },
   "file_extension": ".py",
   "mimetype": "text/x-python",
   "name": "python",
   "nbconvert_exporter": "python",
   "pygments_lexer": "ipython3",
   "version": "3.11.7"
  }
 },
 "nbformat": 4,
 "nbformat_minor": 5
}
