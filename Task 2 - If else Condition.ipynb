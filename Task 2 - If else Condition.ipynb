{
 "cells": [
  {
   "cell_type": "markdown",
   "id": "d9441279-6b97-4c32-bb1d-56c6d7877063",
   "metadata": {},
   "source": [
    "# 2.If else Conditions\n",
    "* The if statement alone tells us that if a condition is true it will execute a block of statements and if the condition is false it won’t.\n",
    "  \n",
    "* But if we want to do something else if the condition is false, we can use the else statement with the if statement Python to execute a block of code when the Python if condition is false.\n",
    " \n",
    "* syntax  \n",
    "  if (condition):\n",
    "  \n",
    "        Executes this block if  \n",
    "        Condition is True  \n",
    "  else:\n",
    "  \n",
    "        Executes this block if  \n",
    "        condition is false  "
   ]
  },
  {
   "cell_type": "code",
   "execution_count": 4,
   "id": "ef3a511f-be23-4dba-b43e-58f0e0f187d3",
   "metadata": {},
   "outputs": [
    {
     "name": "stdin",
     "output_type": "stream",
     "text": [
      "Enter a letter l\n"
     ]
    },
    {
     "name": "stdout",
     "output_type": "stream",
     "text": [
      "The given letter is not in the vector.\n"
     ]
    }
   ],
   "source": [
    "x=[\"a\", \"b\", \"c\", \"d\", \"e\"]\n",
    "l=str(input(\"Enter a letter\"))\n",
    "if l in x:\n",
    "  print(\"The given letter is in the vector.\")\n",
    "else:\n",
    "    print(\"The given letter is not in the vector.\")"
   ]
  },
  {
   "cell_type": "code",
   "execution_count": 13,
   "id": "bd7d1353-48aa-46b1-a5fa-a840fb1e2a33",
   "metadata": {},
   "outputs": [
    {
     "name": "stdout",
     "output_type": "stream",
     "text": [
      "The given number is odd.\n"
     ]
    }
   ],
   "source": [
    "a=5\n",
    "if a%2==0:\n",
    "    print(\"The given number is even\")\n",
    "else:\n",
    "    print(\"The given number is odd.\")"
   ]
  },
  {
   "cell_type": "code",
   "execution_count": 8,
   "id": "0cb7b748-ebe9-4dcd-8e88-5c4d40e03923",
   "metadata": {},
   "outputs": [
    {
     "name": "stdout",
     "output_type": "stream",
     "text": [
      "price is less than 100\n"
     ]
    }
   ],
   "source": [
    "price = 50\n",
    "\n",
    "if price >= 100:\n",
    "    print(\"price is greater than 100\")\n",
    "else:\n",
    "    print(\"price is less than 100\")"
   ]
  },
  {
   "cell_type": "code",
   "execution_count": 12,
   "id": "e286459d-11a5-49cc-bf29-6693d9c54741",
   "metadata": {},
   "outputs": [
    {
     "name": "stdin",
     "output_type": "stream",
     "text": [
      "Enter the name of car company which you want to buy Toyota\n"
     ]
    },
    {
     "name": "stdout",
     "output_type": "stream",
     "text": [
      "Car is Available.\n"
     ]
    }
   ],
   "source": [
    "a=[\"Toyota\", \"Mercedes Benz\", \"Ford Motor\", \"BMW\", \"Honda\", \"Hyundai\"]\n",
    "name=str(input(\"Enter the name of car company which you want to buy\"))\n",
    "if name in a: \n",
    "  print(\"Car is Available.\")\n",
    "else:\n",
    "    print(\"Car is Not Available for now.\")"
   ]
  },
  {
   "cell_type": "code",
   "execution_count": 19,
   "id": "44c5fffa-2e92-4051-8ea3-bac875661a5e",
   "metadata": {},
   "outputs": [
    {
     "name": "stdin",
     "output_type": "stream",
     "text": [
      "Enter any number 33\n"
     ]
    },
    {
     "name": "stdout",
     "output_type": "stream",
     "text": [
      "The given number is not in both vectors.\n"
     ]
    }
   ],
   "source": [
    "x=(3,4,6,5,56,12)\n",
    "y=(12,56,78,3,5,6)\n",
    "number=int(input(\"Enter any number\"))\n",
    "if number in x and y:\n",
    "  print(\"The given number is in both the vectors.\")\n",
    "else:\n",
    "    print(\"The given number is not in both vectors.\")"
   ]
  },
  {
   "cell_type": "code",
   "execution_count": 21,
   "id": "d1458da9-6feb-421a-a9b2-0b22f39e09d1",
   "metadata": {},
   "outputs": [
    {
     "name": "stdin",
     "output_type": "stream",
     "text": [
      "Enter your mobile number: 985641321\n"
     ]
    },
    {
     "name": "stdout",
     "output_type": "stream",
     "text": [
      "Mobile number is not Valid.\n"
     ]
    }
   ],
   "source": [
    "no=(input(\"Enter your mobile number:\"))\n",
    "if len(no)==10:\n",
    "  print(\"Mobile number is Valid.\")\n",
    "else:\n",
    "  print(\"Mobile number is not Valid.\")"
   ]
  },
  {
   "cell_type": "code",
   "execution_count": 25,
   "id": "3df7d41f-6b10-4e4f-bc9f-d56af8e0f932",
   "metadata": {},
   "outputs": [
    {
     "name": "stdin",
     "output_type": "stream",
     "text": [
      "Predict the outcome on a fair coin. tail\n"
     ]
    },
    {
     "name": "stdout",
     "output_type": "stream",
     "text": [
      "Player A is looser.\n"
     ]
    }
   ],
   "source": [
    "Player_A = (\"Head\",)\n",
    "Prediction = str(input(\"Predict the outcome on a fair coin.\"))\n",
    "if Prediction in Player_A:\n",
    "    print(\"Player A is winner.\")\n",
    "else:\n",
    "    print(\"Player A is looser.\")"
   ]
  },
  {
   "cell_type": "code",
   "execution_count": 26,
   "id": "fd042c7a-1f73-4479-867e-abcdf7db964d",
   "metadata": {},
   "outputs": [
    {
     "name": "stdout",
     "output_type": "stream",
     "text": [
      "Result: PASS\n"
     ]
    }
   ],
   "source": [
    "marks=95\n",
    "if marks>=35:\n",
    "    print(\"Result: PASS\")\n",
    "else:\n",
    "    print(\"Result: FAIL\")\n"
   ]
  },
  {
   "cell_type": "code",
   "execution_count": 29,
   "id": "5bfc5a3c-c38b-4f92-8f4e-d4fe63f2ac65",
   "metadata": {},
   "outputs": [
    {
     "name": "stdin",
     "output_type": "stream",
     "text": [
      "Enter a Month August\n"
     ]
    },
    {
     "name": "stdout",
     "output_type": "stream",
     "text": [
      "Rainy season\n"
     ]
    }
   ],
   "source": [
    "a= [\"June\",\"July\", \"August\", \"September\"]\n",
    "month=str(input(\"Enter a Month\"))\n",
    "if month in a:\n",
    "    print(\"Rainy season\")\n",
    "else:\n",
    "    print(\"Summer or Winter\")"
   ]
  },
  {
   "cell_type": "code",
   "execution_count": 31,
   "id": "68f728ff-e84d-498a-811e-7c873a7c7398",
   "metadata": {},
   "outputs": [
    {
     "name": "stdin",
     "output_type": "stream",
     "text": [
      "Enter the result PASS or FAIL? PASS\n"
     ]
    },
    {
     "name": "stdout",
     "output_type": "stream",
     "text": [
      "Congratulations and Celebrations.\n"
     ]
    }
   ],
   "source": [
    "Result=input(\"Enter the result PASS or FAIL?\")\n",
    "if Result==(\"PASS\"):\n",
    "    print(\"Congratulations and Celebrations.\")\n",
    "else:\n",
    "    print(\"Sorry, Better luck next time.\")"
   ]
  }
 ],
 "metadata": {
  "kernelspec": {
   "display_name": "Python 3 (ipykernel)",
   "language": "python",
   "name": "python3"
  },
  "language_info": {
   "codemirror_mode": {
    "name": "ipython",
    "version": 3
   },
   "file_extension": ".py",
   "mimetype": "text/x-python",
   "name": "python",
   "nbconvert_exporter": "python",
   "pygments_lexer": "ipython3",
   "version": "3.11.7"
  }
 },
 "nbformat": 4,
 "nbformat_minor": 5
}
