{
 "cells": [
  {
   "cell_type": "markdown",
   "id": "873c2bbe-6ad1-418d-a52c-968074e48bcf",
   "metadata": {},
   "source": [
    "# Dataframe\n",
    "\n",
    "A Pandas DataFrame is a 2 dimensional data structure, like a 2 dimensional array, or a table with rows and columns."
   ]
  },
  {
   "cell_type": "markdown",
   "id": "c2286401-e839-4078-86c4-51eba66a22af",
   "metadata": {},
   "source": [
    "# Dataframe Creation\n"
   ]
  },
  {
   "cell_type": "markdown",
   "id": "a73f84d3-f062-4c49-9c11-c5238df53a55",
   "metadata": {},
   "source": [
    "* 1.From a Dictionary"
   ]
  },
  {
   "cell_type": "code",
   "execution_count": 1,
   "id": "44dc0d9c-a497-4704-8989-b9dbb4b98358",
   "metadata": {},
   "outputs": [
    {
     "name": "stdout",
     "output_type": "stream",
     "text": [
      "      Name  Age         City\n",
      "0    Alice   24     New York\n",
      "1      Bob   27  Los Angeles\n",
      "2  Charlie   22      Chicago\n",
      "3    David   32      Houston\n"
     ]
    }
   ],
   "source": [
    "import pandas as pd\n",
    "\n",
    "data = {\n",
    "    'Name': ['Alice', 'Bob', 'Charlie', 'David'],\n",
    "    'Age': [24, 27, 22, 32],\n",
    "    'City': ['New York', 'Los Angeles', 'Chicago', 'Houston']\n",
    "}\n",
    "df = pd.DataFrame(data)\n",
    "print(df)"
   ]
  },
  {
   "cell_type": "code",
   "execution_count": 3,
   "id": "041b50f6-91ca-4fcf-ac69-9900d3a7d179",
   "metadata": {},
   "outputs": [
    {
     "name": "stdout",
     "output_type": "stream",
     "text": [
      "      Name  Age         City\n",
      "0    Alice   24     New York\n",
      "1      Bob   27  Los Angeles\n",
      "2  Charlie   22      Chicago\n",
      "3    David   32      Houston\n"
     ]
    }
   ],
   "source": [
    "# From a List of Dictionaries\n",
    "data = [\n",
    "    {'Name': 'Alice', 'Age': 24, 'City': 'New York'},\n",
    "    {'Name': 'Bob', 'Age': 27, 'City': 'Los Angeles'},\n",
    "    {'Name': 'Charlie', 'Age': 22, 'City': 'Chicago'},\n",
    "    {'Name': 'David', 'Age': 32, 'City': 'Houston'}\n",
    "]\n",
    "df = pd.DataFrame(data)\n",
    "print(df)"
   ]
  },
  {
   "cell_type": "markdown",
   "id": "4dd5c9b2-8b27-4eb7-8e78-491e724604fe",
   "metadata": {},
   "source": [
    "* 2.Creating a DataFrame from a Matrix"
   ]
  },
  {
   "cell_type": "code",
   "execution_count": 4,
   "id": "c1d57e67-57f7-4e64-9685-346543a176ee",
   "metadata": {},
   "outputs": [
    {
     "name": "stdout",
     "output_type": "stream",
     "text": [
      "   0  1  2\n",
      "0  1  2  3\n",
      "1  4  5  6\n",
      "2  7  8  9\n"
     ]
    }
   ],
   "source": [
    "# Using a NumPy Array:\n",
    "import pandas as pd\n",
    "import numpy as np\n",
    "\n",
    "# Creating a NumPy array (matrix)\n",
    "data = np.array([\n",
    "    [1, 2, 3],\n",
    "    [4, 5, 6],\n",
    "    [7, 8, 9]\n",
    "])\n",
    "\n",
    "# Creating a DataFrame from the NumPy array\n",
    "df = pd.DataFrame(data)\n",
    "print(df)"
   ]
  },
  {
   "cell_type": "code",
   "execution_count": 5,
   "id": "44107c48-fe3b-4184-8005-69668824843a",
   "metadata": {},
   "outputs": [
    {
     "name": "stdout",
     "output_type": "stream",
     "text": [
      "      A  B  C\n",
      "Row1  1  2  3\n",
      "Row2  4  5  6\n",
      "Row3  7  8  9\n"
     ]
    }
   ],
   "source": [
    "# Adding Column and Row Labels:\n",
    "# Creating a DataFrame with custom column and row labels\n",
    "columns = ['A', 'B', 'C']\n",
    "index = ['Row1', 'Row2', 'Row3']\n",
    "df = pd.DataFrame(data, columns=columns, index=index)\n",
    "print(df)"
   ]
  },
  {
   "cell_type": "code",
   "execution_count": 6,
   "id": "1200b402-2162-44f7-bdef-5ea03be58719",
   "metadata": {},
   "outputs": [
    {
     "name": "stdout",
     "output_type": "stream",
     "text": [
      "          A         B         C         D         E\n",
      "0  0.943426  0.697076  0.025620  0.996244  0.461457\n",
      "1  0.826754  0.225172  0.543404  0.756479  0.031167\n",
      "2  0.180169  0.652789  0.830157  0.598906  0.115333\n",
      "3  0.022277  0.555282  0.471922  0.863849  0.847448\n"
     ]
    }
   ],
   "source": [
    "# From a Random Matrix:\n",
    "# Creating a random matrix using NumPy\n",
    "random_data = np.random.rand(4, 5)  # 4 rows and 5 columns\n",
    "\n",
    "# Creating a DataFrame from the random matrix\n",
    "df_random = pd.DataFrame(random_data, columns=['A', 'B', 'C', 'D', 'E'])\n",
    "print(df_random)\n"
   ]
  },
  {
   "cell_type": "markdown",
   "id": "bd8f984b-a49c-46f4-9bbf-d331a349cdd0",
   "metadata": {},
   "source": [
    "# Reading a CSV File"
   ]
  },
  {
   "cell_type": "code",
   "execution_count": 6,
   "id": "dfcce665-0583-4e92-8059-1ba1918e4c4e",
   "metadata": {},
   "outputs": [
    {
     "name": "stdout",
     "output_type": "stream",
     "text": [
      "   Gr   x1   x2   x3\n",
      "0   1  125  137  121\n",
      "1   1  144  173  147\n",
      "2   1  105  119  125\n",
      "3   1  151  149  128\n",
      "4   1  137  139  109\n"
     ]
    }
   ],
   "source": [
    "import pandas as pd\n",
    "# Reading a CSV file\n",
    "df_csv = pd.read_csv('C:/Users/Prabhune/Desktop/gr1.csv')\n",
    "print(df_csv)"
   ]
  },
  {
   "cell_type": "code",
   "execution_count": 7,
   "id": "5ad84fcf-c171-415e-b980-899d5f2a25bf",
   "metadata": {},
   "outputs": [
    {
     "name": "stdout",
     "output_type": "stream",
     "text": [
      "     Gr,x1,x2,x3\n",
      "0  1,125,137,121\n",
      "1  1,144,173,147\n",
      "2  1,105,119,125\n",
      "3  1,151,149,128\n",
      "4  1,137,139,109\n"
     ]
    }
   ],
   "source": [
    "#Reading a CSV File with Custom Delimiters:\n",
    "# Reading a CSV file with a custom delimiter (e.g., semicolon)\n",
    "df_csv = pd.read_csv('C:/Users/Prabhune/Desktop/gr1.csv', delimiter=';')\n",
    "print(df_csv)"
   ]
  }
 ],
 "metadata": {
  "kernelspec": {
   "display_name": "Python 3 (ipykernel)",
   "language": "python",
   "name": "python3"
  },
  "language_info": {
   "codemirror_mode": {
    "name": "ipython",
    "version": 3
   },
   "file_extension": ".py",
   "mimetype": "text/x-python",
   "name": "python",
   "nbconvert_exporter": "python",
   "pygments_lexer": "ipython3",
   "version": "3.11.7"
  }
 },
 "nbformat": 4,
 "nbformat_minor": 5
}
