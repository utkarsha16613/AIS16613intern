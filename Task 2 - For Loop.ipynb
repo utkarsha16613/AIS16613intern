{
 "cells": [
  {
   "cell_type": "markdown",
   "id": "cef5df1c-3797-4a8f-8d15-d9b2ba13d074",
   "metadata": {},
   "source": [
    "# 4.For Loop\n",
    "A for loop is used for iterating over a sequence (that is either a list, a tuple, a dictionary, a set, or a string).\n",
    "\n",
    "This is less like the for keyword in other programming languages, and works more like an iterator method as found in other object-orientated programming languages.\n",
    "\n",
    "With the for loop we can execute a set of statements, once for each item in a list, tuple, set, etc. \n",
    "\n",
    "* Syntax  \n",
    "      for val in sequence:  \n",
    "       #statement(s)\n",
    "  \n",
    "  Here, val accesses each item of the sequence on each iteration. The loop continues until we reach the last item in the sequence.\r\n",
    "\n",
    "ed}\n"
   ]
  },
  {
   "cell_type": "code",
   "execution_count": 4,
   "id": "a03dea30-a1fe-465f-ae62-def800aa010c",
   "metadata": {},
   "outputs": [
    {
     "name": "stdout",
     "output_type": "stream",
     "text": [
      "0\n",
      "1\n",
      "2\n",
      "3\n"
     ]
    }
   ],
   "source": [
    "for i in range(4):\n",
    "    print(i)"
   ]
  },
  {
   "cell_type": "code",
   "execution_count": 2,
   "id": "4195700c-3939-4708-8aa1-646394238796",
   "metadata": {},
   "outputs": [
    {
     "name": "stdout",
     "output_type": "stream",
     "text": [
      "Utkarsha\n",
      "Snehal\n",
      "Nisha\n",
      "Sunayana\n"
     ]
    }
   ],
   "source": [
    "names = [\"Utkarsha\", \"Snehal\", \"Nisha\", \"Sunayana\"]\n",
    "for x in names:\n",
    "  print(x)"
   ]
  },
  {
   "cell_type": "code",
   "execution_count": 3,
   "id": "0750e968-e615-4119-8f83-e529aa55cb40",
   "metadata": {},
   "outputs": [
    {
     "name": "stdout",
     "output_type": "stream",
     "text": [
      "P\n",
      "y\n",
      "t\n",
      "h\n",
      "o\n",
      "n\n"
     ]
    }
   ],
   "source": [
    "language = 'Python'\n",
    "for char in language:\n",
    "    print(char)"
   ]
  },
  {
   "cell_type": "code",
   "execution_count": 5,
   "id": "ca502dfd-56a2-4261-ae58-b8cfe9d9e5b4",
   "metadata": {},
   "outputs": [
    {
     "name": "stdout",
     "output_type": "stream",
     "text": [
      "5\n",
      "6\n",
      "7\n",
      "8\n",
      "9\n"
     ]
    }
   ],
   "source": [
    "for x in range(5, 10):\n",
    "  print(x)\n"
   ]
  },
  {
   "cell_type": "code",
   "execution_count": 7,
   "id": "54f0681e-347a-47fe-a33f-7aa0bd74df99",
   "metadata": {},
   "outputs": [
    {
     "name": "stdout",
     "output_type": "stream",
     "text": [
      "5\n",
      "9\n",
      "13\n",
      "17\n",
      "21\n",
      "25\n",
      "29\n",
      "33\n",
      "37\n",
      "41\n",
      "45\n",
      "49\n"
     ]
    }
   ],
   "source": [
    "for x in range(5, 50, 4):\n",
    "  print(x)"
   ]
  },
  {
   "cell_type": "code",
   "execution_count": 9,
   "id": "eda48c4f-bfd8-4413-9e57-8d1457af3adf",
   "metadata": {},
   "outputs": [
    {
     "name": "stdout",
     "output_type": "stream",
     "text": [
      "H 1\n",
      "H 2\n",
      "H 3\n",
      "H 4\n",
      "H 5\n",
      "H 6\n",
      "T 1\n",
      "T 2\n",
      "T 3\n",
      "T 4\n",
      "T 5\n",
      "T 6\n"
     ]
    }
   ],
   "source": [
    "coin = [\"H\",\"T\"]\n",
    "die = [1,2,3,4,5,6]\n",
    "\n",
    "for x in coin:\n",
    "  for y in die:\n",
    "    print(x, y)"
   ]
  },
  {
   "cell_type": "code",
   "execution_count": 10,
   "id": "c417ebb4-6a5b-4c5b-a0fe-495f0f51c3e5",
   "metadata": {},
   "outputs": [
    {
     "name": "stdout",
     "output_type": "stream",
     "text": [
      "0\n",
      "1\n",
      "5\n",
      "No items left.\n"
     ]
    }
   ],
   "source": [
    "digits = [0, 1, 5]\n",
    "\n",
    "for i in digits:\n",
    "    print(i)\n",
    "else:\n",
    "    print(\"No items left.\")"
   ]
  },
  {
   "cell_type": "code",
   "execution_count": 11,
   "id": "43cbda1d-521d-4b24-a07b-dfecb73002ca",
   "metadata": {},
   "outputs": [
    {
     "name": "stdout",
     "output_type": "stream",
     "text": [
      "i = 0, j = 0\n",
      "i = 0, j = 1\n",
      "i = 1, j = 0\n",
      "i = 1, j = 1\n"
     ]
    }
   ],
   "source": [
    "# outer loop \n",
    "for i in range(2):\n",
    "    # inner loop\n",
    "    for j in range(2): \n",
    "        print(f\"i = {i}, j = {j}\")\n"
   ]
  },
  {
   "cell_type": "code",
   "execution_count": 15,
   "id": "06a94ab1-2d98-4cc0-bf7e-32d9aeedc11f",
   "metadata": {},
   "outputs": [
    {
     "name": "stdout",
     "output_type": "stream",
     "text": [
      "U\n",
      "t\n",
      "k\n",
      "a\n",
      "r\n",
      "s\n",
      "h\n",
      "a\n"
     ]
    }
   ],
   "source": [
    "Name= \"Utkarsha\"\n",
    "for char in Name:\n",
    "  print(char)"
   ]
  },
  {
   "cell_type": "code",
   "execution_count": 17,
   "id": "0d36a538-d070-4608-bd6f-2f04183f4677",
   "metadata": {},
   "outputs": [
    {
     "name": "stdout",
     "output_type": "stream",
     "text": [
      "90\n",
      "95\n",
      "92\n",
      "93\n",
      "94\n",
      "91\n",
      "98\n"
     ]
    }
   ],
   "source": [
    "Numbers = [90,95,92,93,94,91,98]\n",
    "for x in Numbers:\n",
    "  print(x)"
   ]
  },
  {
   "cell_type": "code",
   "execution_count": null,
   "id": "af636b79-f7c7-4699-834c-0fd068e42e1e",
   "metadata": {},
   "outputs": [],
   "source": []
  }
 ],
 "metadata": {
  "kernelspec": {
   "display_name": "Python 3 (ipykernel)",
   "language": "python",
   "name": "python3"
  },
  "language_info": {
   "codemirror_mode": {
    "name": "ipython",
    "version": 3
   },
   "file_extension": ".py",
   "mimetype": "text/x-python",
   "name": "python",
   "nbconvert_exporter": "python",
   "pygments_lexer": "ipython3",
   "version": "3.11.7"
  }
 },
 "nbformat": 4,
 "nbformat_minor": 5
}
