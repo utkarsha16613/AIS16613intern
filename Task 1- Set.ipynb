{
 "cells": [
  {
   "cell_type": "markdown",
   "id": "8146d556-7293-4066-84ab-0e0b85631757",
   "metadata": {},
   "source": [
    "# 5.Set\r\n",
    "Sets are used to store multiple items in a single variable.\r\n",
    "\r\n",
    "Set is one of 4 built-in data types in Python used to store collections of data, the other 3 are List, Tuple, and Dictionary, all with different qualities and usage.\r\n",
    "\r\n",
    "A set is a collection which is unordered, unchangeable*, and unindexed.\r\n",
    "\r\n",
    "* Note: Set items are unchangeable, but you can remove items and add new items.\r\n",
    "\r\n",
    "Sets are written with curly brackets."
   ]
  },
  {
   "cell_type": "code",
   "execution_count": 1,
   "id": "52a9a3ff-c4ee-4b50-a3e0-bd534e6040e2",
   "metadata": {},
   "outputs": [
    {
     "name": "stdout",
     "output_type": "stream",
     "text": [
      "{'apple', 'cherry', 'banana'}\n"
     ]
    }
   ],
   "source": [
    "set = {\"apple\", \"banana\", \"cherry\"}\n",
    "print(set)"
   ]
  },
  {
   "cell_type": "markdown",
   "id": "064313b9-7a8f-4078-ae83-c085b5caaa27",
   "metadata": {},
   "source": [
    "Note: Sets are unordered, so you cannot be sure in which order the items will appear.\n",
    "\n",
    "Set Items\n",
    "Set items are unordered, unchangeable, and do not allow duplicate values.\n",
    "\n",
    "* Unordered\n",
    "  \n",
    "Unordered means that the items in a set do not have a defined order.\n",
    "\n",
    "Set items can appear in a different order every time you use them, and cannot be referred to by index or key.\n",
    "\n",
    "* Unchangeable\n",
    "  \n",
    "Set items are unchangeable, meaning that we cannot change the items after the set has been created.\n",
    "\n",
    "Once a set is created, you cannot change its items, but you can remove items and add new items.\n",
    "\n",
    "* Duplicates Not Allowed\n",
    "  \n",
    "Sets cannot have two items with the same value.\n"
   ]
  },
  {
   "cell_type": "raw",
   "id": "f0c3e486-9f12-472d-8f35-952b17c82369",
   "metadata": {},
   "source": [
    "Duplicate values will be ignored"
   ]
  },
  {
   "cell_type": "code",
   "execution_count": 2,
   "id": "73d82adb-7595-4bc4-ab7f-2faceab0cdae",
   "metadata": {},
   "outputs": [
    {
     "name": "stdout",
     "output_type": "stream",
     "text": [
      "{'apple', 'cherry', 'banana'}\n"
     ]
    }
   ],
   "source": [
    "set = {\"apple\", \"banana\", \"cherry\", \"apple\"}\n",
    "print(set)"
   ]
  },
  {
   "cell_type": "raw",
   "id": "8f95822e-7df5-4c88-ae1b-81ef40477f1f",
   "metadata": {},
   "source": [
    "True and 1 is considered the same value:"
   ]
  },
  {
   "cell_type": "code",
   "execution_count": 3,
   "id": "3840e35d-dd7e-4e49-b024-5b76be61a300",
   "metadata": {},
   "outputs": [
    {
     "name": "stdout",
     "output_type": "stream",
     "text": [
      "{True, 2, 'apple', 'cherry', 'banana'}\n"
     ]
    }
   ],
   "source": [
    "set = {\"apple\", \"banana\", \"cherry\", True, 1, 2}\n",
    "print(set)"
   ]
  },
  {
   "cell_type": "raw",
   "id": "06012b91-81f1-4490-940d-81c7b598a3e0",
   "metadata": {},
   "source": [
    "Note: The values False and 0 are considered the same value in sets, and are treated as duplicates:\n",
    "False and 0 is considered the same value:"
   ]
  },
  {
   "cell_type": "code",
   "execution_count": 4,
   "id": "5c52fb9d-eb25-4132-a492-389089815f27",
   "metadata": {},
   "outputs": [
    {
     "name": "stdout",
     "output_type": "stream",
     "text": [
      "{False, True, 'apple', 'cherry', 'banana'}\n"
     ]
    }
   ],
   "source": [
    "thisset = {\"apple\", \"banana\", \"cherry\", False, True, 0}\n",
    "print(thisset)"
   ]
  },
  {
   "cell_type": "markdown",
   "id": "742719df-da92-4bea-a059-14d104fb36e4",
   "metadata": {},
   "source": [
    "* Get the Length of a Set\n",
    "\n",
    "To determine how many items a set has, use the len() function.\n",
    "\n",
    "Get the number of items in a set:"
   ]
  },
  {
   "cell_type": "code",
   "execution_count": 5,
   "id": "3d84dd68-935e-4e23-bcae-7ce5a4bdd40d",
   "metadata": {},
   "outputs": [
    {
     "name": "stdout",
     "output_type": "stream",
     "text": [
      "3\n"
     ]
    }
   ],
   "source": [
    "thisset = {\"apple\", \"banana\", \"cherry\"}\n",
    "print(len(thisset))"
   ]
  },
  {
   "cell_type": "markdown",
   "id": "199b4f3f-7b6b-49e6-a5e3-6a101154e8fd",
   "metadata": {},
   "source": [
    "* Set Items - Data Types\n",
    "\n",
    "Set items can be of any data type:\n",
    "String, int and boolean data types:"
   ]
  },
  {
   "cell_type": "code",
   "execution_count": 6,
   "id": "7b70dec8-36d0-491d-9cbb-40f44d75a651",
   "metadata": {},
   "outputs": [
    {
     "name": "stdout",
     "output_type": "stream",
     "text": [
      "{'apple', 'cherry', 'banana'}\n"
     ]
    }
   ],
   "source": [
    "set1 = {\"apple\", \"banana\", \"cherry\"}\n",
    "set2 = {1, 5, 7, 9, 3}\n",
    "set3 = {True, False, False}\n",
    "print(set1)\n"
   ]
  },
  {
   "cell_type": "raw",
   "id": "cfde5b40-1b56-4409-893e-5b9cdb08b059",
   "metadata": {},
   "source": [
    "A set can contain different data types:\n",
    "A set with strings, integers and boolean values:"
   ]
  },
  {
   "cell_type": "code",
   "execution_count": 7,
   "id": "5899fe68-5011-4085-80bb-7d94f262e6b0",
   "metadata": {},
   "outputs": [
    {
     "name": "stdout",
     "output_type": "stream",
     "text": [
      "{True, 34, 'male', 'abc', 40}\n"
     ]
    }
   ],
   "source": [
    "set1 = {\"abc\", 34, True, 40, \"male\"}\n",
    "print(set1)"
   ]
  },
  {
   "cell_type": "markdown",
   "id": "cf1640f6-7adf-4adf-9bea-e7908b201034",
   "metadata": {},
   "source": [
    "* type()\n",
    "\n",
    "From Python's perspective, sets are defined as objects with the data type 'set':"
   ]
  },
  {
   "cell_type": "raw",
   "id": "322d87d8-e886-437a-ab9a-a1ee66589150",
   "metadata": {},
   "source": [
    "data type of a set"
   ]
  },
  {
   "cell_type": "code",
   "execution_count": 8,
   "id": "41cdb613-a534-4a71-a875-6dd06c636c89",
   "metadata": {},
   "outputs": [
    {
     "name": "stdout",
     "output_type": "stream",
     "text": [
      "<class 'set'>\n"
     ]
    }
   ],
   "source": [
    "myset = {\"apple\", \"banana\", \"cherry\"}\n",
    "print(type(myset))"
   ]
  },
  {
   "cell_type": "markdown",
   "id": "84d80d86-db74-468e-9dc5-2dc883991391",
   "metadata": {},
   "source": [
    "* The set() Constructor\n",
    "\n",
    "It is also possible to use the set() constructor to make a set."
   ]
  },
  {
   "cell_type": "raw",
   "id": "6acc4c5a-2547-483c-b515-64509d773de5",
   "metadata": {},
   "source": [
    "Using the set() constructor to make a set:"
   ]
  },
  {
   "cell_type": "markdown",
   "id": "01c2ac82-39cf-4e11-ab3a-1da4c9023893",
   "metadata": {},
   "source": [
    "# Set Methods\n",
    "Python has a set of built-in mathods that can use on sets."
   ]
  },
  {
   "cell_type": "raw",
   "id": "dec2cf48-cc41-4158-b65a-f6aff49efba2",
   "metadata": {},
   "source": [
    "Mathod                 Shortcut       Description\n",
    "\n",
    "add()                             Adds an element to the set         \n",
    "clear()                           Removes all the elements from the set\n",
    "copy()                            Returns a copy of the set\n",
    "difference()            -         Returns a set containing the difference between two or more sets\n",
    "difference_update()     -=        Removes the items in this set that are also included in another, specified set\n",
    "discard()                         Remove the specified item\n",
    "intersection()          &         Returns a set, that is the intersection of two other sets\n",
    "intersection_update()   &=        Removes the items in this set that are not present in other, specified set(s)\n",
    "isdisjoint()                      Returns whether two sets have a intersection or not\n",
    "issubset()              <=        Returns whether another set contains this set or not\n",
    "                        <         Returns whether all items in this set is present in other, specified set(s)\n",
    "issuperset()            >=        Returns whether this set contains another set or not\n",
    "                        >         Returns whether all items in other, specified set(s) is present in this set\n",
    "pop()                             Removes an element from the set\n",
    "remove()                          Removes the specified element\n",
    "symmetric_difference()  ^         Returns a set with the symmetric differences of two sets\n",
    "union()                 |         Return a set containing the union of sets\n",
    "update()                |=        Update the set with the union of this set and others"
   ]
  }
 ],
 "metadata": {
  "kernelspec": {
   "display_name": "Python 3 (ipykernel)",
   "language": "python",
   "name": "python3"
  },
  "language_info": {
   "codemirror_mode": {
    "name": "ipython",
    "version": 3
   },
   "file_extension": ".py",
   "mimetype": "text/x-python",
   "name": "python",
   "nbconvert_exporter": "python",
   "pygments_lexer": "ipython3",
   "version": "3.11.7"
  }
 },
 "nbformat": 4,
 "nbformat_minor": 5
}
